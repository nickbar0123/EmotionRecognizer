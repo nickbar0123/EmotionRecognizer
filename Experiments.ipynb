{
 "cells": [
  {
   "cell_type": "code",
   "execution_count": 10,
   "metadata": {
    "collapsed": true
   },
   "outputs": [],
   "source": [
    "import sys\n",
    "\n",
    "import sklearn\n",
    "import pandas as pd\n",
    "import matplotlib as mpl\n",
    "import matplotlib.pyplot as plt\n",
    "import numpy as np\n",
    "import keras\n",
    "\n",
    "%matplotlib inline"
   ]
  },
  {
   "cell_type": "code",
   "execution_count": 11,
   "metadata": {
    "collapsed": true
   },
   "outputs": [],
   "source": [
    "import pickle\n",
    "\n",
    "from keras import layers, Model\n",
    "from keras.models import Sequential\n",
    "from keras.layers import Dense, Dropout, Activation, Flatten\n",
    "from keras.layers import Convolution2D, MaxPooling2D\n",
    "from keras.layers import ZeroPadding2D, Input\n",
    "from keras.callbacks import ModelCheckpoint, TensorBoard\n",
    "from keras.utils import np_utils\n",
    "from keras.layers.normalization import BatchNormalization"
   ]
  },
  {
   "cell_type": "code",
   "execution_count": 12,
   "metadata": {
    "collapsed": true
   },
   "outputs": [],
   "source": [
    "with open(\"faces_dataset_conv.pickle\", \"rb\") as f:\n",
    "    data = pickle.load(f)"
   ]
  },
  {
   "cell_type": "code",
   "execution_count": 25,
   "metadata": {
    "collapsed": true
   },
   "outputs": [],
   "source": [
    "train_ds = data[\"train_dataset\"]\n",
    "train_labels = data[\"train_labels\"]\n",
    "pub_test_ds = data[\"public_test\"]\n",
    "pub_test_labels = data[\"public_test_labels\"]\n",
    "priv_test_ds = data[\"private_test\"]\n",
    "priv_test_labels = data[\"private_test_labels\"]"
   ]
  },
  {
   "cell_type": "code",
   "execution_count": 26,
   "metadata": {
    "collapsed": true
   },
   "outputs": [],
   "source": [
    "priv_test_labels_no_cat = priv_test_labels"
   ]
  },
  {
   "cell_type": "code",
   "execution_count": 27,
   "metadata": {
    "collapsed": true
   },
   "outputs": [],
   "source": [
    "train_ds_inv = train_ds.reshape(train_ds.shape[0], 48, 48, 1)\n",
    "pub_test_ds_inv = pub_test_ds.reshape(pub_test_ds.shape[0], 48, 48, 1)\n",
    "priv_test_ds_inv = priv_test_ds.reshape(priv_test_ds.shape[0],48, 48, 1)\n",
    "train_bigger_inv = np.vstack([train_ds_inv, pub_test_ds_inv])\n",
    "\n",
    "train_labels = np_utils.to_categorical(train_labels, 7)\n",
    "pub_test_labels = np_utils.to_categorical(pub_test_labels, 7)\n",
    "priv_test_labels = np_utils.to_categorical(priv_test_labels, 7)\n",
    "train_bigger_labels = np.concatenate([train_labels, pub_test_labels])"
   ]
  },
  {
   "cell_type": "code",
   "execution_count": 15,
   "metadata": {
    "collapsed": true
   },
   "outputs": [],
   "source": [
    "def get_model(weights=None):\n",
    "    model = Sequential()\n",
    "    model.add(ZeroPadding2D(padding=(1, 1), input_shape=(48, 48, 1)))\n",
    "    model.add(Convolution2D(filters=1, kernel_size=1))\n",
    "    model.add(BatchNormalization())\n",
    "    model.add(Activation(\"relu\"))\n",
    "    model.add(Dropout(0.1))\n",
    "    \n",
    "    model.add(ZeroPadding2D(padding=(1, 1)))\n",
    "    model.add(Convolution2D(filters=8, kernel_size=2))\n",
    "    model.add(BatchNormalization())\n",
    "    model.add(Activation(\"relu\"))\n",
    "    \n",
    "    model.add(Convolution2D(filters=16, kernel_size=2, padding=\"same\"))\n",
    "    model.add(BatchNormalization())\n",
    "    model.add(Activation(\"relu\"))\n",
    "    \n",
    "    model.add(ZeroPadding2D(padding=(2, 2)))\n",
    "    model.add(Convolution2D(filters=32, kernel_size=3))\n",
    "    model.add(BatchNormalization())\n",
    "    model.add(Activation(\"relu\"))\n",
    "    \n",
    "    model.add(ZeroPadding2D(padding=(2, 2)))\n",
    "    model.add(Convolution2D(filters=64, kernel_size=3))\n",
    "    model.add(BatchNormalization())\n",
    "    model.add(Activation(\"relu\"))\n",
    "    model.add(Dropout(0.3))\n",
    "\n",
    "    model.add(MaxPooling2D(pool_size=2, strides=1))\n",
    "#     model.add(Dropout(0.2))\n",
    "    \n",
    "    model.add(ZeroPadding2D(padding=(3, 3)))\n",
    "    model.add(Convolution2D(filters=128, kernel_size=4))\n",
    "    model.add(BatchNormalization())\n",
    "    model.add(Activation(\"relu\"))\n",
    "    \n",
    "    model.add(Convolution2D(filters=128, kernel_size=4, padding=\"same\"))\n",
    "    model.add(BatchNormalization())\n",
    "    model.add(Activation(\"relu\"))\n",
    "    \n",
    "    model.add(MaxPooling2D(pool_size=2, strides=2))\n",
    "    model.add(Dropout(0.2))\n",
    "    print(model.output_shape)\n",
    "    model.add(ZeroPadding2D(padding=(2, 2)))\n",
    "    model.add(Convolution2D(filters=64, kernel_size=3))\n",
    "    model.add(BatchNormalization())\n",
    "    model.add(Activation(\"relu\"))\n",
    "    model.add(Dropout(0.3))\n",
    "    \n",
    "    model.add(ZeroPadding2D(padding=(2, 2)))\n",
    "    model.add(Convolution2D(filters=32, kernel_size=3))\n",
    "    model.add(BatchNormalization())\n",
    "    model.add(Activation(\"relu\"))\n",
    "    \n",
    "    model.add(Convolution2D(filters=16, kernel_size=2, padding=\"same\"))\n",
    "    model.add(BatchNormalization())\n",
    "    model.add(Activation(\"relu\"))\n",
    "    \n",
    "    model.add(Flatten())\n",
    "    ##fully connected\n",
    "    model.add(Dense(units=512))\n",
    "    model.add(BatchNormalization())\n",
    "    model.add(Activation(\"relu\"))\n",
    "    model.add(Dropout(0.4))\n",
    "    \n",
    "    model.add(Dense(units=256))\n",
    "    model.add(BatchNormalization())\n",
    "    model.add(Activation(\"relu\"))\n",
    "    model.add(Dropout(0.6))\n",
    "    \n",
    "    model.add(Dense(units=7, activation=\"softmax\"))\n",
    "    \n",
    "    if weights:\n",
    "        model.load_weights(weights)\n",
    "    \n",
    "    return model"
   ]
  },
  {
   "cell_type": "code",
   "execution_count": 16,
   "metadata": {
    "collapsed": false
   },
   "outputs": [
    {
     "name": "stdout",
     "output_type": "stream",
     "text": [
      "(None, 28, 28, 128)\n"
     ]
    }
   ],
   "source": [
    "model = get_model()"
   ]
  },
  {
   "cell_type": "code",
   "execution_count": 9,
   "metadata": {
    "collapsed": false
   },
   "outputs": [
    {
     "name": "stdout",
     "output_type": "stream",
     "text": [
      "_________________________________________________________________\n",
      "Layer (type)                 Output Shape              Param #   \n",
      "=================================================================\n",
      "zero_padding2d_1 (ZeroPaddin (None, 50, 50, 1)         0         \n",
      "_________________________________________________________________\n",
      "conv2d_1 (Conv2D)            (None, 50, 50, 1)         2         \n",
      "_________________________________________________________________\n",
      "batch_normalization_1 (Batch (None, 50, 50, 1)         4         \n",
      "_________________________________________________________________\n",
      "activation_1 (Activation)    (None, 50, 50, 1)         0         \n",
      "_________________________________________________________________\n",
      "dropout_1 (Dropout)          (None, 50, 50, 1)         0         \n",
      "_________________________________________________________________\n",
      "zero_padding2d_2 (ZeroPaddin (None, 52, 52, 1)         0         \n",
      "_________________________________________________________________\n",
      "conv2d_2 (Conv2D)            (None, 51, 51, 8)         40        \n",
      "_________________________________________________________________\n",
      "batch_normalization_2 (Batch (None, 51, 51, 8)         32        \n",
      "_________________________________________________________________\n",
      "activation_2 (Activation)    (None, 51, 51, 8)         0         \n",
      "_________________________________________________________________\n",
      "conv2d_3 (Conv2D)            (None, 51, 51, 16)        528       \n",
      "_________________________________________________________________\n",
      "batch_normalization_3 (Batch (None, 51, 51, 16)        64        \n",
      "_________________________________________________________________\n",
      "activation_3 (Activation)    (None, 51, 51, 16)        0         \n",
      "_________________________________________________________________\n",
      "zero_padding2d_3 (ZeroPaddin (None, 55, 55, 16)        0         \n",
      "_________________________________________________________________\n",
      "conv2d_4 (Conv2D)            (None, 53, 53, 32)        4640      \n",
      "_________________________________________________________________\n",
      "batch_normalization_4 (Batch (None, 53, 53, 32)        128       \n",
      "_________________________________________________________________\n",
      "activation_4 (Activation)    (None, 53, 53, 32)        0         \n",
      "_________________________________________________________________\n",
      "zero_padding2d_4 (ZeroPaddin (None, 57, 57, 32)        0         \n",
      "_________________________________________________________________\n",
      "conv2d_5 (Conv2D)            (None, 55, 55, 64)        18496     \n",
      "_________________________________________________________________\n",
      "batch_normalization_5 (Batch (None, 55, 55, 64)        256       \n",
      "_________________________________________________________________\n",
      "activation_5 (Activation)    (None, 55, 55, 64)        0         \n",
      "_________________________________________________________________\n",
      "dropout_2 (Dropout)          (None, 55, 55, 64)        0         \n",
      "_________________________________________________________________\n",
      "max_pooling2d_1 (MaxPooling2 (None, 54, 54, 64)        0         \n",
      "_________________________________________________________________\n",
      "zero_padding2d_5 (ZeroPaddin (None, 60, 60, 64)        0         \n",
      "_________________________________________________________________\n",
      "conv2d_6 (Conv2D)            (None, 57, 57, 128)       131200    \n",
      "_________________________________________________________________\n",
      "batch_normalization_6 (Batch (None, 57, 57, 128)       512       \n",
      "_________________________________________________________________\n",
      "activation_6 (Activation)    (None, 57, 57, 128)       0         \n",
      "_________________________________________________________________\n",
      "conv2d_7 (Conv2D)            (None, 57, 57, 128)       262272    \n",
      "_________________________________________________________________\n",
      "batch_normalization_7 (Batch (None, 57, 57, 128)       512       \n",
      "_________________________________________________________________\n",
      "activation_7 (Activation)    (None, 57, 57, 128)       0         \n",
      "_________________________________________________________________\n",
      "max_pooling2d_2 (MaxPooling2 (None, 28, 28, 128)       0         \n",
      "_________________________________________________________________\n",
      "dropout_3 (Dropout)          (None, 28, 28, 128)       0         \n",
      "_________________________________________________________________\n",
      "zero_padding2d_6 (ZeroPaddin (None, 32, 32, 128)       0         \n",
      "_________________________________________________________________\n",
      "conv2d_8 (Conv2D)            (None, 30, 30, 64)        73792     \n",
      "_________________________________________________________________\n",
      "batch_normalization_8 (Batch (None, 30, 30, 64)        256       \n",
      "_________________________________________________________________\n",
      "activation_8 (Activation)    (None, 30, 30, 64)        0         \n",
      "_________________________________________________________________\n",
      "dropout_4 (Dropout)          (None, 30, 30, 64)        0         \n",
      "_________________________________________________________________\n",
      "zero_padding2d_7 (ZeroPaddin (None, 34, 34, 64)        0         \n",
      "_________________________________________________________________\n",
      "conv2d_9 (Conv2D)            (None, 32, 32, 32)        18464     \n",
      "_________________________________________________________________\n",
      "batch_normalization_9 (Batch (None, 32, 32, 32)        128       \n",
      "_________________________________________________________________\n",
      "activation_9 (Activation)    (None, 32, 32, 32)        0         \n",
      "_________________________________________________________________\n",
      "conv2d_10 (Conv2D)           (None, 32, 32, 16)        2064      \n",
      "_________________________________________________________________\n",
      "batch_normalization_10 (Batc (None, 32, 32, 16)        64        \n",
      "_________________________________________________________________\n",
      "activation_10 (Activation)   (None, 32, 32, 16)        0         \n",
      "_________________________________________________________________\n",
      "flatten_1 (Flatten)          (None, 16384)             0         \n",
      "_________________________________________________________________\n",
      "dense_1 (Dense)              (None, 512)               8389120   \n",
      "_________________________________________________________________\n",
      "batch_normalization_11 (Batc (None, 512)               2048      \n",
      "_________________________________________________________________\n",
      "activation_11 (Activation)   (None, 512)               0         \n",
      "_________________________________________________________________\n",
      "dropout_5 (Dropout)          (None, 512)               0         \n",
      "_________________________________________________________________\n",
      "dense_2 (Dense)              (None, 256)               131328    \n",
      "_________________________________________________________________\n",
      "batch_normalization_12 (Batc (None, 256)               1024      \n",
      "_________________________________________________________________\n",
      "activation_12 (Activation)   (None, 256)               0         \n",
      "_________________________________________________________________\n",
      "dropout_6 (Dropout)          (None, 256)               0         \n",
      "_________________________________________________________________\n",
      "dense_3 (Dense)              (None, 7)                 1799      \n",
      "=================================================================\n",
      "Total params: 9,038,773\n",
      "Trainable params: 9,036,259\n",
      "Non-trainable params: 2,514\n",
      "_________________________________________________________________\n"
     ]
    }
   ],
   "source": [
    "model.summary()"
   ]
  },
  {
   "cell_type": "code",
   "execution_count": 12,
   "metadata": {
    "collapsed": true
   },
   "outputs": [],
   "source": [
    "filepath = \"weights-improvement-{val_loss:.2f}-{val_acc:.4f}.hdf5\"\n",
    "checkpoint = ModelCheckpoint(filepath, monitor='val_acc', verbose=1, save_best_only=True, mode='max')\n",
    "callback_list = [checkpoint]"
   ]
  },
  {
   "cell_type": "code",
   "execution_count": 21,
   "metadata": {
    "collapsed": false
   },
   "outputs": [
    {
     "data": {
      "text/plain": [
       "35454"
      ]
     },
     "execution_count": 21,
     "metadata": {},
     "output_type": "execute_result"
    }
   ],
   "source": [
    "# del model\n",
    "import gc\n",
    "# del model_res\n",
    "gc.collect()"
   ]
  },
  {
   "cell_type": "code",
   "execution_count": 54,
   "metadata": {
    "collapsed": true
   },
   "outputs": [],
   "source": [
    "def get_module_with_residules(weights=None):\n",
    "    img_input = Input((48, 48, 1))\n",
    "    \n",
    "    x = Convolution2D(32, (3, 3), strides=(1, 1), use_bias=False, padding='same')(img_input)\n",
    "    \n",
    "#     x = Convolution2D(32, (3, 3), strides=(1, 1), use_bias=False, padding='same')(x)\n",
    "\n",
    "    x = BatchNormalization()(x)\n",
    "    \n",
    "    x = MaxPooling2D((3, 3), strides=(1, 1), padding='same')(x)\n",
    "    x = Dropout(0.1)(x)\n",
    "\n",
    "    x = Convolution2D(32, (3, 3), strides=(1, 1), use_bias=False, padding='same')(x)\n",
    "    \n",
    "#     x = Convolution2D(32, (3, 3), strides=(1, 1), use_bias=False, padding='same')(x)\n",
    "\n",
    "    x = BatchNormalization()(x)\n",
    "    \n",
    "    x = MaxPooling2D((3, 3), strides=(1, 1), padding='same')(x)\n",
    "    x = Dropout(0.2)(x)\n",
    "    \n",
    "    print(x.shape)\n",
    "\n",
    "    \n",
    "#     x = layers.add([x, residual])\n",
    "    \n",
    "#     residual = Convolution2D(64, (3, 3), strides=(1, 1), use_bias=False, padding=\"same\")(x)\n",
    "#     residual = MaxPooling2D((3, 3), strides=(2, 2), padding='same')(residual)\n",
    "#     residual = BatchNormalization()(residual)\n",
    "    \n",
    "    x = Convolution2D(64, (3, 3), strides=(1, 1), use_bias=False, padding='same')(x)\n",
    "    \n",
    "#     x = Convolution2D(64, (3, 3), strides=(1, 1), use_bias=False, padding='same')(x)\n",
    "\n",
    "    x = BatchNormalization()(x)\n",
    "    \n",
    "    x = MaxPooling2D((3, 3), strides=(1, 1), padding='same')(x)\n",
    "    x = Dropout(0.3)(x)\n",
    "\n",
    "\n",
    "    x = Convolution2D(64, (3, 3), strides=(1, 1), use_bias=False, padding='same')(x)\n",
    "    \n",
    "#     x = Convolution2D(64, (3, 3), strides=(1, 1), use_bias=False,padding='same')(x)\n",
    "\n",
    "    x = BatchNormalization()(x)\n",
    "   \n",
    "    x = MaxPooling2D((3, 3), strides=(2, 2), padding='same')(x)\n",
    "#     x = Dropout(0.4)(x)\n",
    "\n",
    "    \n",
    "#     x = layers.add([x, residual])\n",
    "    \n",
    "#     residual = Convolution2D(128, (3, 3), strides=(1, 1),\n",
    "#                       padding='same', use_bias=False)(x)\n",
    "#     residual = MaxPooling2D((3, 3), strides=(2, 2), padding='same')(residual)\n",
    "\n",
    "#     residual = BatchNormalization()(residual)\n",
    "    \n",
    "    x = Convolution2D(128, (3, 3), strides=(1, 1), use_bias=False, padding='same')(x)\n",
    "    \n",
    "#     x = Convolution2D(128, (3, 3), strides=(1, 1), use_bias=False,padding='same')(x)\n",
    "\n",
    "    x = BatchNormalization()(x)\n",
    "    \n",
    "    x = MaxPooling2D((3, 3), strides=(1, 1), padding='same')(x)\n",
    "#     x = Dropout(0.4)(x)\n",
    "\n",
    "\n",
    "    x = Convolution2D(128, (3, 3), strides=(1, 1), use_bias=False,padding='same')(x)\n",
    "    \n",
    "#     x = Convolution2D(128, (3, 3), strides=(1, 1), use_bias=False,padding='same')(x)\n",
    "\n",
    "    x = BatchNormalization()(x)\n",
    "    \n",
    "    x = MaxPooling2D((3, 3), strides=(2, 2), padding='same')(x)\n",
    "    x = Dropout(0.4)(x)\n",
    "\n",
    "    \n",
    "#     x = layers.add([x, residual])\n",
    "    x = Flatten()(x)\n",
    "    x = Dense(units=512, activation=\"relu\")(x)\n",
    "    x = Dropout(0.5)(x)\n",
    "    x = Dense(units=256, activation=\"relu\")(x)\n",
    "    x = Dropout(0.5)(x)    \n",
    "    x = Dense(units=7, activation=\"softmax\")(x)\n",
    "#     output = Activation('softmax',name='predictions')(x)\n",
    "    model = Model(img_input, x)\n",
    "    return model\n",
    "\n"
   ]
  },
  {
   "cell_type": "code",
   "execution_count": 55,
   "metadata": {
    "collapsed": false
   },
   "outputs": [
    {
     "name": "stdout",
     "output_type": "stream",
     "text": [
      "(?, 48, 48, 32)\n"
     ]
    }
   ],
   "source": [
    "model_res = get_module_with_residules()"
   ]
  },
  {
   "cell_type": "code",
   "execution_count": 3,
   "metadata": {
    "collapsed": true
   },
   "outputs": [],
   "source": [
    "from keras.utils import multi_gpu_model\n",
    "# model_res = multi_gpu_model(model_res, gpus=2)"
   ]
  },
  {
   "cell_type": "code",
   "execution_count": 7,
   "metadata": {
    "collapsed": true
   },
   "outputs": [],
   "source": [
    "from keras.optimizers import Adam"
   ]
  },
  {
   "cell_type": "code",
   "execution_count": 57,
   "metadata": {
    "collapsed": false
   },
   "outputs": [
    {
     "name": "stdout",
     "output_type": "stream",
     "text": [
      "Train on 28709 samples, validate on 3589 samples\n",
      "Epoch 1/1\n",
      "28709/28709 [==============================] - 45s 2ms/step - loss: 12.0522 - acc: 0.2509 - val_loss: 12.0987 - val_acc: 0.2494\n",
      "\n",
      "Epoch 00001: val_acc did not improve from 0.51156\n"
     ]
    }
   ],
   "source": [
    "model_res.compile(loss='categorical_crossentropy',\n",
    "              optimizer=Adam(lr=0.01, beta_1=0.9, beta_2=0.999, epsilon=1e-7),\n",
    "              metrics=['accuracy'])\n",
    "history_res = model_res.fit(train_ds_inv, train_labels, \n",
    "          batch_size=64, validation_data=[pub_test_ds_inv, pub_test_labels], epochs=1, verbose=1, callbacks=callback_list)"
   ]
  },
  {
   "cell_type": "code",
   "execution_count": 44,
   "metadata": {
    "collapsed": false
   },
   "outputs": [
    {
     "name": "stdout",
     "output_type": "stream",
     "text": [
      "Train on 28709 samples, validate on 3589 samples\n",
      "Epoch 1/2\n",
      "28709/28709 [==============================] - 47s 2ms/step - loss: 1.2803 - acc: 0.5123 - val_loss: 1.3638 - val_acc: 0.4912\n",
      "\n",
      "Epoch 00001: val_acc improved from 0.48370 to 0.49122, saving model to weights-improvement-1.36-0.4912.hdf5\n",
      "Epoch 2/2\n",
      "28709/28709 [==============================] - 42s 1ms/step - loss: 1.1579 - acc: 0.5620 - val_loss: 1.3088 - val_acc: 0.5116\n",
      "\n",
      "Epoch 00002: val_acc improved from 0.49122 to 0.51156, saving model to weights-improvement-1.31-0.5116.hdf5\n"
     ]
    }
   ],
   "source": [
    "model_res.compile(loss='categorical_crossentropy',\n",
    "              optimizer='adam',\n",
    "              metrics=['accuracy'])\n",
    "history_res = model_res.fit(train_ds_inv, train_labels, \n",
    "          batch_size=64, validation_data=[pub_test_ds_inv, pub_test_labels], epochs=2, verbose=1, callbacks=callback_list)"
   ]
  },
  {
   "cell_type": "markdown",
   "metadata": {},
   "source": [
    "## try normal conv net"
   ]
  },
  {
   "cell_type": "code",
   "execution_count": 8,
   "metadata": {
    "collapsed": true
   },
   "outputs": [],
   "source": [
    "def get_model_normal(weights=None):\n",
    "    model = Sequential()\n",
    "    filters = 64\n",
    "    model.add(Convolution2D(filters, input_shape=(48, 48, 1), kernel_size=(3, 3), strides=(1, 1), use_bias=False, padding='same'))\n",
    "    model.add(BatchNormalization())\n",
    "    model.add(Convolution2D(filters, kernel_size=(3, 3), strides=(1, 1), use_bias=False, padding='same'))\n",
    "\n",
    "    model.add(MaxPooling2D((2, 2), strides=(2, 2), padding='same'))\n",
    "    model.add(Dropout(0.5))\n",
    "    \n",
    "    model.add(Convolution2D(2 * filters, kernel_size=(3, 3), strides=(1, 1), use_bias=False, padding='same'))\n",
    "    model.add(BatchNormalization())\n",
    "    model.add(Convolution2D(2 * filters, kernel_size=(3, 3), strides=(1, 1), use_bias=False, padding='same'))\n",
    "\n",
    "    model.add(MaxPooling2D((2, 2), strides=(2, 2), padding='same'))\n",
    "    model.add(Dropout(0.5))\n",
    "    \n",
    "    model.add(Convolution2D(4 * filters, kernel_size=(3, 3), strides=(1, 1), use_bias=False, padding='same'))\n",
    "    model.add(BatchNormalization())\n",
    "    model.add(Convolution2D(2 * filters, kernel_size=(3, 3), strides=(1, 1), use_bias=False, padding='same'))\n",
    "\n",
    "    model.add(MaxPooling2D((2, 2), strides=(2, 2), padding='same'))\n",
    "    model.add(Dropout(0.5))\n",
    "    \n",
    "    model.add(Convolution2D(8 * filters, kernel_size=(3, 3), strides=(1, 1), use_bias=False, padding='same'))\n",
    "    model.add(BatchNormalization())\n",
    "    model.add(Convolution2D(2 * filters, kernel_size=(3, 3), strides=(1, 1), use_bias=False, padding='same'))\n",
    "\n",
    "    model.add(MaxPooling2D((2, 2), strides=(2, 2), padding='same'))\n",
    "    model.add(Dropout(0.5))\n",
    "    \n",
    "    model.add(Flatten())\n",
    "    model.add(Dense(8 * filters, activation=\"relu\"))\n",
    "    model.add(Dropout(0.5))\n",
    "\n",
    "    model.add(Dense(4 * filters, activation=\"relu\"))  \n",
    "    model.add(Dropout(0.5))\n",
    "\n",
    "    model.add(Dense(2 * filters, activation=\"relu\"))\n",
    "    model.add(Dropout(0.5))\n",
    "\n",
    "    model.add(Dense(7, activation='softmax'))\n",
    "    return model"
   ]
  },
  {
   "cell_type": "code",
   "execution_count": 66,
   "metadata": {
    "collapsed": false
   },
   "outputs": [
    {
     "name": "stdout",
     "output_type": "stream",
     "text": [
      "_________________________________________________________________\n",
      "Layer (type)                 Output Shape              Param #   \n",
      "=================================================================\n",
      "conv2d_174 (Conv2D)          (None, 48, 48, 64)        576       \n",
      "_________________________________________________________________\n",
      "batch_normalization_122 (Bat (None, 48, 48, 64)        256       \n",
      "_________________________________________________________________\n",
      "max_pooling2d_105 (MaxPoolin (None, 24, 24, 64)        0         \n",
      "_________________________________________________________________\n",
      "dropout_62 (Dropout)         (None, 24, 24, 64)        0         \n",
      "_________________________________________________________________\n",
      "conv2d_175 (Conv2D)          (None, 24, 24, 128)       73728     \n",
      "_________________________________________________________________\n",
      "batch_normalization_123 (Bat (None, 24, 24, 128)       512       \n",
      "_________________________________________________________________\n",
      "max_pooling2d_106 (MaxPoolin (None, 12, 12, 128)       0         \n",
      "_________________________________________________________________\n",
      "dropout_63 (Dropout)         (None, 12, 12, 128)       0         \n",
      "_________________________________________________________________\n",
      "conv2d_176 (Conv2D)          (None, 12, 12, 256)       294912    \n",
      "_________________________________________________________________\n",
      "batch_normalization_124 (Bat (None, 12, 12, 256)       1024      \n",
      "_________________________________________________________________\n",
      "max_pooling2d_107 (MaxPoolin (None, 6, 6, 256)         0         \n",
      "_________________________________________________________________\n",
      "dropout_64 (Dropout)         (None, 6, 6, 256)         0         \n",
      "_________________________________________________________________\n",
      "conv2d_177 (Conv2D)          (None, 6, 6, 512)         1179648   \n",
      "_________________________________________________________________\n",
      "batch_normalization_125 (Bat (None, 6, 6, 512)         2048      \n",
      "_________________________________________________________________\n",
      "max_pooling2d_108 (MaxPoolin (None, 3, 3, 512)         0         \n",
      "_________________________________________________________________\n",
      "dropout_65 (Dropout)         (None, 3, 3, 512)         0         \n",
      "_________________________________________________________________\n",
      "flatten_14 (Flatten)         (None, 4608)              0         \n",
      "_________________________________________________________________\n",
      "dense_46 (Dense)             (None, 512)               2359808   \n",
      "_________________________________________________________________\n",
      "dropout_66 (Dropout)         (None, 512)               0         \n",
      "_________________________________________________________________\n",
      "dense_47 (Dense)             (None, 256)               131328    \n",
      "_________________________________________________________________\n",
      "dropout_67 (Dropout)         (None, 256)               0         \n",
      "_________________________________________________________________\n",
      "dense_48 (Dense)             (None, 128)               32896     \n",
      "_________________________________________________________________\n",
      "dropout_68 (Dropout)         (None, 128)               0         \n",
      "_________________________________________________________________\n",
      "dense_49 (Dense)             (None, 7)                 903       \n",
      "=================================================================\n",
      "Total params: 4,077,639\n",
      "Trainable params: 4,075,719\n",
      "Non-trainable params: 1,920\n",
      "_________________________________________________________________\n"
     ]
    }
   ],
   "source": [
    "get_model_normal().summary()"
   ]
  },
  {
   "cell_type": "code",
   "execution_count": 9,
   "metadata": {
    "collapsed": true
   },
   "outputs": [],
   "source": [
    "from keras.callbacks import EarlyStopping, ReduceLROnPlateau"
   ]
  },
  {
   "cell_type": "code",
   "execution_count": 80,
   "metadata": {
    "collapsed": false
   },
   "outputs": [
    {
     "name": "stdout",
     "output_type": "stream",
     "text": [
      "Train on 28709 samples, validate on 3589 samples\n",
      "Epoch 1/100\n",
      "28709/28709 [==============================] - 41s 1ms/step - loss: 2.0732 - acc: 0.2043 - val_loss: 1.8303 - val_acc: 0.2494\n",
      "\n",
      "Epoch 00001: val_acc improved from -inf to 0.24937, saving model to weights-improvement-1.83-0.2494.hdf5\n",
      "Epoch 2/100\n",
      "28709/28709 [==============================] - 28s 983us/step - loss: 1.8351 - acc: 0.2448 - val_loss: 1.8184 - val_acc: 0.2494\n",
      "\n",
      "Epoch 00002: val_acc did not improve from 0.24937\n",
      "Epoch 3/100\n",
      "28709/28709 [==============================] - 28s 980us/step - loss: 1.8206 - acc: 0.2492 - val_loss: 1.8028 - val_acc: 0.2494\n",
      "\n",
      "Epoch 00003: val_acc did not improve from 0.24937\n",
      "Epoch 4/100\n",
      "28709/28709 [==============================] - 28s 984us/step - loss: 1.8021 - acc: 0.2563 - val_loss: 1.7702 - val_acc: 0.2700\n",
      "\n",
      "Epoch 00004: val_acc improved from 0.24937 to 0.26999, saving model to weights-improvement-1.77-0.2700.hdf5\n",
      "Epoch 5/100\n",
      "28709/28709 [==============================] - 28s 975us/step - loss: 1.7647 - acc: 0.2809 - val_loss: 1.6832 - val_acc: 0.3137\n",
      "\n",
      "Epoch 00005: val_acc improved from 0.26999 to 0.31374, saving model to weights-improvement-1.68-0.3137.hdf5\n",
      "Epoch 6/100\n",
      "28709/28709 [==============================] - 28s 976us/step - loss: 1.7158 - acc: 0.3024 - val_loss: 1.6191 - val_acc: 0.3285\n",
      "\n",
      "Epoch 00006: val_acc improved from 0.31374 to 0.32850, saving model to weights-improvement-1.62-0.3285.hdf5\n",
      "Epoch 7/100\n",
      "28709/28709 [==============================] - 28s 976us/step - loss: 1.6726 - acc: 0.3186 - val_loss: 1.5945 - val_acc: 0.3664\n",
      "\n",
      "Epoch 00007: val_acc improved from 0.32850 to 0.36640, saving model to weights-improvement-1.59-0.3664.hdf5\n",
      "Epoch 8/100\n",
      "28709/28709 [==============================] - 28s 981us/step - loss: 1.6384 - acc: 0.3417 - val_loss: 1.5683 - val_acc: 0.3951\n",
      "\n",
      "Epoch 00008: val_acc improved from 0.36640 to 0.39510, saving model to weights-improvement-1.57-0.3951.hdf5\n",
      "Epoch 9/100\n",
      "28709/28709 [==============================] - 28s 974us/step - loss: 1.6098 - acc: 0.3542 - val_loss: 1.5226 - val_acc: 0.3962\n",
      "\n",
      "Epoch 00009: val_acc improved from 0.39510 to 0.39621, saving model to weights-improvement-1.52-0.3962.hdf5\n",
      "Epoch 10/100\n",
      "28709/28709 [==============================] - 28s 979us/step - loss: 1.5995 - acc: 0.3640 - val_loss: 1.5074 - val_acc: 0.3931\n",
      "\n",
      "Epoch 00010: val_acc did not improve from 0.39621\n",
      "Epoch 11/100\n",
      "28709/28709 [==============================] - 28s 976us/step - loss: 1.5804 - acc: 0.3694 - val_loss: 1.5493 - val_acc: 0.3820\n",
      "\n",
      "Epoch 00011: val_acc did not improve from 0.39621\n",
      "Epoch 12/100\n",
      "28709/28709 [==============================] - 28s 985us/step - loss: 1.5765 - acc: 0.3693 - val_loss: 1.5406 - val_acc: 0.3973\n",
      "\n",
      "Epoch 00012: val_acc improved from 0.39621 to 0.39733, saving model to weights-improvement-1.54-0.3973.hdf5\n",
      "Epoch 13/100\n",
      "28709/28709 [==============================] - 28s 982us/step - loss: 1.5650 - acc: 0.3774 - val_loss: 1.5630 - val_acc: 0.3834\n",
      "\n",
      "Epoch 00013: val_acc did not improve from 0.39733\n",
      "Epoch 14/100\n",
      "28709/28709 [==============================] - 28s 985us/step - loss: 1.5702 - acc: 0.3756 - val_loss: 1.5326 - val_acc: 0.4143\n",
      "\n",
      "Epoch 00014: val_acc improved from 0.39733 to 0.41432, saving model to weights-improvement-1.53-0.4143.hdf5\n",
      "Epoch 15/100\n",
      "28709/28709 [==============================] - 28s 985us/step - loss: 1.5555 - acc: 0.3819 - val_loss: 1.5045 - val_acc: 0.3912\n",
      "\n",
      "Epoch 00015: val_acc did not improve from 0.41432\n",
      "Epoch 16/100\n",
      "28709/28709 [==============================] - 28s 989us/step - loss: 1.5461 - acc: 0.3842 - val_loss: 1.5988 - val_acc: 0.3828\n",
      "\n",
      "Epoch 00016: val_acc did not improve from 0.41432\n",
      "Epoch 17/100\n",
      "28709/28709 [==============================] - 28s 989us/step - loss: 1.5516 - acc: 0.3848 - val_loss: 1.4789 - val_acc: 0.3970\n",
      "\n",
      "Epoch 00017: val_acc did not improve from 0.41432\n",
      "Epoch 18/100\n",
      "28709/28709 [==============================] - 28s 986us/step - loss: 1.5392 - acc: 0.3877 - val_loss: 1.4467 - val_acc: 0.4207\n",
      "\n",
      "Epoch 00018: val_acc improved from 0.41432 to 0.42073, saving model to weights-improvement-1.45-0.4207.hdf5\n",
      "Epoch 19/100\n",
      "28709/28709 [==============================] - 28s 992us/step - loss: 1.5293 - acc: 0.3910 - val_loss: 1.4988 - val_acc: 0.4140\n",
      "\n",
      "Epoch 00019: val_acc did not improve from 0.42073\n",
      "Epoch 20/100\n",
      "28709/28709 [==============================] - 28s 984us/step - loss: 1.5289 - acc: 0.3893 - val_loss: 1.4525 - val_acc: 0.4182\n",
      "\n",
      "Epoch 00020: val_acc did not improve from 0.42073\n",
      "Epoch 21/100\n",
      "28709/28709 [==============================] - 28s 990us/step - loss: 1.5224 - acc: 0.3930 - val_loss: 1.4945 - val_acc: 0.4065\n",
      "\n",
      "Epoch 00021: val_acc did not improve from 0.42073\n",
      "Epoch 22/100\n",
      "28709/28709 [==============================] - 28s 988us/step - loss: 1.5058 - acc: 0.3983 - val_loss: 1.4781 - val_acc: 0.3870\n",
      "\n",
      "Epoch 00022: val_acc did not improve from 0.42073\n",
      "Epoch 23/100\n",
      "28709/28709 [==============================] - 28s 990us/step - loss: 1.5100 - acc: 0.3989 - val_loss: 1.5253 - val_acc: 0.3912\n",
      "\n",
      "Epoch 00023: ReduceLROnPlateau reducing learning rate to 0.0009000000427477062.\n",
      "\n",
      "Epoch 00023: val_acc did not improve from 0.42073\n",
      "Epoch 24/100\n",
      "28709/28709 [==============================] - 29s 995us/step - loss: 1.5090 - acc: 0.3973 - val_loss: 1.4583 - val_acc: 0.4140\n",
      "\n",
      "Epoch 00024: val_acc did not improve from 0.42073\n",
      "Epoch 25/100\n",
      "28709/28709 [==============================] - 28s 987us/step - loss: 1.4916 - acc: 0.4011 - val_loss: 1.4210 - val_acc: 0.4288\n",
      "\n",
      "Epoch 00025: val_acc improved from 0.42073 to 0.42881, saving model to weights-improvement-1.42-0.4288.hdf5\n",
      "Epoch 26/100\n",
      "28709/28709 [==============================] - 28s 988us/step - loss: 1.4944 - acc: 0.4021 - val_loss: 1.4999 - val_acc: 0.4224\n",
      "\n",
      "Epoch 00026: val_acc did not improve from 0.42881\n",
      "Epoch 27/100\n",
      "28709/28709 [==============================] - 28s 984us/step - loss: 1.4856 - acc: 0.4041 - val_loss: 1.4843 - val_acc: 0.3884\n",
      "\n",
      "Epoch 00027: val_acc did not improve from 0.42881\n",
      "Epoch 28/100\n",
      "28709/28709 [==============================] - 28s 990us/step - loss: 1.4855 - acc: 0.4027 - val_loss: 1.4704 - val_acc: 0.4126\n",
      "\n",
      "Epoch 00028: val_acc did not improve from 0.42881\n",
      "Epoch 29/100\n",
      "28709/28709 [==============================] - 28s 988us/step - loss: 1.4778 - acc: 0.4083 - val_loss: 1.4216 - val_acc: 0.4207\n",
      "\n",
      "Epoch 00029: val_acc did not improve from 0.42881\n",
      "Epoch 30/100\n",
      "28709/28709 [==============================] - 28s 975us/step - loss: 1.4664 - acc: 0.4111 - val_loss: 1.4228 - val_acc: 0.4182\n",
      "\n",
      "Epoch 00030: ReduceLROnPlateau reducing learning rate to 0.0008100000384729356.\n",
      "\n",
      "Epoch 00030: val_acc did not improve from 0.42881\n",
      "Epoch 31/100\n",
      "28709/28709 [==============================] - 28s 987us/step - loss: 1.4522 - acc: 0.4169 - val_loss: 1.4268 - val_acc: 0.4193\n",
      "\n",
      "Epoch 00031: val_acc did not improve from 0.42881\n",
      "Epoch 32/100\n",
      "28709/28709 [==============================] - 28s 984us/step - loss: 1.4487 - acc: 0.4165 - val_loss: 1.4014 - val_acc: 0.4344\n",
      "\n",
      "Epoch 00032: val_acc improved from 0.42881 to 0.43438, saving model to weights-improvement-1.40-0.4344.hdf5\n",
      "Epoch 33/100\n",
      "28709/28709 [==============================] - 28s 980us/step - loss: 1.4529 - acc: 0.4113 - val_loss: 1.3970 - val_acc: 0.4305\n",
      "\n",
      "Epoch 00033: val_acc did not improve from 0.43438\n",
      "Epoch 34/100\n",
      "28709/28709 [==============================] - 28s 991us/step - loss: 1.4459 - acc: 0.4169 - val_loss: 1.4256 - val_acc: 0.4263\n",
      "\n",
      "Epoch 00034: val_acc did not improve from 0.43438\n",
      "Epoch 35/100\n",
      "28709/28709 [==============================] - 28s 982us/step - loss: 1.4428 - acc: 0.4170 - val_loss: 1.4261 - val_acc: 0.4166\n",
      "\n",
      "Epoch 00035: val_acc did not improve from 0.43438\n",
      "Epoch 36/100\n",
      "28709/28709 [==============================] - 28s 990us/step - loss: 1.4369 - acc: 0.4194 - val_loss: 1.4406 - val_acc: 0.4157\n",
      "\n",
      "Epoch 00036: val_acc did not improve from 0.43438\n",
      "Epoch 37/100\n",
      "28709/28709 [==============================] - 28s 988us/step - loss: 1.4321 - acc: 0.4203 - val_loss: 1.4403 - val_acc: 0.4179\n",
      "\n",
      "Epoch 00037: ReduceLROnPlateau reducing learning rate to 0.0007290000503417104.\n",
      "\n",
      "Epoch 00037: val_acc did not improve from 0.43438\n",
      "Epoch 38/100\n",
      "28709/28709 [==============================] - 28s 983us/step - loss: 1.4202 - acc: 0.4245 - val_loss: 1.4111 - val_acc: 0.4191\n",
      "\n",
      "Epoch 00038: val_acc did not improve from 0.43438\n",
      "Epoch 39/100\n",
      "28709/28709 [==============================] - 28s 969us/step - loss: 1.4141 - acc: 0.4269 - val_loss: 1.4081 - val_acc: 0.4221\n",
      "\n",
      "Epoch 00039: val_acc did not improve from 0.43438\n",
      "Epoch 40/100\n",
      "28709/28709 [==============================] - 28s 973us/step - loss: 1.4127 - acc: 0.4276 - val_loss: 1.3760 - val_acc: 0.4285\n",
      "\n",
      "Epoch 00040: val_acc did not improve from 0.43438\n",
      "Epoch 00040: early stopping\n"
     ]
    }
   ],
   "source": [
    "norm_model = get_model_normal()\n",
    "model_norm = multi_gpu_model(norm_model, gpus=2)\n",
    "\n",
    "model_norm.compile(loss='categorical_crossentropy',\n",
    "              optimizer=Adam(lr=0.001, beta_1=0.9, beta_2=0.999, epsilon=1e-7),\n",
    "              metrics=['accuracy'])\n",
    "\n",
    "early_stopper = EarlyStopping(monitor='val_acc', min_delta=0, patience=8, verbose=1, mode='auto')\n",
    "lr_reducer = ReduceLROnPlateau(monitor='val_acc', factor=0.9, patience=5, verbose=1)\n",
    "checkpoint = ModelCheckpoint(filepath, monitor='val_acc', verbose=1, save_best_only=True, mode='max')\n",
    "\n",
    "\n",
    "history_res = model_norm.fit(train_ds_inv, train_labels, \n",
    "          batch_size=64, validation_data=[pub_test_ds_inv, pub_test_labels], epochs=100, verbose=1, callbacks=[early_stopper, lr_reducer, checkpoint])"
   ]
  },
  {
   "cell_type": "code",
   "execution_count": 13,
   "metadata": {
    "collapsed": false
   },
   "outputs": [
    {
     "name": "stdout",
     "output_type": "stream",
     "text": [
      "Train on 28709 samples, validate on 3589 samples\n",
      "Epoch 1/100\n",
      "28709/28709 [==============================] - 31s 1ms/step - loss: 2.0262 - acc: 0.2089 - val_loss: 1.8189 - val_acc: 0.2494\n",
      "\n",
      "Epoch 00001: val_acc improved from -inf to 0.24937, saving model to weights-improvement-1.82-0.2494.hdf5\n",
      "Epoch 2/100\n",
      "28709/28709 [==============================] - 26s 920us/step - loss: 1.8364 - acc: 0.2468 - val_loss: 1.8090 - val_acc: 0.2494\n",
      "\n",
      "Epoch 00002: val_acc did not improve from 0.24937\n",
      "Epoch 3/100\n",
      "28709/28709 [==============================] - 26s 916us/step - loss: 1.8264 - acc: 0.2500 - val_loss: 1.8186 - val_acc: 0.2494\n",
      "\n",
      "Epoch 00003: val_acc did not improve from 0.24937\n",
      "Epoch 4/100\n",
      "28709/28709 [==============================] - 26s 919us/step - loss: 1.8113 - acc: 0.2507 - val_loss: 1.7660 - val_acc: 0.2619\n",
      "\n",
      "Epoch 00004: val_acc improved from 0.24937 to 0.26191, saving model to weights-improvement-1.77-0.2619.hdf5\n",
      "Epoch 5/100\n",
      "28709/28709 [==============================] - 26s 916us/step - loss: 1.7698 - acc: 0.2749 - val_loss: 1.6801 - val_acc: 0.3059\n",
      "\n",
      "Epoch 00005: val_acc improved from 0.26191 to 0.30593, saving model to weights-improvement-1.68-0.3059.hdf5\n",
      "Epoch 6/100\n",
      "28709/28709 [==============================] - 26s 918us/step - loss: 1.7230 - acc: 0.2981 - val_loss: 1.6812 - val_acc: 0.3282\n",
      "\n",
      "Epoch 00006: val_acc improved from 0.30593 to 0.32823, saving model to weights-improvement-1.68-0.3282.hdf5\n",
      "Epoch 7/100\n",
      "28709/28709 [==============================] - 26s 916us/step - loss: 1.6869 - acc: 0.3099 - val_loss: 1.5945 - val_acc: 0.3330\n",
      "\n",
      "Epoch 00007: val_acc improved from 0.32823 to 0.33296, saving model to weights-improvement-1.59-0.3330.hdf5\n",
      "Epoch 8/100\n",
      "28709/28709 [==============================] - 26s 918us/step - loss: 1.6544 - acc: 0.3283 - val_loss: 1.5730 - val_acc: 0.3553\n",
      "\n",
      "Epoch 00008: val_acc improved from 0.33296 to 0.35525, saving model to weights-improvement-1.57-0.3553.hdf5\n",
      "Epoch 9/100\n",
      "28709/28709 [==============================] - 26s 913us/step - loss: 1.6302 - acc: 0.3436 - val_loss: 1.5324 - val_acc: 0.3892\n",
      "\n",
      "Epoch 00009: val_acc improved from 0.35525 to 0.38924, saving model to weights-improvement-1.53-0.3892.hdf5\n",
      "Epoch 10/100\n",
      "28709/28709 [==============================] - 26s 916us/step - loss: 1.6189 - acc: 0.3523 - val_loss: 1.6402 - val_acc: 0.3809\n",
      "\n",
      "Epoch 00010: val_acc did not improve from 0.38924\n",
      "Epoch 11/100\n",
      "28709/28709 [==============================] - 26s 921us/step - loss: 1.6058 - acc: 0.3619 - val_loss: 1.5098 - val_acc: 0.3998\n",
      "\n",
      "Epoch 00011: val_acc improved from 0.38924 to 0.39983, saving model to weights-improvement-1.51-0.3998.hdf5\n",
      "Epoch 12/100\n",
      "28709/28709 [==============================] - 26s 917us/step - loss: 1.5927 - acc: 0.3681 - val_loss: 1.5683 - val_acc: 0.3904\n",
      "\n",
      "Epoch 00012: val_acc did not improve from 0.39983\n",
      "Epoch 13/100\n",
      "28709/28709 [==============================] - 26s 915us/step - loss: 1.5996 - acc: 0.3659 - val_loss: 1.5124 - val_acc: 0.4051\n",
      "\n",
      "Epoch 00013: val_acc improved from 0.39983 to 0.40513, saving model to weights-improvement-1.51-0.4051.hdf5\n",
      "Epoch 14/100\n",
      "28709/28709 [==============================] - 26s 918us/step - loss: 1.5834 - acc: 0.3706 - val_loss: 1.5851 - val_acc: 0.3672\n",
      "\n",
      "Epoch 00014: val_acc did not improve from 0.40513\n",
      "Epoch 15/100\n",
      "28709/28709 [==============================] - 26s 913us/step - loss: 1.5824 - acc: 0.3750 - val_loss: 1.4692 - val_acc: 0.4252\n",
      "\n",
      "Epoch 00015: val_acc improved from 0.40513 to 0.42519, saving model to weights-improvement-1.47-0.4252.hdf5\n",
      "Epoch 16/100\n",
      "28709/28709 [==============================] - 26s 919us/step - loss: 1.5787 - acc: 0.3763 - val_loss: 1.5005 - val_acc: 0.4115\n",
      "\n",
      "Epoch 00016: val_acc did not improve from 0.42519\n",
      "Epoch 17/100\n",
      "28709/28709 [==============================] - 26s 917us/step - loss: 1.5653 - acc: 0.3836 - val_loss: 1.4915 - val_acc: 0.4241\n",
      "\n",
      "Epoch 00017: val_acc did not improve from 0.42519\n",
      "Epoch 18/100\n",
      "28709/28709 [==============================] - 26s 919us/step - loss: 1.5729 - acc: 0.3777 - val_loss: 1.5898 - val_acc: 0.3739\n",
      "\n",
      "Epoch 00018: val_acc did not improve from 0.42519\n",
      "Epoch 19/100\n",
      "28709/28709 [==============================] - 26s 917us/step - loss: 1.5742 - acc: 0.3776 - val_loss: 1.5581 - val_acc: 0.3803\n",
      "\n",
      "Epoch 00019: val_acc did not improve from 0.42519\n",
      "Epoch 20/100\n",
      "28709/28709 [==============================] - 26s 918us/step - loss: 1.5791 - acc: 0.3734 - val_loss: 1.5467 - val_acc: 0.3867\n",
      "\n",
      "Epoch 00020: ReduceLROnPlateau reducing learning rate to 0.0009000000427477062.\n",
      "\n",
      "Epoch 00020: val_acc did not improve from 0.42519\n",
      "Epoch 21/100\n",
      "28709/28709 [==============================] - 26s 917us/step - loss: 1.5521 - acc: 0.3867 - val_loss: 1.4942 - val_acc: 0.4018\n",
      "\n",
      "Epoch 00021: val_acc did not improve from 0.42519\n",
      "Epoch 22/100\n",
      "28709/28709 [==============================] - 26s 919us/step - loss: 1.5479 - acc: 0.3873 - val_loss: 1.5432 - val_acc: 0.3856\n",
      "\n",
      "Epoch 00022: val_acc did not improve from 0.42519\n",
      "Epoch 23/100\n",
      "28709/28709 [==============================] - 26s 920us/step - loss: 1.5438 - acc: 0.3883 - val_loss: 1.4842 - val_acc: 0.4249\n",
      "\n",
      "Epoch 00023: val_acc did not improve from 0.42519\n",
      "Epoch 00023: early stopping\n"
     ]
    }
   ],
   "source": [
    "norm_model2 = get_model_normal()\n",
    "model_norm2 = multi_gpu_model(norm_model2, gpus=2)\n",
    "\n",
    "model_norm2.compile(loss='categorical_crossentropy',\n",
    "              optimizer=Adam(lr=0.001, beta_1=0.9, beta_2=0.999, epsilon=1e-7),\n",
    "              metrics=['accuracy'])\n",
    "\n",
    "early_stopper = EarlyStopping(monitor='val_acc', min_delta=0, patience=8, verbose=1, mode='auto')\n",
    "lr_reducer = ReduceLROnPlateau(monitor='val_acc', factor=0.9, patience=5, verbose=1)\n",
    "checkpoint = ModelCheckpoint(filepath, monitor='val_acc', verbose=1, save_best_only=True, mode='max')\n",
    "\n",
    "\n",
    "history_res2 = model_norm2.fit(train_ds_inv, train_labels, \n",
    "          batch_size=64, validation_data=[pub_test_ds_inv, pub_test_labels], epochs=100, verbose=1, callbacks=[early_stopper, lr_reducer, checkpoint])"
   ]
  },
  {
   "cell_type": "code",
   "execution_count": 4,
   "metadata": {
    "collapsed": true
   },
   "outputs": [],
   "source": [
    "from keras.regularizers import l2"
   ]
  },
  {
   "cell_type": "code",
   "execution_count": 20,
   "metadata": {
    "collapsed": true
   },
   "outputs": [],
   "source": [
    "def one_more_model():\n",
    "    model = Sequential()\n",
    "    num_features = 64\n",
    "    num_labels = 7\n",
    "    model.add(Convolution2D(num_features, kernel_size=(3, 3), activation='relu', input_shape=(48, 48, 1), data_format='channels_last', kernel_regularizer=l2(0.01)))\n",
    "    model.add(Convolution2D(num_features, kernel_size=(3, 3), activation='relu', padding='same'))\n",
    "    model.add(BatchNormalization())\n",
    "    model.add(MaxPooling2D(pool_size=(2, 2), strides=(2, 2)))\n",
    "    model.add(Dropout(0.5))\n",
    "\n",
    "    model.add(Convolution2D(2*num_features, kernel_size=(3, 3), activation='relu', padding='same'))\n",
    "    model.add(BatchNormalization())\n",
    "    model.add(Convolution2D(2*num_features, kernel_size=(3, 3), activation='relu', padding='same'))\n",
    "    model.add(BatchNormalization())\n",
    "    model.add(MaxPooling2D(pool_size=(2, 2), strides=(2, 2)))\n",
    "    model.add(Dropout(0.5))\n",
    "\n",
    "    model.add(Convolution2D(2*2*num_features, kernel_size=(3, 3), activation='relu', padding='same'))\n",
    "    model.add(BatchNormalization())\n",
    "    model.add(Convolution2D(2*2*num_features, kernel_size=(3, 3), activation='relu', padding='same'))\n",
    "    model.add(BatchNormalization())\n",
    "    model.add(MaxPooling2D(pool_size=(2, 2), strides=(2, 2)))\n",
    "    model.add(Dropout(0.5))\n",
    "\n",
    "    model.add(Convolution2D(2*2*2*num_features, kernel_size=(3, 3), activation='relu', padding='same'))\n",
    "    model.add(BatchNormalization())\n",
    "    model.add(Convolution2D(2*2*2*num_features, kernel_size=(3, 3), activation='relu', padding='same'))\n",
    "    model.add(BatchNormalization())\n",
    "    model.add(MaxPooling2D(pool_size=(2, 2), strides=(2, 2)))\n",
    "    model.add(Dropout(0.5))\n",
    "\n",
    "    model.add(Flatten())\n",
    "\n",
    "    model.add(Dense(2*2*2*num_features, activation='relu'))\n",
    "    model.add(Dropout(0.4))\n",
    "    model.add(Dense(2*2*num_features, activation='relu'))\n",
    "    model.add(Dropout(0.4))\n",
    "    model.add(Dense(2*num_features, activation='relu'))\n",
    "    model.add(Dropout(0.5))\n",
    "\n",
    "    model.add(Dense(num_labels, activation='softmax'))\n",
    "    return model"
   ]
  },
  {
   "cell_type": "code",
   "execution_count": 21,
   "metadata": {
    "collapsed": false
   },
   "outputs": [
    {
     "name": "stdout",
     "output_type": "stream",
     "text": [
      "Train on 28709 samples, validate on 3589 samples\n",
      "Epoch 1/100\n",
      "28709/28709 [==============================] - 47s 2ms/step - loss: 2.0066 - acc: 0.2148 - val_loss: 1.8373 - val_acc: 0.2494\n",
      "\n",
      "Epoch 00001: val_acc improved from -inf to 0.24937, saving model to weights-improvement-1.84-0.2494.hdf5\n",
      "Epoch 2/100\n",
      "28709/28709 [==============================] - 41s 1ms/step - loss: 1.8374 - acc: 0.2431 - val_loss: 1.8196 - val_acc: 0.2494\n",
      "\n",
      "Epoch 00002: val_acc did not improve from 0.24937\n",
      "Epoch 3/100\n",
      "28709/28709 [==============================] - 41s 1ms/step - loss: 1.8221 - acc: 0.2497 - val_loss: 1.8191 - val_acc: 0.2494\n",
      "\n",
      "Epoch 00003: val_acc did not improve from 0.24937\n",
      "Epoch 4/100\n",
      "28709/28709 [==============================] - 42s 1ms/step - loss: 1.8021 - acc: 0.2566 - val_loss: 1.7541 - val_acc: 0.2948\n",
      "\n",
      "Epoch 00004: val_acc improved from 0.24937 to 0.29479, saving model to weights-improvement-1.75-0.2948.hdf5\n",
      "Epoch 5/100\n",
      "28709/28709 [==============================] - 41s 1ms/step - loss: 1.7475 - acc: 0.2884 - val_loss: 1.8786 - val_acc: 0.2494\n",
      "\n",
      "Epoch 00005: val_acc did not improve from 0.29479\n",
      "Epoch 6/100\n",
      "28709/28709 [==============================] - 41s 1ms/step - loss: 1.6360 - acc: 0.3498 - val_loss: 1.6152 - val_acc: 0.3424\n",
      "\n",
      "Epoch 00006: val_acc improved from 0.29479 to 0.34244, saving model to weights-improvement-1.62-0.3424.hdf5\n",
      "Epoch 7/100\n",
      "28709/28709 [==============================] - 41s 1ms/step - loss: 1.5368 - acc: 0.3912 - val_loss: 1.5108 - val_acc: 0.3940\n",
      "\n",
      "Epoch 00007: val_acc improved from 0.34244 to 0.39398, saving model to weights-improvement-1.51-0.3940.hdf5\n",
      "Epoch 8/100\n",
      "28709/28709 [==============================] - 42s 1ms/step - loss: 1.4741 - acc: 0.4211 - val_loss: 1.5242 - val_acc: 0.4129\n",
      "\n",
      "Epoch 00008: val_acc improved from 0.39398 to 0.41293, saving model to weights-improvement-1.52-0.4129.hdf5\n",
      "Epoch 9/100\n",
      "28709/28709 [==============================] - 41s 1ms/step - loss: 1.4306 - acc: 0.4443 - val_loss: 1.4250 - val_acc: 0.4202\n",
      "\n",
      "Epoch 00009: val_acc improved from 0.41293 to 0.42017, saving model to weights-improvement-1.43-0.4202.hdf5\n",
      "Epoch 10/100\n",
      "28709/28709 [==============================] - 41s 1ms/step - loss: 1.3920 - acc: 0.4667 - val_loss: 1.3143 - val_acc: 0.4971\n",
      "\n",
      "Epoch 00010: val_acc improved from 0.42017 to 0.49707, saving model to weights-improvement-1.31-0.4971.hdf5\n",
      "Epoch 11/100\n",
      "28709/28709 [==============================] - 41s 1ms/step - loss: 1.3563 - acc: 0.4844 - val_loss: 1.2956 - val_acc: 0.5166\n",
      "\n",
      "Epoch 00011: val_acc improved from 0.49707 to 0.51658, saving model to weights-improvement-1.30-0.5166.hdf5\n",
      "Epoch 12/100\n",
      "28709/28709 [==============================] - 41s 1ms/step - loss: 1.3289 - acc: 0.4990 - val_loss: 1.4229 - val_acc: 0.4305\n",
      "\n",
      "Epoch 00012: val_acc did not improve from 0.51658\n",
      "Epoch 13/100\n",
      "28709/28709 [==============================] - 41s 1ms/step - loss: 1.2981 - acc: 0.5085 - val_loss: 1.2162 - val_acc: 0.5361\n",
      "\n",
      "Epoch 00013: val_acc improved from 0.51658 to 0.53608, saving model to weights-improvement-1.22-0.5361.hdf5\n",
      "Epoch 14/100\n",
      "28709/28709 [==============================] - 41s 1ms/step - loss: 1.2615 - acc: 0.5255 - val_loss: 1.2279 - val_acc: 0.5350\n",
      "\n",
      "Epoch 00014: val_acc did not improve from 0.53608\n",
      "Epoch 15/100\n",
      "28709/28709 [==============================] - 41s 1ms/step - loss: 1.2350 - acc: 0.5353 - val_loss: 1.2422 - val_acc: 0.5391\n",
      "\n",
      "Epoch 00015: val_acc improved from 0.53608 to 0.53915, saving model to weights-improvement-1.24-0.5391.hdf5\n",
      "Epoch 16/100\n",
      "28709/28709 [==============================] - 41s 1ms/step - loss: 1.2172 - acc: 0.5484 - val_loss: 1.2101 - val_acc: 0.5447\n",
      "\n",
      "Epoch 00016: val_acc improved from 0.53915 to 0.54472, saving model to weights-improvement-1.21-0.5447.hdf5\n",
      "Epoch 17/100\n",
      "28709/28709 [==============================] - 41s 1ms/step - loss: 1.1899 - acc: 0.5640 - val_loss: 1.1636 - val_acc: 0.5637\n",
      "\n",
      "Epoch 00017: val_acc improved from 0.54472 to 0.56367, saving model to weights-improvement-1.16-0.5637.hdf5\n",
      "Epoch 18/100\n",
      "28709/28709 [==============================] - 41s 1ms/step - loss: 1.1644 - acc: 0.5670 - val_loss: 1.1588 - val_acc: 0.5737\n",
      "\n",
      "Epoch 00018: val_acc improved from 0.56367 to 0.57370, saving model to weights-improvement-1.16-0.5737.hdf5\n",
      "Epoch 19/100\n",
      "28709/28709 [==============================] - 41s 1ms/step - loss: 1.1466 - acc: 0.5800 - val_loss: 1.1813 - val_acc: 0.5556\n",
      "\n",
      "Epoch 00019: val_acc did not improve from 0.57370\n",
      "Epoch 20/100\n",
      "28709/28709 [==============================] - 41s 1ms/step - loss: 1.1182 - acc: 0.5908 - val_loss: 1.1181 - val_acc: 0.5848\n",
      "\n",
      "Epoch 00020: val_acc improved from 0.57370 to 0.58484, saving model to weights-improvement-1.12-0.5848.hdf5\n",
      "Epoch 21/100\n",
      "28709/28709 [==============================] - 41s 1ms/step - loss: 1.0959 - acc: 0.5992 - val_loss: 1.1471 - val_acc: 0.5765\n",
      "\n",
      "Epoch 00021: val_acc did not improve from 0.58484\n",
      "Epoch 22/100\n",
      "28709/28709 [==============================] - 41s 1ms/step - loss: 1.0939 - acc: 0.6017 - val_loss: 1.0744 - val_acc: 0.6013\n",
      "\n",
      "Epoch 00022: val_acc improved from 0.58484 to 0.60128, saving model to weights-improvement-1.07-0.6013.hdf5\n",
      "Epoch 23/100\n",
      "28709/28709 [==============================] - 41s 1ms/step - loss: 1.0579 - acc: 0.6161 - val_loss: 1.1364 - val_acc: 0.5865\n",
      "\n",
      "Epoch 00023: val_acc did not improve from 0.60128\n",
      "Epoch 24/100\n",
      "28709/28709 [==============================] - 42s 1ms/step - loss: 1.0485 - acc: 0.6218 - val_loss: 1.1034 - val_acc: 0.5938\n",
      "\n",
      "Epoch 00024: val_acc did not improve from 0.60128\n",
      "Epoch 25/100\n",
      "28709/28709 [==============================] - 41s 1ms/step - loss: 1.0186 - acc: 0.6300 - val_loss: 1.1065 - val_acc: 0.5988\n",
      "\n",
      "Epoch 00025: val_acc did not improve from 0.60128\n",
      "Epoch 26/100\n",
      "28709/28709 [==============================] - 41s 1ms/step - loss: 1.0069 - acc: 0.6357 - val_loss: 1.1024 - val_acc: 0.6002\n",
      "\n",
      "Epoch 00026: val_acc did not improve from 0.60128\n",
      "Epoch 27/100\n",
      "28709/28709 [==============================] - 41s 1ms/step - loss: 0.9957 - acc: 0.6400 - val_loss: 1.0735 - val_acc: 0.5974\n",
      "\n",
      "Epoch 00027: ReduceLROnPlateau reducing learning rate to 0.0009000000427477062.\n",
      "\n",
      "Epoch 00027: val_acc did not improve from 0.60128\n",
      "Epoch 28/100\n",
      "28709/28709 [==============================] - 41s 1ms/step - loss: 0.9539 - acc: 0.6559 - val_loss: 1.1202 - val_acc: 0.6002\n",
      "\n",
      "Epoch 00028: val_acc did not improve from 0.60128\n",
      "Epoch 29/100\n",
      "28709/28709 [==============================] - 41s 1ms/step - loss: 0.9315 - acc: 0.6656 - val_loss: 1.1122 - val_acc: 0.6013\n",
      "\n",
      "Epoch 00029: val_acc did not improve from 0.60128\n",
      "Epoch 30/100\n",
      "28709/28709 [==============================] - 41s 1ms/step - loss: 0.9186 - acc: 0.6693 - val_loss: 1.0907 - val_acc: 0.6052\n",
      "\n",
      "Epoch 00030: val_acc improved from 0.60128 to 0.60518, saving model to weights-improvement-1.09-0.6052.hdf5\n",
      "Epoch 31/100\n",
      "28709/28709 [==============================] - 41s 1ms/step - loss: 0.8985 - acc: 0.6739 - val_loss: 1.2262 - val_acc: 0.5846\n",
      "\n",
      "Epoch 00031: val_acc did not improve from 0.60518\n",
      "Epoch 32/100\n",
      "28709/28709 [==============================] - 41s 1ms/step - loss: 0.8856 - acc: 0.6828 - val_loss: 1.0826 - val_acc: 0.6055\n",
      "\n",
      "Epoch 00032: val_acc improved from 0.60518 to 0.60546, saving model to weights-improvement-1.08-0.6055.hdf5\n",
      "Epoch 33/100\n",
      "28709/28709 [==============================] - 41s 1ms/step - loss: 0.8643 - acc: 0.6892 - val_loss: 1.0973 - val_acc: 0.6141\n",
      "\n",
      "Epoch 00033: val_acc improved from 0.60546 to 0.61410, saving model to weights-improvement-1.10-0.6141.hdf5\n",
      "Epoch 34/100\n",
      "28709/28709 [==============================] - 41s 1ms/step - loss: 0.8542 - acc: 0.6930 - val_loss: 1.0863 - val_acc: 0.6133\n",
      "\n",
      "Epoch 00034: val_acc did not improve from 0.61410\n",
      "Epoch 35/100\n",
      "28709/28709 [==============================] - 41s 1ms/step - loss: 0.8387 - acc: 0.7005 - val_loss: 1.0422 - val_acc: 0.6358\n",
      "\n",
      "Epoch 00035: val_acc improved from 0.61410 to 0.63583, saving model to weights-improvement-1.04-0.6358.hdf5\n",
      "Epoch 36/100\n",
      "28709/28709 [==============================] - 41s 1ms/step - loss: 0.8193 - acc: 0.7079 - val_loss: 1.0688 - val_acc: 0.6319\n",
      "\n",
      "Epoch 00036: val_acc did not improve from 0.63583\n",
      "Epoch 37/100\n",
      "28709/28709 [==============================] - 41s 1ms/step - loss: 0.7992 - acc: 0.7111 - val_loss: 1.0837 - val_acc: 0.6361\n",
      "\n",
      "Epoch 00037: val_acc improved from 0.63583 to 0.63611, saving model to weights-improvement-1.08-0.6361.hdf5\n",
      "Epoch 38/100\n",
      "28709/28709 [==============================] - 41s 1ms/step - loss: 0.7914 - acc: 0.7180 - val_loss: 1.0881 - val_acc: 0.6367\n",
      "\n",
      "Epoch 00038: val_acc improved from 0.63611 to 0.63667, saving model to weights-improvement-1.09-0.6367.hdf5\n",
      "Epoch 39/100\n",
      "28709/28709 [==============================] - 41s 1ms/step - loss: 0.7790 - acc: 0.7209 - val_loss: 1.1263 - val_acc: 0.6197\n",
      "\n",
      "Epoch 00039: val_acc did not improve from 0.63667\n",
      "Epoch 40/100\n",
      "28709/28709 [==============================] - 41s 1ms/step - loss: 0.7642 - acc: 0.7288 - val_loss: 1.0879 - val_acc: 0.6361\n",
      "\n",
      "Epoch 00040: val_acc did not improve from 0.63667\n",
      "Epoch 41/100\n",
      "28709/28709 [==============================] - 41s 1ms/step - loss: 0.7559 - acc: 0.7326 - val_loss: 1.1427 - val_acc: 0.6188\n",
      "\n",
      "Epoch 00041: val_acc did not improve from 0.63667\n",
      "Epoch 42/100\n",
      "28709/28709 [==============================] - 41s 1ms/step - loss: 0.7365 - acc: 0.7407 - val_loss: 1.1138 - val_acc: 0.6261\n",
      "\n",
      "Epoch 00042: val_acc did not improve from 0.63667\n",
      "Epoch 43/100\n",
      "28709/28709 [==============================] - 41s 1ms/step - loss: 0.7213 - acc: 0.7443 - val_loss: 1.1025 - val_acc: 0.6417\n",
      "\n",
      "Epoch 00043: val_acc improved from 0.63667 to 0.64168, saving model to weights-improvement-1.10-0.6417.hdf5\n",
      "Epoch 44/100\n",
      "28709/28709 [==============================] - 41s 1ms/step - loss: 0.7110 - acc: 0.7494 - val_loss: 1.1208 - val_acc: 0.6261\n",
      "\n",
      "Epoch 00044: val_acc did not improve from 0.64168\n",
      "Epoch 45/100\n",
      "28709/28709 [==============================] - 41s 1ms/step - loss: 0.6957 - acc: 0.7534 - val_loss: 1.0920 - val_acc: 0.6420\n",
      "\n",
      "Epoch 00045: val_acc improved from 0.64168 to 0.64196, saving model to weights-improvement-1.09-0.6420.hdf5\n",
      "Epoch 46/100\n",
      "28709/28709 [==============================] - 41s 1ms/step - loss: 0.6826 - acc: 0.7604 - val_loss: 1.1391 - val_acc: 0.6300\n",
      "\n",
      "Epoch 00046: val_acc did not improve from 0.64196\n",
      "Epoch 47/100\n",
      "28709/28709 [==============================] - 41s 1ms/step - loss: 0.6669 - acc: 0.7679 - val_loss: 1.1540 - val_acc: 0.6308\n",
      "\n",
      "Epoch 00047: val_acc did not improve from 0.64196\n",
      "Epoch 48/100\n",
      "28709/28709 [==============================] - 41s 1ms/step - loss: 0.6610 - acc: 0.7700 - val_loss: 1.1227 - val_acc: 0.6475\n",
      "\n",
      "Epoch 00048: val_acc improved from 0.64196 to 0.64753, saving model to weights-improvement-1.12-0.6475.hdf5\n",
      "Epoch 49/100\n",
      "28709/28709 [==============================] - 41s 1ms/step - loss: 0.6529 - acc: 0.7713 - val_loss: 1.1732 - val_acc: 0.6367\n",
      "\n",
      "Epoch 00049: val_acc did not improve from 0.64753\n",
      "Epoch 50/100\n",
      "28709/28709 [==============================] - 41s 1ms/step - loss: 0.6378 - acc: 0.7772 - val_loss: 1.1675 - val_acc: 0.6422\n",
      "\n",
      "Epoch 00050: val_acc did not improve from 0.64753\n",
      "Epoch 51/100\n",
      "28709/28709 [==============================] - 41s 1ms/step - loss: 0.6294 - acc: 0.7812 - val_loss: 1.1194 - val_acc: 0.6503\n",
      "\n",
      "Epoch 00051: val_acc improved from 0.64753 to 0.65032, saving model to weights-improvement-1.12-0.6503.hdf5\n",
      "Epoch 52/100\n",
      "28709/28709 [==============================] - 41s 1ms/step - loss: 0.6130 - acc: 0.7855 - val_loss: 1.1426 - val_acc: 0.6439\n",
      "\n",
      "Epoch 00052: val_acc did not improve from 0.65032\n",
      "Epoch 53/100\n",
      "28709/28709 [==============================] - 41s 1ms/step - loss: 0.6073 - acc: 0.7900 - val_loss: 1.1801 - val_acc: 0.6330\n",
      "\n",
      "Epoch 00053: val_acc did not improve from 0.65032\n",
      "Epoch 54/100\n",
      "28709/28709 [==============================] - 41s 1ms/step - loss: 0.6082 - acc: 0.7916 - val_loss: 1.1505 - val_acc: 0.6227\n",
      "\n",
      "Epoch 00054: val_acc did not improve from 0.65032\n",
      "Epoch 55/100\n",
      "28709/28709 [==============================] - 41s 1ms/step - loss: 0.5837 - acc: 0.8002 - val_loss: 1.1997 - val_acc: 0.6364\n",
      "\n",
      "Epoch 00055: val_acc did not improve from 0.65032\n",
      "Epoch 56/100\n",
      "28709/28709 [==============================] - 41s 1ms/step - loss: 0.5738 - acc: 0.8023 - val_loss: 1.1495 - val_acc: 0.6542\n",
      "\n",
      "Epoch 00056: val_acc improved from 0.65032 to 0.65422, saving model to weights-improvement-1.15-0.6542.hdf5\n",
      "Epoch 57/100\n",
      "28709/28709 [==============================] - 41s 1ms/step - loss: 0.5650 - acc: 0.8048 - val_loss: 1.2095 - val_acc: 0.6389\n",
      "\n",
      "Epoch 00057: val_acc did not improve from 0.65422\n",
      "Epoch 58/100\n",
      "28709/28709 [==============================] - 41s 1ms/step - loss: 0.5611 - acc: 0.8062 - val_loss: 1.1926 - val_acc: 0.6484\n",
      "\n",
      "Epoch 00058: val_acc did not improve from 0.65422\n",
      "Epoch 59/100\n",
      "28709/28709 [==============================] - 41s 1ms/step - loss: 0.5385 - acc: 0.8146 - val_loss: 1.2450 - val_acc: 0.6255\n",
      "\n",
      "Epoch 00059: val_acc did not improve from 0.65422\n",
      "Epoch 60/100\n",
      "28709/28709 [==============================] - 41s 1ms/step - loss: 0.5427 - acc: 0.8184 - val_loss: 1.1347 - val_acc: 0.6514\n",
      "\n",
      "Epoch 00060: val_acc did not improve from 0.65422\n",
      "Epoch 61/100\n",
      "28709/28709 [==============================] - 41s 1ms/step - loss: 0.5361 - acc: 0.8168 - val_loss: 1.2273 - val_acc: 0.6514\n",
      "\n",
      "Epoch 00061: ReduceLROnPlateau reducing learning rate to 0.0008100000384729356.\n",
      "\n",
      "Epoch 00061: val_acc did not improve from 0.65422\n",
      "Epoch 62/100\n",
      "28709/28709 [==============================] - 41s 1ms/step - loss: 0.5170 - acc: 0.8232 - val_loss: 1.1713 - val_acc: 0.6537\n",
      "\n",
      "Epoch 00062: val_acc did not improve from 0.65422\n",
      "Epoch 63/100\n",
      "28709/28709 [==============================] - 41s 1ms/step - loss: 0.5053 - acc: 0.8301 - val_loss: 1.1510 - val_acc: 0.6570\n",
      "\n",
      "Epoch 00063: val_acc improved from 0.65422 to 0.65701, saving model to weights-improvement-1.15-0.6570.hdf5\n",
      "Epoch 64/100\n",
      "28709/28709 [==============================] - 41s 1ms/step - loss: 0.5056 - acc: 0.8296 - val_loss: 1.2303 - val_acc: 0.6434\n",
      "\n",
      "Epoch 00064: val_acc did not improve from 0.65701\n",
      "Epoch 65/100\n",
      "28709/28709 [==============================] - 41s 1ms/step - loss: 0.4911 - acc: 0.8350 - val_loss: 1.2230 - val_acc: 0.6590\n",
      "\n",
      "Epoch 00065: val_acc improved from 0.65701 to 0.65896, saving model to weights-improvement-1.22-0.6590.hdf5\n",
      "Epoch 66/100\n",
      "28709/28709 [==============================] - 41s 1ms/step - loss: 0.4843 - acc: 0.8351 - val_loss: 1.2359 - val_acc: 0.6517\n",
      "\n",
      "Epoch 00066: val_acc did not improve from 0.65896\n",
      "Epoch 67/100\n",
      "28709/28709 [==============================] - 41s 1ms/step - loss: 0.4730 - acc: 0.8424 - val_loss: 1.2845 - val_acc: 0.6470\n",
      "\n",
      "Epoch 00067: val_acc did not improve from 0.65896\n",
      "Epoch 68/100\n",
      "28709/28709 [==============================] - 41s 1ms/step - loss: 0.4656 - acc: 0.8420 - val_loss: 1.2950 - val_acc: 0.6562\n",
      "\n",
      "Epoch 00068: val_acc did not improve from 0.65896\n",
      "Epoch 69/100\n",
      "28709/28709 [==============================] - 41s 1ms/step - loss: 0.4525 - acc: 0.8473 - val_loss: 1.2617 - val_acc: 0.6486\n",
      "\n",
      "Epoch 00069: val_acc did not improve from 0.65896\n",
      "Epoch 70/100\n",
      "28709/28709 [==============================] - 41s 1ms/step - loss: 0.4472 - acc: 0.8477 - val_loss: 1.3690 - val_acc: 0.6361\n",
      "\n",
      "Epoch 00070: ReduceLROnPlateau reducing learning rate to 0.0007290000503417104.\n",
      "\n",
      "Epoch 00070: val_acc did not improve from 0.65896\n",
      "Epoch 71/100\n",
      "28709/28709 [==============================] - 41s 1ms/step - loss: 0.4268 - acc: 0.8555 - val_loss: 1.2608 - val_acc: 0.6358\n",
      "\n",
      "Epoch 00071: val_acc did not improve from 0.65896\n",
      "Epoch 72/100\n",
      "28709/28709 [==============================] - 41s 1ms/step - loss: 0.4242 - acc: 0.8554 - val_loss: 1.3053 - val_acc: 0.6492\n",
      "\n",
      "Epoch 00072: val_acc did not improve from 0.65896\n",
      "Epoch 73/100\n",
      "28709/28709 [==============================] - 41s 1ms/step - loss: 0.4150 - acc: 0.8616 - val_loss: 1.3151 - val_acc: 0.6473\n",
      "\n",
      "Epoch 00073: val_acc did not improve from 0.65896\n",
      "Epoch 00073: early stopping\n"
     ]
    }
   ],
   "source": [
    "norm_model3 = one_more_model()\n",
    "model_norm3 = multi_gpu_model(norm_model3, gpus=2)\n",
    "\n",
    "model_norm3.compile(loss='categorical_crossentropy',\n",
    "              optimizer=Adam(lr=0.001, beta_1=0.9, beta_2=0.999, epsilon=1e-7),\n",
    "              metrics=['accuracy'])\n",
    "\n",
    "early_stopper = EarlyStopping(monitor='val_acc', min_delta=0, patience=8, verbose=1, mode='auto')\n",
    "lr_reducer = ReduceLROnPlateau(monitor='val_acc', factor=0.9, patience=5, verbose=1)\n",
    "checkpoint = ModelCheckpoint(filepath, monitor='val_acc', verbose=1, save_best_only=True, mode='max')\n",
    "\n",
    "\n",
    "history_res3 = model_norm3.fit(train_ds_inv, train_labels, \n",
    "          batch_size=64, validation_data=[pub_test_ds_inv, pub_test_labels], epochs=100, verbose=1, callbacks=[early_stopper, lr_reducer, checkpoint])"
   ]
  },
  {
   "cell_type": "code",
   "execution_count": 26,
   "metadata": {
    "collapsed": false
   },
   "outputs": [
    {
     "data": {
      "text/plain": [
       "[<matplotlib.lines.Line2D at 0x7f1fea29c390>]"
      ]
     },
     "execution_count": 26,
     "metadata": {},
     "output_type": "execute_result"
    },
    {
     "data": {
      "image/png": "[encoded data removed]",
      "text/plain": [
       "<Figure size 432x288 with 1 Axes>"
      ]
     },
     "metadata": {},
     "output_type": "display_data"
    }
   ],
   "source": [
    "plt.plot(history_res3.history['acc'])\n",
    "plt.plot(history_res3.history['val_acc'])"
   ]
  },
  {
   "cell_type": "code",
   "execution_count": 43,
   "metadata": {
    "collapsed": false
   },
   "outputs": [
    {
     "data": {
      "text/plain": [
       "0.6589579270074679"
      ]
     },
     "execution_count": 43,
     "metadata": {},
     "output_type": "execute_result"
    }
   ],
   "source": [
    "max(history_res3.history['val_acc'])"
   ]
  },
  {
   "cell_type": "code",
   "execution_count": 47,
   "metadata": {
    "collapsed": true
   },
   "outputs": [],
   "source": [
    "model_norm3.save(\"one_more_model.hdf5\")"
   ]
  },
  {
   "cell_type": "code",
   "execution_count": 44,
   "metadata": {
    "collapsed": false
   },
   "outputs": [
    {
     "name": "stdout",
     "output_type": "stream",
     "text": [
      "3589/3589 [==============================] - 4s 991us/step\n"
     ]
    },
    {
     "data": {
      "text/plain": [
       "[1.2428163068478537, 0.6597938144371416]"
      ]
     },
     "execution_count": 44,
     "metadata": {},
     "output_type": "execute_result"
    }
   ],
   "source": [
    "model_norm3.evaluate(priv_test_ds_inv, priv_test_labels)"
   ]
  },
  {
   "cell_type": "code",
   "execution_count": 27,
   "metadata": {
    "collapsed": false
   },
   "outputs": [
    {
     "data": {
      "text/plain": [
       "[<matplotlib.lines.Line2D at 0x7f1fea29cd30>]"
      ]
     },
     "execution_count": 27,
     "metadata": {},
     "output_type": "execute_result"
    },
    {
     "data": {
      "image/png": "[encoded data removed]",
      "text/plain": [
       "<Figure size 432x288 with 1 Axes>"
      ]
     },
     "metadata": {},
     "output_type": "display_data"
    }
   ],
   "source": [
    "plt.plot(history_res3.history['loss'])\n",
    "plt.plot(history_res3.history['val_loss'])"
   ]
  },
  {
   "cell_type": "code",
   "execution_count": 28,
   "metadata": {
    "collapsed": true
   },
   "outputs": [],
   "source": [
    "def model_experiment():\n",
    "    model = Sequential()\n",
    "    num_features = 64\n",
    "    num_labels = 7\n",
    "    model.add(Convolution2D(num_features, kernel_size=(4, 4), activation='relu', input_shape=(48, 48, 1), data_format='channels_last', kernel_regularizer=l2(0.01)))\n",
    "    model.add(Convolution2D(num_features, kernel_size=(4, 4), activation='relu', padding='same'))\n",
    "    model.add(BatchNormalization())\n",
    "    model.add(MaxPooling2D(pool_size=(2, 2), strides=(2, 2)))\n",
    "    model.add(Dropout(0.6))\n",
    "\n",
    "    model.add(Convolution2D(2*num_features, kernel_size=(3, 3), activation='relu', padding='same'))\n",
    "    model.add(BatchNormalization())\n",
    "    model.add(Convolution2D(2*num_features, kernel_size=(3, 3), activation='relu', padding='same'))\n",
    "    model.add(BatchNormalization())\n",
    "    model.add(MaxPooling2D(pool_size=(2, 2), strides=(2, 2)))\n",
    "    model.add(Dropout(0.6))\n",
    "\n",
    "    model.add(Convolution2D(2*2*num_features, kernel_size=(3, 3), activation='relu', padding='same'))\n",
    "    model.add(BatchNormalization())\n",
    "    model.add(Convolution2D(2*2*num_features, kernel_size=(3, 3), activation='relu', padding='same'))\n",
    "    model.add(BatchNormalization())\n",
    "    model.add(MaxPooling2D(pool_size=(2, 2), strides=(2, 2)))\n",
    "    model.add(Dropout(0.6))\n",
    "\n",
    "    model.add(Convolution2D(2*2*2*num_features, kernel_size=(3, 3), activation='relu', padding='same'))\n",
    "    model.add(BatchNormalization())\n",
    "    model.add(Convolution2D(2*2*2*num_features, kernel_size=(3, 3), activation='relu', padding='same'))\n",
    "    model.add(BatchNormalization())\n",
    "    model.add(MaxPooling2D(pool_size=(2, 2), strides=(2, 2)))\n",
    "    model.add(Dropout(0.6))\n",
    "    \n",
    "    model.add(Convolution2D(2*2*2*2*num_features, kernel_size=(3, 3), activation='relu', padding='same'))\n",
    "    model.add(BatchNormalization())\n",
    "    model.add(Convolution2D(2*2*2*2*num_features, kernel_size=(3, 3), activation='relu', padding='same'))\n",
    "    model.add(BatchNormalization())\n",
    "    model.add(MaxPooling2D(pool_size=(2, 2), strides=(2, 2)))\n",
    "    model.add(Dropout(0.6))\n",
    "\n",
    "    model.add(Flatten())\n",
    "\n",
    "    model.add(Dense(2*2*2*num_features, activation='relu'))\n",
    "    model.add(Dropout(0.4))\n",
    "#     model.add(Dense(2*2*num_features, activation='relu'))\n",
    "#     model.add(Dropout(0.4))\n",
    "    model.add(Dense(2*num_features, activation='relu'))\n",
    "    model.add(Dropout(0.4))\n",
    "\n",
    "    model.add(Dense(num_labels, activation='softmax'))\n",
    "    return model"
   ]
  },
  {
   "cell_type": "code",
   "execution_count": 30,
   "metadata": {
    "collapsed": false
   },
   "outputs": [
    {
     "name": "stdout",
     "output_type": "stream",
     "text": [
      "Train on 28709 samples, validate on 3589 samples\n",
      "Epoch 1/100\n",
      "28709/28709 [==============================] - 74s 3ms/step - loss: 1.9747 - acc: 0.2310 - val_loss: 1.8163 - val_acc: 0.2494\n",
      "\n",
      "Epoch 00001: val_acc improved from -inf to 0.24937, saving model to experimental-1.82-0.2494.hdf5\n",
      "Epoch 2/100\n",
      "28709/28709 [==============================] - 67s 2ms/step - loss: 1.8327 - acc: 0.2511 - val_loss: 1.8212 - val_acc: 0.2491\n",
      "\n",
      "Epoch 00002: val_acc did not improve from 0.24937\n",
      "Epoch 3/100\n",
      "28709/28709 [==============================] - 67s 2ms/step - loss: 1.7791 - acc: 0.2775 - val_loss: 1.7101 - val_acc: 0.2973\n",
      "\n",
      "Epoch 00003: val_acc improved from 0.24937 to 0.29730, saving model to experimental-1.71-0.2973.hdf5\n",
      "Epoch 4/100\n",
      "28709/28709 [==============================] - 67s 2ms/step - loss: 1.7087 - acc: 0.3081 - val_loss: 1.8085 - val_acc: 0.2965\n",
      "\n",
      "Epoch 00004: val_acc did not improve from 0.29730\n",
      "Epoch 5/100\n",
      "28709/28709 [==============================] - 67s 2ms/step - loss: 1.6359 - acc: 0.3498 - val_loss: 1.5686 - val_acc: 0.3792\n",
      "\n",
      "Epoch 00005: val_acc improved from 0.29730 to 0.37921, saving model to experimental-1.57-0.3792.hdf5\n",
      "Epoch 6/100\n",
      "28709/28709 [==============================] - 67s 2ms/step - loss: 1.5582 - acc: 0.3827 - val_loss: 1.5187 - val_acc: 0.3876\n",
      "\n",
      "Epoch 00006: val_acc improved from 0.37921 to 0.38757, saving model to experimental-1.52-0.3876.hdf5\n",
      "Epoch 7/100\n",
      "28709/28709 [==============================] - 66s 2ms/step - loss: 1.5095 - acc: 0.4035 - val_loss: 1.4160 - val_acc: 0.4402\n",
      "\n",
      "Epoch 00007: val_acc improved from 0.38757 to 0.44023, saving model to experimental-1.42-0.4402.hdf5\n",
      "Epoch 8/100\n",
      "28709/28709 [==============================] - 67s 2ms/step - loss: 1.4787 - acc: 0.4228 - val_loss: 1.3678 - val_acc: 0.4480\n",
      "\n",
      "Epoch 00008: val_acc improved from 0.44023 to 0.44804, saving model to experimental-1.37-0.4480.hdf5\n",
      "Epoch 9/100\n",
      "28709/28709 [==============================] - 67s 2ms/step - loss: 1.4404 - acc: 0.4471 - val_loss: 1.3799 - val_acc: 0.4667\n",
      "\n",
      "Epoch 00009: val_acc improved from 0.44804 to 0.46670, saving model to experimental-1.38-0.4667.hdf5\n",
      "Epoch 10/100\n",
      "28709/28709 [==============================] - 67s 2ms/step - loss: 1.4136 - acc: 0.4575 - val_loss: 1.3080 - val_acc: 0.4820\n",
      "\n",
      "Epoch 00010: val_acc improved from 0.46670 to 0.48203, saving model to experimental-1.31-0.4820.hdf5\n",
      "Epoch 11/100\n",
      "28709/28709 [==============================] - 67s 2ms/step - loss: 1.3792 - acc: 0.4735 - val_loss: 1.3910 - val_acc: 0.4915\n",
      "\n",
      "Epoch 00011: val_acc improved from 0.48203 to 0.49150, saving model to experimental-1.39-0.4915.hdf5\n",
      "Epoch 12/100\n",
      "28709/28709 [==============================] - 66s 2ms/step - loss: 1.3442 - acc: 0.4903 - val_loss: 1.2953 - val_acc: 0.5099\n",
      "\n",
      "Epoch 00012: val_acc improved from 0.49150 to 0.50989, saving model to experimental-1.30-0.5099.hdf5\n",
      "Epoch 13/100\n",
      "28709/28709 [==============================] - 67s 2ms/step - loss: 1.3157 - acc: 0.4967 - val_loss: 1.2768 - val_acc: 0.5077\n",
      "\n",
      "Epoch 00013: val_acc did not improve from 0.50989\n",
      "Epoch 14/100\n",
      "28709/28709 [==============================] - 67s 2ms/step - loss: 1.3029 - acc: 0.5107 - val_loss: 1.2257 - val_acc: 0.5327\n",
      "\n",
      "Epoch 00014: val_acc improved from 0.50989 to 0.53274, saving model to experimental-1.23-0.5327.hdf5\n",
      "Epoch 15/100\n",
      "28709/28709 [==============================] - 67s 2ms/step - loss: 1.2812 - acc: 0.5168 - val_loss: 1.2074 - val_acc: 0.5327\n",
      "\n",
      "Epoch 00015: val_acc did not improve from 0.53274\n",
      "Epoch 16/100\n",
      "28709/28709 [==============================] - 66s 2ms/step - loss: 1.2615 - acc: 0.5306 - val_loss: 1.1869 - val_acc: 0.5550\n",
      "\n",
      "Epoch 00016: val_acc improved from 0.53274 to 0.55503, saving model to experimental-1.19-0.5550.hdf5\n",
      "Epoch 17/100\n",
      "28709/28709 [==============================] - 67s 2ms/step - loss: 1.2396 - acc: 0.5379 - val_loss: 1.2198 - val_acc: 0.5372\n",
      "\n",
      "Epoch 00017: val_acc did not improve from 0.55503\n",
      "Epoch 18/100\n",
      "28709/28709 [==============================] - 67s 2ms/step - loss: 1.2147 - acc: 0.5498 - val_loss: 1.1534 - val_acc: 0.5570\n",
      "\n",
      "Epoch 00018: val_acc improved from 0.55503 to 0.55698, saving model to experimental-1.15-0.5570.hdf5\n",
      "Epoch 19/100\n",
      "28709/28709 [==============================] - 67s 2ms/step - loss: 1.2089 - acc: 0.5528 - val_loss: 1.1353 - val_acc: 0.5854\n",
      "\n",
      "Epoch 00019: val_acc improved from 0.55698 to 0.58540, saving model to experimental-1.14-0.5854.hdf5\n",
      "Epoch 20/100\n",
      "28709/28709 [==============================] - 66s 2ms/step - loss: 1.1842 - acc: 0.5657 - val_loss: 1.1546 - val_acc: 0.5606\n",
      "\n",
      "Epoch 00020: val_acc did not improve from 0.58540\n",
      "Epoch 21/100\n",
      "28709/28709 [==============================] - 67s 2ms/step - loss: 1.1702 - acc: 0.5743 - val_loss: 1.1602 - val_acc: 0.5626\n",
      "\n",
      "Epoch 00021: val_acc did not improve from 0.58540\n",
      "Epoch 22/100\n",
      "28709/28709 [==============================] - 66s 2ms/step - loss: 1.1483 - acc: 0.5818 - val_loss: 1.1861 - val_acc: 0.5690\n",
      "\n",
      "Epoch 00022: val_acc did not improve from 0.58540\n",
      "Epoch 23/100\n",
      "28709/28709 [==============================] - 66s 2ms/step - loss: 1.1282 - acc: 0.5887 - val_loss: 1.2429 - val_acc: 0.5444\n",
      "\n",
      "Epoch 00023: val_acc did not improve from 0.58540\n",
      "Epoch 24/100\n",
      "28709/28709 [==============================] - 67s 2ms/step - loss: 1.1099 - acc: 0.5986 - val_loss: 1.1018 - val_acc: 0.5826\n",
      "\n",
      "Epoch 00024: ReduceLROnPlateau reducing learning rate to 0.0009000000427477062.\n",
      "\n",
      "Epoch 00024: val_acc did not improve from 0.58540\n",
      "Epoch 25/100\n",
      "28709/28709 [==============================] - 67s 2ms/step - loss: 1.0863 - acc: 0.6081 - val_loss: 1.0872 - val_acc: 0.6049\n",
      "\n",
      "Epoch 00025: val_acc improved from 0.58540 to 0.60490, saving model to experimental-1.09-0.6049.hdf5\n",
      "Epoch 26/100\n",
      "28709/28709 [==============================] - 67s 2ms/step - loss: 1.0626 - acc: 0.6200 - val_loss: 1.1278 - val_acc: 0.5935\n",
      "\n",
      "Epoch 00026: val_acc did not improve from 0.60490\n",
      "Epoch 27/100\n",
      "28709/28709 [==============================] - 67s 2ms/step - loss: 1.0431 - acc: 0.6271 - val_loss: 1.1220 - val_acc: 0.5871\n",
      "\n",
      "Epoch 00027: val_acc did not improve from 0.60490\n",
      "Epoch 28/100\n",
      "28709/28709 [==============================] - 67s 2ms/step - loss: 1.0307 - acc: 0.6272 - val_loss: 1.1263 - val_acc: 0.5837\n",
      "\n",
      "Epoch 00028: val_acc did not improve from 0.60490\n",
      "Epoch 29/100\n",
      "28709/28709 [==============================] - 67s 2ms/step - loss: 1.0133 - acc: 0.6347 - val_loss: 1.0687 - val_acc: 0.6069\n",
      "\n",
      "Epoch 00029: val_acc improved from 0.60490 to 0.60685, saving model to experimental-1.07-0.6069.hdf5\n",
      "Epoch 30/100\n",
      "28709/28709 [==============================] - 67s 2ms/step - loss: 1.0026 - acc: 0.6375 - val_loss: 1.0903 - val_acc: 0.5971\n",
      "\n",
      "Epoch 00030: val_acc did not improve from 0.60685\n",
      "Epoch 31/100\n",
      "28709/28709 [==============================] - 67s 2ms/step - loss: 0.9822 - acc: 0.6496 - val_loss: 1.0599 - val_acc: 0.6041\n",
      "\n",
      "Epoch 00031: val_acc did not improve from 0.60685\n",
      "Epoch 32/100\n",
      "28709/28709 [==============================] - 67s 2ms/step - loss: 0.9720 - acc: 0.6528 - val_loss: 1.0965 - val_acc: 0.5965\n",
      "\n",
      "Epoch 00032: val_acc did not improve from 0.60685\n",
      "Epoch 33/100\n",
      "28709/28709 [==============================] - 67s 2ms/step - loss: 0.9511 - acc: 0.6563 - val_loss: 1.0630 - val_acc: 0.6199\n",
      "\n",
      "Epoch 00033: val_acc improved from 0.60685 to 0.61995, saving model to experimental-1.06-0.6199.hdf5\n",
      "Epoch 34/100\n",
      "28709/28709 [==============================] - 67s 2ms/step - loss: 0.9394 - acc: 0.6627 - val_loss: 1.0425 - val_acc: 0.6183\n",
      "\n",
      "Epoch 00034: val_acc did not improve from 0.61995\n",
      "Epoch 35/100\n",
      "28709/28709 [==============================] - 66s 2ms/step - loss: 0.9283 - acc: 0.6662 - val_loss: 1.0571 - val_acc: 0.6219\n",
      "\n",
      "Epoch 00035: val_acc improved from 0.61995 to 0.62190, saving model to experimental-1.06-0.6219.hdf5\n",
      "Epoch 36/100\n",
      "28709/28709 [==============================] - 66s 2ms/step - loss: 0.9162 - acc: 0.6711 - val_loss: 1.0716 - val_acc: 0.6169\n",
      "\n",
      "Epoch 00036: val_acc did not improve from 0.62190\n",
      "Epoch 37/100\n",
      "28709/28709 [==============================] - 66s 2ms/step - loss: 0.9121 - acc: 0.6731 - val_loss: 1.1134 - val_acc: 0.6041\n",
      "\n",
      "Epoch 00037: val_acc did not improve from 0.62190\n",
      "Epoch 38/100\n",
      "28709/28709 [==============================] - 66s 2ms/step - loss: 0.8915 - acc: 0.6840 - val_loss: 1.1659 - val_acc: 0.5676\n",
      "\n",
      "Epoch 00038: val_acc did not improve from 0.62190\n",
      "Epoch 39/100\n",
      "28709/28709 [==============================] - 66s 2ms/step - loss: 0.8720 - acc: 0.6888 - val_loss: 1.0466 - val_acc: 0.6272\n",
      "\n",
      "Epoch 00039: val_acc improved from 0.62190 to 0.62719, saving model to experimental-1.05-0.6272.hdf5\n",
      "Epoch 40/100\n",
      "28709/28709 [==============================] - 66s 2ms/step - loss: 0.8622 - acc: 0.6899 - val_loss: 1.0551 - val_acc: 0.6197\n",
      "\n",
      "Epoch 00040: val_acc did not improve from 0.62719\n",
      "Epoch 41/100\n",
      "28709/28709 [==============================] - 66s 2ms/step - loss: 0.8463 - acc: 0.6970 - val_loss: 1.0395 - val_acc: 0.6211\n",
      "\n",
      "Epoch 00041: val_acc did not improve from 0.62719\n",
      "Epoch 42/100\n",
      "28709/28709 [==============================] - 67s 2ms/step - loss: 0.8301 - acc: 0.7032 - val_loss: 1.0171 - val_acc: 0.6392\n",
      "\n",
      "Epoch 00042: val_acc improved from 0.62719 to 0.63918, saving model to experimental-1.02-0.6392.hdf5\n",
      "Epoch 43/100\n",
      "28709/28709 [==============================] - 66s 2ms/step - loss: 0.8238 - acc: 0.7093 - val_loss: 1.0754 - val_acc: 0.6085\n",
      "\n",
      "Epoch 00043: val_acc did not improve from 0.63918\n",
      "Epoch 44/100\n",
      "28709/28709 [==============================] - 66s 2ms/step - loss: 0.8223 - acc: 0.7097 - val_loss: 1.0849 - val_acc: 0.6225\n",
      "\n",
      "Epoch 00044: val_acc did not improve from 0.63918\n",
      "Epoch 45/100\n",
      "28709/28709 [==============================] - 66s 2ms/step - loss: 0.8000 - acc: 0.7150 - val_loss: 1.0637 - val_acc: 0.6261\n",
      "\n",
      "Epoch 00045: val_acc did not improve from 0.63918\n",
      "Epoch 46/100\n",
      "28709/28709 [==============================] - 67s 2ms/step - loss: 0.7908 - acc: 0.7174 - val_loss: 1.0530 - val_acc: 0.6311\n",
      "\n",
      "Epoch 00046: val_acc did not improve from 0.63918\n",
      "Epoch 47/100\n",
      "28709/28709 [==============================] - 66s 2ms/step - loss: 0.7775 - acc: 0.7221 - val_loss: 1.0761 - val_acc: 0.6213\n",
      "\n",
      "Epoch 00047: ReduceLROnPlateau reducing learning rate to 0.0008100000384729356.\n",
      "\n",
      "Epoch 00047: val_acc did not improve from 0.63918\n",
      "Epoch 48/100\n",
      "28709/28709 [==============================] - 66s 2ms/step - loss: 0.7625 - acc: 0.7313 - val_loss: 1.0707 - val_acc: 0.6222\n",
      "\n",
      "Epoch 00048: val_acc did not improve from 0.63918\n",
      "Epoch 49/100\n",
      "28709/28709 [==============================] - 66s 2ms/step - loss: 0.7404 - acc: 0.7364 - val_loss: 1.0740 - val_acc: 0.6250\n",
      "\n",
      "Epoch 00049: val_acc did not improve from 0.63918\n",
      "Epoch 50/100\n",
      "28709/28709 [==============================] - 66s 2ms/step - loss: 0.7325 - acc: 0.7413 - val_loss: 1.0912 - val_acc: 0.6250\n",
      "\n",
      "Epoch 00050: val_acc did not improve from 0.63918\n",
      "Epoch 00050: early stopping\n"
     ]
    }
   ],
   "source": [
    "model_exp = model_experiment()\n",
    "model_norm4 = multi_gpu_model(model_exp, gpus=2)\n",
    "\n",
    "model_norm4.compile(loss='categorical_crossentropy',\n",
    "              optimizer=Adam(lr=0.001, beta_1=0.9, beta_2=0.999, epsilon=1e-7),\n",
    "              metrics=['accuracy'])\n",
    "\n",
    "filepath = \"experimental-{val_loss:.2f}-{val_acc:.4f}.hdf5\"\n",
    "\n",
    "early_stopper = EarlyStopping(monitor='val_acc', min_delta=0, patience=8, verbose=1, mode='auto')\n",
    "lr_reducer = ReduceLROnPlateau(monitor='val_acc', factor=0.9, patience=5, verbose=1)\n",
    "checkpoint = ModelCheckpoint(filepath, monitor='val_acc', verbose=1, save_best_only=True, mode='max')\n",
    "\n",
    "\n",
    "history_res4 = model_norm4.fit(train_ds_inv, train_labels, \n",
    "          batch_size=64, validation_data=[pub_test_ds_inv, pub_test_labels], epochs=100, verbose=1, callbacks=[early_stopper, lr_reducer, checkpoint])"
   ]
  },
  {
   "cell_type": "code",
   "execution_count": 31,
   "metadata": {
    "collapsed": false
   },
   "outputs": [
    {
     "data": {
      "text/plain": [
       "[<matplotlib.lines.Line2D at 0x7f1fe89b6940>]"
      ]
     },
     "execution_count": 31,
     "metadata": {},
     "output_type": "execute_result"
    },
    {
     "data": {
      "image/png": "[encoded data removed]",
      "text/plain": [
       "<Figure size 432x288 with 1 Axes>"
      ]
     },
     "metadata": {},
     "output_type": "display_data"
    }
   ],
   "source": [
    "plt.plot(history_res4.history['acc'])\n",
    "plt.plot(history_res4.history['val_acc'])"
   ]
  },
  {
   "cell_type": "code",
   "execution_count": 42,
   "metadata": {
    "collapsed": false
   },
   "outputs": [
    {
     "data": {
      "text/plain": [
       "0.6391752577402625"
      ]
     },
     "execution_count": 42,
     "metadata": {},
     "output_type": "execute_result"
    }
   ],
   "source": [
    "max(history_res4.history['val_acc'])"
   ]
  },
  {
   "cell_type": "code",
   "execution_count": 41,
   "metadata": {
    "collapsed": false
   },
   "outputs": [
    {
     "data": {
      "text/plain": [
       "[<matplotlib.lines.Line2D at 0x7f1fd4e2d390>]"
      ]
     },
     "execution_count": 41,
     "metadata": {},
     "output_type": "execute_result"
    },
    {
     "data": {
      "image/png": "[encoded data removed]",
      "text/plain": [
       "<Figure size 432x288 with 1 Axes>"
      ]
     },
     "metadata": {},
     "output_type": "display_data"
    }
   ],
   "source": [
    "plt.plot(history_res4.history['loss'])\n",
    "plt.plot(history_res4.history['val_loss'])"
   ]
  },
  {
   "cell_type": "code",
   "execution_count": 5,
   "metadata": {
    "collapsed": true
   },
   "outputs": [],
   "source": [
    "def model_experiment_2():\n",
    "    model = Sequential()\n",
    "    num_features = 128\n",
    "    num_labels = 7\n",
    "    model.add(Convolution2D(num_features, kernel_size=(4, 4), activation='relu', input_shape=(48, 48, 1), data_format='channels_last', kernel_regularizer=l2(0.01)))\n",
    "    model.add(Convolution2D(num_features, kernel_size=(4, 4), activation='relu', padding='same'))\n",
    "    model.add(BatchNormalization())\n",
    "    model.add(MaxPooling2D(pool_size=(2, 2), strides=(2, 2)))\n",
    "    model.add(Dropout(0.6))\n",
    "\n",
    "    model.add(Convolution2D(2*num_features, kernel_size=(4, 4), activation='relu', padding='same'))\n",
    "    model.add(BatchNormalization())\n",
    "    model.add(Convolution2D(2*num_features, kernel_size=(4, 4), activation='relu', padding='same'))\n",
    "    model.add(BatchNormalization())\n",
    "    model.add(MaxPooling2D(pool_size=(2, 2), strides=(2, 2)))\n",
    "    model.add(Dropout(0.6))\n",
    "\n",
    "    model.add(Convolution2D(2*2*num_features, kernel_size=(4, 4), activation='relu', padding='same'))\n",
    "    model.add(BatchNormalization())\n",
    "    model.add(Convolution2D(2*2*num_features, kernel_size=(4, 4), activation='relu', padding='same'))\n",
    "    model.add(BatchNormalization())\n",
    "    model.add(MaxPooling2D(pool_size=(2, 2), strides=(2, 2)))\n",
    "    model.add(Dropout(0.6))\n",
    "\n",
    "    model.add(Convolution2D(2*2*2*num_features, kernel_size=(4, 4), activation='relu', padding='same'))\n",
    "    model.add(BatchNormalization())\n",
    "    model.add(Convolution2D(2*2*2*num_features, kernel_size=(4, 4), activation='relu', padding='same'))\n",
    "    model.add(BatchNormalization())\n",
    "    model.add(MaxPooling2D(pool_size=(2, 2), strides=(2, 2)))\n",
    "    model.add(Dropout(0.6))\n",
    "    \n",
    "    model.add(Convolution2D(2*2*2*num_features, kernel_size=(2, 2), activation='relu', padding='same'))\n",
    "    model.add(BatchNormalization())\n",
    "    model.add(Convolution2D(2*2*2*num_features, kernel_size=(2, 2), activation='relu', padding='same'))\n",
    "    model.add(BatchNormalization())\n",
    "    model.add(MaxPooling2D(pool_size=(2, 2), strides=(2, 2)))\n",
    "    model.add(Dropout(0.6))\n",
    "\n",
    "    model.add(Flatten())\n",
    "\n",
    "    model.add(Dense(2*2*2*2*num_features, activation='relu'))\n",
    "    model.add(Dropout(0.4))\n",
    "#     model.add(Dense(2*2*num_features, activation='relu'))\n",
    "#     model.add(Dropout(0.4))\n",
    "    model.add(Dense(2*num_features, activation='relu'))\n",
    "    model.add(Dropout(0.4))\n",
    "\n",
    "    model.add(Dense(num_labels, activation='softmax'))\n",
    "    return model"
   ]
  },
  {
   "cell_type": "code",
   "execution_count": 35,
   "metadata": {
    "collapsed": false
   },
   "outputs": [
    {
     "name": "stdout",
     "output_type": "stream",
     "text": [
      "_________________________________________________________________\n",
      "Layer (type)                 Output Shape              Param #   \n",
      "=================================================================\n",
      "conv2d_53 (Conv2D)           (None, 45, 45, 128)       2176      \n",
      "_________________________________________________________________\n",
      "conv2d_54 (Conv2D)           (None, 45, 45, 128)       262272    \n",
      "_________________________________________________________________\n",
      "batch_normalization_38 (Batc (None, 45, 45, 128)       512       \n",
      "_________________________________________________________________\n",
      "max_pooling2d_27 (MaxPooling (None, 22, 22, 128)       0         \n",
      "_________________________________________________________________\n",
      "dropout_43 (Dropout)         (None, 22, 22, 128)       0         \n",
      "_________________________________________________________________\n",
      "conv2d_55 (Conv2D)           (None, 22, 22, 256)       524544    \n",
      "_________________________________________________________________\n",
      "batch_normalization_39 (Batc (None, 22, 22, 256)       1024      \n",
      "_________________________________________________________________\n",
      "conv2d_56 (Conv2D)           (None, 22, 22, 256)       1048832   \n",
      "_________________________________________________________________\n",
      "batch_normalization_40 (Batc (None, 22, 22, 256)       1024      \n",
      "_________________________________________________________________\n",
      "max_pooling2d_28 (MaxPooling (None, 11, 11, 256)       0         \n",
      "_________________________________________________________________\n",
      "dropout_44 (Dropout)         (None, 11, 11, 256)       0         \n",
      "_________________________________________________________________\n",
      "conv2d_57 (Conv2D)           (None, 11, 11, 512)       2097664   \n",
      "_________________________________________________________________\n",
      "batch_normalization_41 (Batc (None, 11, 11, 512)       2048      \n",
      "_________________________________________________________________\n",
      "conv2d_58 (Conv2D)           (None, 11, 11, 512)       4194816   \n",
      "_________________________________________________________________\n",
      "batch_normalization_42 (Batc (None, 11, 11, 512)       2048      \n",
      "_________________________________________________________________\n",
      "max_pooling2d_29 (MaxPooling (None, 5, 5, 512)         0         \n",
      "_________________________________________________________________\n",
      "dropout_45 (Dropout)         (None, 5, 5, 512)         0         \n",
      "_________________________________________________________________\n",
      "conv2d_59 (Conv2D)           (None, 5, 5, 1024)        8389632   \n",
      "_________________________________________________________________\n",
      "batch_normalization_43 (Batc (None, 5, 5, 1024)        4096      \n",
      "_________________________________________________________________\n",
      "conv2d_60 (Conv2D)           (None, 5, 5, 1024)        16778240  \n",
      "_________________________________________________________________\n",
      "batch_normalization_44 (Batc (None, 5, 5, 1024)        4096      \n",
      "_________________________________________________________________\n",
      "max_pooling2d_30 (MaxPooling (None, 2, 2, 1024)        0         \n",
      "_________________________________________________________________\n",
      "dropout_46 (Dropout)         (None, 2, 2, 1024)        0         \n",
      "_________________________________________________________________\n",
      "conv2d_61 (Conv2D)           (None, 2, 2, 2048)        33556480  \n",
      "_________________________________________________________________\n",
      "batch_normalization_45 (Batc (None, 2, 2, 2048)        8192      \n",
      "_________________________________________________________________\n",
      "conv2d_62 (Conv2D)           (None, 2, 2, 2048)        67110912  \n",
      "_________________________________________________________________\n",
      "batch_normalization_46 (Batc (None, 2, 2, 2048)        8192      \n",
      "_________________________________________________________________\n",
      "max_pooling2d_31 (MaxPooling (None, 1, 1, 2048)        0         \n",
      "_________________________________________________________________\n",
      "dropout_47 (Dropout)         (None, 1, 1, 2048)        0         \n",
      "_________________________________________________________________\n",
      "flatten_7 (Flatten)          (None, 2048)              0         \n",
      "_________________________________________________________________\n",
      "dense_23 (Dense)             (None, 2048)              4196352   \n",
      "_________________________________________________________________\n",
      "dropout_48 (Dropout)         (None, 2048)              0         \n",
      "_________________________________________________________________\n",
      "dense_24 (Dense)             (None, 256)               524544    \n",
      "_________________________________________________________________\n",
      "dropout_49 (Dropout)         (None, 256)               0         \n",
      "_________________________________________________________________\n",
      "dense_25 (Dense)             (None, 7)                 1799      \n",
      "=================================================================\n",
      "Total params: 138,719,495\n",
      "Trainable params: 138,703,879\n",
      "Non-trainable params: 15,616\n",
      "_________________________________________________________________\n"
     ]
    }
   ],
   "source": [
    "model_exp_2.summary()"
   ]
  },
  {
   "cell_type": "code",
   "execution_count": null,
   "metadata": {
    "collapsed": false
   },
   "outputs": [
    {
     "name": "stdout",
     "output_type": "stream",
     "text": [
      "Train on 28709 samples, validate on 3589 samples\n",
      "Epoch 1/100\n",
      "28709/28709 [==============================] - 217s 8ms/step - loss: 1.9119 - acc: 0.2379 - val_loss: 1.8036 - val_acc: 0.2505\n",
      "\n",
      "Epoch 00001: val_acc improved from -inf to 0.25049, saving model to experimental-1.80-0.2505.hdf5\n",
      "Epoch 2/100\n",
      "28709/28709 [==============================] - 207s 7ms/step - loss: 1.8217 - acc: 0.2601 - val_loss: 1.8203 - val_acc: 0.2494\n",
      "\n",
      "Epoch 00002: val_acc did not improve from 0.25049\n",
      "Epoch 3/100\n",
      "28709/28709 [==============================] - 208s 7ms/step - loss: 1.7554 - acc: 0.2935 - val_loss: 1.6729 - val_acc: 0.3497\n",
      "\n",
      "Epoch 00003: val_acc improved from 0.25049 to 0.34968, saving model to experimental-1.67-0.3497.hdf5\n",
      "Epoch 4/100\n",
      "28709/28709 [==============================] - 207s 7ms/step - loss: 1.6665 - acc: 0.3308 - val_loss: 1.8493 - val_acc: 0.2502\n",
      "\n",
      "Epoch 00004: val_acc did not improve from 0.34968\n",
      "Epoch 5/100\n",
      "28709/28709 [==============================] - 207s 7ms/step - loss: 1.5887 - acc: 0.3705 - val_loss: 1.7392 - val_acc: 0.3188\n",
      "\n",
      "Epoch 00005: val_acc did not improve from 0.34968\n",
      "Epoch 6/100\n",
      "28709/28709 [==============================] - 207s 7ms/step - loss: 1.5246 - acc: 0.4008 - val_loss: 1.4158 - val_acc: 0.4394\n",
      "\n",
      "Epoch 00006: val_acc improved from 0.34968 to 0.43940, saving model to experimental-1.42-0.4394.hdf5\n",
      "Epoch 7/100\n",
      "28709/28709 [==============================] - 206s 7ms/step - loss: 1.4663 - acc: 0.4282 - val_loss: 1.4314 - val_acc: 0.4177\n",
      "\n",
      "Epoch 00007: val_acc did not improve from 0.43940\n",
      "Epoch 8/100\n",
      "28709/28709 [==============================] - 206s 7ms/step - loss: 1.4306 - acc: 0.4314 - val_loss: 1.3513 - val_acc: 0.4425\n",
      "\n",
      "Epoch 00008: val_acc improved from 0.43940 to 0.44246, saving model to experimental-1.35-0.4425.hdf5\n",
      "Epoch 9/100\n",
      "28709/28709 [==============================] - 206s 7ms/step - loss: 1.3955 - acc: 0.4385 - val_loss: 1.3393 - val_acc: 0.4570\n",
      "\n",
      "Epoch 00009: val_acc improved from 0.44246 to 0.45695, saving model to experimental-1.34-0.4570.hdf5\n",
      "Epoch 10/100\n",
      "28709/28709 [==============================] - 206s 7ms/step - loss: 1.3652 - acc: 0.4545 - val_loss: 1.3180 - val_acc: 0.4648\n",
      "\n",
      "Epoch 00010: val_acc improved from 0.45695 to 0.46475, saving model to experimental-1.32-0.4648.hdf5\n",
      "Epoch 11/100\n",
      "28709/28709 [==============================] - 207s 7ms/step - loss: 1.3442 - acc: 0.4679 - val_loss: 1.2554 - val_acc: 0.5143\n",
      "\n",
      "Epoch 00011: val_acc improved from 0.46475 to 0.51435, saving model to experimental-1.26-0.5143.hdf5\n",
      "Epoch 12/100\n",
      "28709/28709 [==============================] - 207s 7ms/step - loss: 1.3076 - acc: 0.4900 - val_loss: 1.3250 - val_acc: 0.4823\n",
      "\n",
      "Epoch 00012: val_acc did not improve from 0.51435\n",
      "Epoch 13/100\n",
      "28709/28709 [==============================] - 206s 7ms/step - loss: 1.2769 - acc: 0.5082 - val_loss: 1.2455 - val_acc: 0.5269\n",
      "\n",
      "Epoch 00013: val_acc improved from 0.51435 to 0.52689, saving model to experimental-1.25-0.5269.hdf5\n",
      "Epoch 14/100\n",
      "28709/28709 [==============================] - 207s 7ms/step - loss: 1.2417 - acc: 0.5311 - val_loss: 1.1845 - val_acc: 0.5506\n",
      "\n",
      "Epoch 00014: val_acc improved from 0.52689 to 0.55057, saving model to experimental-1.18-0.5506.hdf5\n",
      "Epoch 15/100\n",
      "28709/28709 [==============================] - 206s 7ms/step - loss: 1.2132 - acc: 0.5432 - val_loss: 1.2194 - val_acc: 0.5436\n",
      "\n",
      "Epoch 00015: val_acc did not improve from 0.55057\n",
      "Epoch 16/100\n",
      "28709/28709 [==============================] - 206s 7ms/step - loss: 1.1800 - acc: 0.5554 - val_loss: 1.1804 - val_acc: 0.5639\n",
      "\n",
      "Epoch 00016: val_acc improved from 0.55057 to 0.56395, saving model to experimental-1.18-0.5639.hdf5\n",
      "Epoch 17/100\n",
      "28709/28709 [==============================] - 207s 7ms/step - loss: 1.1384 - acc: 0.5782 - val_loss: 1.1921 - val_acc: 0.5495\n",
      "\n",
      "Epoch 00017: val_acc did not improve from 0.56395\n",
      "Epoch 18/100\n",
      "28709/28709 [==============================] - 207s 7ms/step - loss: 1.1147 - acc: 0.5907 - val_loss: 1.1563 - val_acc: 0.5734\n",
      "\n",
      "Epoch 00018: val_acc improved from 0.56395 to 0.57342, saving model to experimental-1.16-0.5734.hdf5\n",
      "Epoch 19/100\n",
      "28709/28709 [==============================] - 207s 7ms/step - loss: 1.0814 - acc: 0.6053 - val_loss: 1.1522 - val_acc: 0.5887\n",
      "\n",
      "Epoch 00019: val_acc improved from 0.57342 to 0.58874, saving model to experimental-1.15-0.5887.hdf5\n",
      "Epoch 20/100\n",
      "28709/28709 [==============================] - 206s 7ms/step - loss: 1.0572 - acc: 0.6201 - val_loss: 1.1991 - val_acc: 0.6002\n",
      "\n",
      "Epoch 00020: val_acc improved from 0.58874 to 0.60017, saving model to experimental-1.20-0.6002.hdf5\n",
      "Epoch 21/100\n",
      "28709/28709 [==============================] - 207s 7ms/step - loss: 1.0140 - acc: 0.6339 - val_loss: 1.1514 - val_acc: 0.5779\n",
      "\n",
      "Epoch 00021: val_acc did not improve from 0.60017\n",
      "Epoch 22/100\n",
      "28709/28709 [==============================] - 207s 7ms/step - loss: 0.9881 - acc: 0.6470 - val_loss: 1.1641 - val_acc: 0.5804\n",
      "\n",
      "Epoch 00022: val_acc did not improve from 0.60017\n",
      "Epoch 23/100\n",
      "28709/28709 [==============================] - 206s 7ms/step - loss: 0.9532 - acc: 0.6633 - val_loss: 1.2196 - val_acc: 0.5834\n",
      "\n",
      "Epoch 00023: val_acc did not improve from 0.60017\n",
      "Epoch 24/100\n",
      "28709/28709 [==============================] - 207s 7ms/step - loss: 0.9234 - acc: 0.6750 - val_loss: 1.1939 - val_acc: 0.5896\n",
      "\n",
      "Epoch 00024: val_acc did not improve from 0.60017\n",
      "Epoch 25/100\n",
      "28709/28709 [==============================] - 207s 7ms/step - loss: 0.8862 - acc: 0.6876 - val_loss: 1.1677 - val_acc: 0.6007\n",
      "\n",
      "Epoch 00025: val_acc improved from 0.60017 to 0.60072, saving model to experimental-1.17-0.6007.hdf5\n",
      "Epoch 26/100\n",
      "28709/28709 [==============================] - 207s 7ms/step - loss: 0.8661 - acc: 0.6968 - val_loss: 1.1083 - val_acc: 0.6027\n",
      "\n",
      "Epoch 00026: val_acc improved from 0.60072 to 0.60267, saving model to experimental-1.11-0.6027.hdf5\n",
      "Epoch 27/100\n",
      "28709/28709 [==============================] - 207s 7ms/step - loss: 0.8311 - acc: 0.7085 - val_loss: 1.1408 - val_acc: 0.6219\n",
      "\n",
      "Epoch 00027: val_acc improved from 0.60267 to 0.62190, saving model to experimental-1.14-0.6219.hdf5\n",
      "Epoch 28/100\n",
      "28709/28709 [==============================] - 207s 7ms/step - loss: 0.7978 - acc: 0.7224 - val_loss: 1.2353 - val_acc: 0.6158\n",
      "\n",
      "Epoch 00028: val_acc did not improve from 0.62190\n",
      "Epoch 29/100\n",
      "28709/28709 [==============================] - 207s 7ms/step - loss: 0.7711 - acc: 0.7296 - val_loss: 1.1736 - val_acc: 0.6213\n",
      "\n",
      "Epoch 00029: val_acc did not improve from 0.62190\n",
      "Epoch 30/100\n",
      "28709/28709 [==============================] - 207s 7ms/step - loss: 0.7363 - acc: 0.7467 - val_loss: 1.1468 - val_acc: 0.6149\n",
      "\n",
      "Epoch 00030: val_acc did not improve from 0.62190\n",
      "Epoch 31/100\n",
      "28709/28709 [==============================] - 206s 7ms/step - loss: 0.7104 - acc: 0.7538 - val_loss: 1.1385 - val_acc: 0.6255\n",
      "\n",
      "Epoch 00031: val_acc improved from 0.62190 to 0.62552, saving model to experimental-1.14-0.6255.hdf5\n",
      "Epoch 32/100\n",
      "28709/28709 [==============================] - 206s 7ms/step - loss: 0.6816 - acc: 0.7647 - val_loss: 1.1296 - val_acc: 0.6191\n",
      "\n",
      "Epoch 00032: val_acc did not improve from 0.62552\n",
      "Epoch 33/100\n",
      "28709/28709 [==============================] - 206s 7ms/step - loss: 0.6682 - acc: 0.7688 - val_loss: 1.1905 - val_acc: 0.6127\n",
      "\n",
      "Epoch 00033: val_acc did not improve from 0.62552\n",
      "Epoch 34/100\n",
      "10112/28709 [=========>....................] - ETA: 2:09 - loss: 0.6159 - acc: 0.7892"
     ]
    }
   ],
   "source": [
    "model_exp_2 = model_experiment_2()\n",
    "model_norm5 = multi_gpu_model(model_exp_2, gpus=2)\n",
    "\n",
    "model_norm5.compile(loss='categorical_crossentropy',\n",
    "              optimizer=Adam(lr=0.001, beta_1=0.9, beta_2=0.999, epsilon=1e-7),\n",
    "              metrics=['accuracy'])\n",
    "\n",
    "filepath = \"experimental-{val_loss:.2f}-{val_acc:.4f}.hdf5\"\n",
    "\n",
    "early_stopper = EarlyStopping(monitor='val_acc', min_delta=0, patience=15, verbose=1, mode='auto')\n",
    "lr_reducer = ReduceLROnPlateau(monitor='val_acc', factor=0.9, patience=5, verbose=1)\n",
    "checkpoint = ModelCheckpoint(filepath, monitor='val_acc', verbose=1, save_best_only=True, mode='max')\n",
    "\n",
    "\n",
    "history_res5 = model_norm5.fit(train_ds_inv, train_labels, \n",
    "          batch_size=64, validation_data=[pub_test_ds_inv, pub_test_labels], epochs=100, verbose=1, callbacks=[early_stopper, lr_reducer, checkpoint])"
   ]
  },
  {
   "cell_type": "code",
   "execution_count": 38,
   "metadata": {
    "collapsed": false
   },
   "outputs": [
    {
     "data": {
      "text/plain": [
       "[<matplotlib.lines.Line2D at 0x7f1fd4d3f278>]"
      ]
     },
     "execution_count": 38,
     "metadata": {},
     "output_type": "execute_result"
    },
    {
     "data": {
      "image/png": "[encoded data removed]",
      "text/plain": [
       "<Figure size 432x288 with 1 Axes>"
      ]
     },
     "metadata": {},
     "output_type": "display_data"
    }
   ],
   "source": [
    "plt.plot(history_res5.history['acc'])\n",
    "plt.plot(history_res5.history['val_acc'])"
   ]
  },
  {
   "cell_type": "code",
   "execution_count": 40,
   "metadata": {
    "collapsed": false
   },
   "outputs": [
    {
     "data": {
      "text/plain": [
       "0.6503204235246036"
      ]
     },
     "execution_count": 40,
     "metadata": {},
     "output_type": "execute_result"
    }
   ],
   "source": [
    "max(history_res5.history[\"val_acc\"])"
   ]
  },
  {
   "cell_type": "code",
   "execution_count": 45,
   "metadata": {
    "collapsed": false
   },
   "outputs": [
    {
     "name": "stdout",
     "output_type": "stream",
     "text": [
      "3589/3589 [==============================] - 11s 3ms/step\n"
     ]
    },
    {
     "data": {
      "text/plain": [
       "[1.477180510825784, 0.6567288938589035]"
      ]
     },
     "execution_count": 45,
     "metadata": {},
     "output_type": "execute_result"
    }
   ],
   "source": [
    "model_norm5.evaluate(priv_test_ds_inv, priv_test_labels)"
   ]
  },
  {
   "cell_type": "code",
   "execution_count": 46,
   "metadata": {
    "collapsed": true
   },
   "outputs": [],
   "source": [
    "model_norm5.save(\"experiment_2.hdf5\")"
   ]
  },
  {
   "cell_type": "code",
   "execution_count": 39,
   "metadata": {
    "collapsed": false
   },
   "outputs": [
    {
     "data": {
      "text/plain": [
       "[<matplotlib.lines.Line2D at 0x7f1fd4e2d470>]"
      ]
     },
     "execution_count": 39,
     "metadata": {},
     "output_type": "execute_result"
    },
    {
     "data": {
      "image/png": "[encoded data removed]",
      "text/plain": [
       "<Figure size 432x288 with 1 Axes>"
      ]
     },
     "metadata": {},
     "output_type": "display_data"
    }
   ],
   "source": [
    "plt.plot(history_res5.history['loss'])\n",
    "plt.plot(history_res5.history['val_loss'])"
   ]
  },
  {
   "cell_type": "code",
   "execution_count": 6,
   "metadata": {
    "collapsed": true
   },
   "outputs": [],
   "source": [
    "from keras.models import load_model\n"
   ]
  },
  {
   "cell_type": "code",
   "execution_count": 8,
   "metadata": {
    "collapsed": false
   },
   "outputs": [
    {
     "data": {
      "text/plain": [
       "'2.2.0'"
      ]
     },
     "execution_count": 8,
     "metadata": {},
     "output_type": "execute_result"
    }
   ],
   "source": [
    "keras.__version__"
   ]
  },
  {
   "cell_type": "code",
   "execution_count": 7,
   "metadata": {
    "collapsed": true
   },
   "outputs": [],
   "source": [
    "mod = load_model(\"experiment_2.hdf5\")"
   ]
  },
  {
   "cell_type": "markdown",
   "metadata": {},
   "source": [
    "## Plot confusion matrices"
   ]
  },
  {
   "cell_type": "code",
   "execution_count": 9,
   "metadata": {
    "collapsed": true
   },
   "outputs": [],
   "source": [
    "def plot_confusion_matrix(cm,\n",
    "                          target_names,\n",
    "                          title='Confusion matrix',\n",
    "                          cmap=None,\n",
    "                          normalize=True):\n",
    "    \"\"\"\n",
    "    given a sklearn confusion matrix (cm), make a nice plot\n",
    "\n",
    "    Arguments\n",
    "    ---------\n",
    "    cm:           confusion matrix from sklearn.metrics.confusion_matrix\n",
    "\n",
    "    target_names: given classification classes such as [0, 1, 2]\n",
    "                  the class names, for example: ['high', 'medium', 'low']\n",
    "\n",
    "    title:        the text to display at the top of the matrix\n",
    "\n",
    "    cmap:         the gradient of the values displayed from matplotlib.pyplot.cm\n",
    "                  see http://matplotlib.org/examples/color/colormaps_reference.html\n",
    "                  plt.get_cmap('jet') or plt.cm.Blues\n",
    "\n",
    "    normalize:    If False, plot the raw numbers\n",
    "                  If True, plot the proportions\n",
    "\n",
    "    Usage\n",
    "    -----\n",
    "    plot_confusion_matrix(cm           = cm,                  # confusion matrix created by\n",
    "                                                              # sklearn.metrics.confusion_matrix\n",
    "                          normalize    = True,                # show proportions\n",
    "                          target_names = y_labels_vals,       # list of names of the classes\n",
    "                          title        = best_estimator_name) # title of graph\n",
    "\n",
    "    Citiation\n",
    "    ---------\n",
    "    http://scikit-learn.org/stable/auto_examples/model_selection/plot_confusion_matrix.html\n",
    "\n",
    "    \"\"\"\n",
    "    import matplotlib.pyplot as plt\n",
    "    import numpy as np\n",
    "    import itertools\n",
    "\n",
    "    accuracy = np.trace(cm) / float(np.sum(cm))\n",
    "    misclass = 1 - accuracy\n",
    "\n",
    "    if cmap is None:\n",
    "        cmap = plt.get_cmap('Blues')\n",
    "\n",
    "    plt.figure(figsize=(8, 6))\n",
    "    plt.imshow(cm, interpolation='nearest', cmap=cmap)\n",
    "    plt.title(title)\n",
    "    plt.colorbar()\n",
    "\n",
    "    if target_names is not None:\n",
    "        tick_marks = np.arange(len(target_names))\n",
    "        plt.xticks(tick_marks, target_names, rotation=45)\n",
    "        plt.yticks(tick_marks, target_names)\n",
    "\n",
    "    if normalize:\n",
    "        cm = cm.astype('float') / cm.sum(axis=1)[:, np.newaxis]\n",
    "\n",
    "\n",
    "    thresh = cm.max() / 1.5 if normalize else cm.max() / 2\n",
    "    for i, j in itertools.product(range(cm.shape[0]), range(cm.shape[1])):\n",
    "        if normalize:\n",
    "            plt.text(j, i, \"{:0.4f}\".format(cm[i, j]),\n",
    "                     horizontalalignment=\"center\",\n",
    "                     color=\"white\" if cm[i, j] > thresh else \"black\")\n",
    "        else:\n",
    "            plt.text(j, i, \"{:,}\".format(cm[i, j]),\n",
    "                     horizontalalignment=\"center\",\n",
    "                     color=\"white\" if cm[i, j] > thresh else \"black\")\n",
    "\n",
    "\n",
    "    plt.tight_layout()\n",
    "    plt.ylabel('True label')\n",
    "    plt.xlabel('Predicted label\\naccuracy={:0.4f}; misclass={:0.4f}'.format(accuracy, misclass))\n",
    "    plt.show()"
   ]
  },
  {
   "cell_type": "code",
   "execution_count": 15,
   "metadata": {
    "collapsed": true
   },
   "outputs": [],
   "source": [
    "from sklearn.metrics import confusion_matrix"
   ]
  },
  {
   "cell_type": "code",
   "execution_count": 20,
   "metadata": {
    "collapsed": true
   },
   "outputs": [],
   "source": [
    "pred = mod.predict(priv_test_ds_inv)"
   ]
  },
  {
   "cell_type": "code",
   "execution_count": 21,
   "metadata": {
    "collapsed": true
   },
   "outputs": [],
   "source": [
    "pred = np.argmax(pred, axis=1)"
   ]
  },
  {
   "cell_type": "code",
   "execution_count": 24,
   "metadata": {
    "collapsed": false
   },
   "outputs": [
    {
     "data": {
      "text/plain": [
       "(3589, 7)"
      ]
     },
     "execution_count": 24,
     "metadata": {},
     "output_type": "execute_result"
    }
   ],
   "source": [
    "priv_test_labels.shape"
   ]
  },
  {
   "cell_type": "code",
   "execution_count": 29,
   "metadata": {
    "collapsed": true
   },
   "outputs": [],
   "source": [
    "names = [\"Angry\", \"Disgust\", \"Fear\", \"Happy\", \"Sad\", \"Surprise\", \"Neutral\"]"
   ]
  },
  {
   "cell_type": "code",
   "execution_count": 28,
   "metadata": {
    "collapsed": true
   },
   "outputs": [],
   "source": [
    "conf_matrix_experiment2 = confusion_matrix(priv_test_labels_no_cat, pred)"
   ]
  },
  {
   "cell_type": "code",
   "execution_count": 31,
   "metadata": {
    "collapsed": false
   },
   "outputs": [
    {
     "data": {
      "image/png": "[encoded data removed]",
      "text/plain": [
       "<Figure size 576x432 with 2 Axes>"
      ]
     },
     "metadata": {},
     "output_type": "display_data"
    }
   ],
   "source": [
    "plot_confusion_matrix(conf_matrix_experiment2, names)"
   ]
  },
  {
   "cell_type": "markdown",
   "metadata": {},
   "source": [
    "## One more"
   ]
  },
  {
   "cell_type": "code",
   "execution_count": 32,
   "metadata": {
    "collapsed": true
   },
   "outputs": [],
   "source": [
    "one_more_model = load_model(\"one_more_model.hdf5\")"
   ]
  },
  {
   "cell_type": "code",
   "execution_count": 33,
   "metadata": {
    "collapsed": true
   },
   "outputs": [],
   "source": [
    "def get_conf_matrix(model, test_ds, test_labels):\n",
    "    names = [\"Angry\", \"Disgust\", \"Fear\", \"Happy\", \"Sad\", \"Surprise\", \"Neutral\"]\n",
    "    print(\"Predicting...\")\n",
    "    pred = model.predict(test_ds)\n",
    "    pred = np.argmax(pred, axis=1)\n",
    "    conf_matrix = confusion_matrix(test_labels, pred)\n",
    "    print(\"Plotting\")\n",
    "    plot_confusion_matrix(conf_matrix, names)"
   ]
  },
  {
   "cell_type": "code",
   "execution_count": 34,
   "metadata": {
    "collapsed": false
   },
   "outputs": [
    {
     "name": "stdout",
     "output_type": "stream",
     "text": [
      "Predicting...\n",
      "Plotting\n"
     ]
    },
    {
     "data": {
      "image/png": "[encoded data removed]",
      "text/plain": [
       "<Figure size 576x432 with 2 Axes>"
      ]
     },
     "metadata": {},
     "output_type": "display_data"
    }
   ],
   "source": [
    "get_conf_matrix(one_more_model, priv_test_ds_inv, priv_test_labels_no_cat)"
   ]
  }
 ],
 "metadata": {
  "anaconda-cloud": {},
  "kernelspec": {
   "display_name": "Python [default]",
   "language": "python",
   "name": "python3"
  },
  "language_info": {
   "codemirror_mode": {
    "name": "ipython",
    "version": 3
   },
   "file_extension": ".py",
   "mimetype": "text/x-python",
   "name": "python",
   "nbconvert_exporter": "python",
   "pygments_lexer": "ipython3",
   "version": "3.5.2"
  }
 },
 "nbformat": 4,
 "nbformat_minor": 1
}
