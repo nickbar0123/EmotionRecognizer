{
 "cells": [
  {
   "cell_type": "code",
   "execution_count": 110,
   "metadata": {
    "colab": {
     "autoexec": {
      "startup": false,
      "wait_interval": 0
     },
     "base_uri": "https://localhost:8080/",
     "height": 38,
     "resources": {
      "http://localhost:8080/nbextensions/google.colab/files.js": {
       "data": "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",
       "headers": [
        [
         "content-type",
         "application/javascript"
        ]
       ],
       "ok": true,
       "status": 200,
       "status_text": ""
      }
     }
    },
    "colab_type": "code",
    "collapsed": false,
    "executionInfo": {
     "elapsed": 39346,
     "status": "ok",
     "timestamp": 1529251396905,
     "user": {
      "displayName": "Давид Петров",
      "photoUrl": "https://lh3.googleusercontent.com/a/default-user=s128",
      "userId": "108488224290937948444"
     },
     "user_tz": -180
    },
    "id": "cQyl86Y7lsZT",
    "outputId": "6ee09456-c112-4788-f229-e9ee2345aef7"
   },
   "outputs": [
    {
     "data": {
      "text/html": [
       "\n",
       "     <input type=\"file\" id=\"files-9106aa61-5ad5-47eb-b7d3-5ed3722d41a6\" name=\"files[]\" multiple disabled />\n",
       "     <output id=\"result-9106aa61-5ad5-47eb-b7d3-5ed3722d41a6\">\n",
       "      Upload widget is only available when the cell has been executed in the\n",
       "      current browser session. Please rerun this cell to enable.\n",
       "      </output>\n",
       "      <script src=\"/nbextensions/google.colab/files.js\"></script> "
      ],
      "text/plain": [
       "<IPython.core.display.HTML object>"
      ]
     },
     "metadata": {
      "tags": []
     },
     "output_type": "display_data"
    }
   ],
   "source": [
    "from google.colab import files\n",
    "\n",
    "uploaded = files.upload()\n",
    "\n",
    "for fn in uploaded.keys():\n",
    "  print('User uploaded file \"{name}\" with length {length} bytes'.format(\n",
    "      name=fn, length=len(uploaded[fn])))"
   ]
  },
  {
   "cell_type": "code",
   "execution_count": 1,
   "metadata": {
    "collapsed": false
   },
   "outputs": [
    {
     "name": "stderr",
     "output_type": "stream",
     "text": [
      "/home/thalvadzhiev_gmail_com/anaconda3/lib/python3.6/site-packages/h5py/__init__.py:36: FutureWarning: Conversion of the second argument of issubdtype from `float` to `np.floating` is deprecated. In future, it will be treated as `np.float64 == np.dtype(float).type`.\n",
      "  from ._conv import register_converters as _register_converters\n"
     ]
    },
    {
     "name": "stdout",
     "output_type": "stream",
     "text": [
      "[name: \"/device:CPU:0\"\n",
      "device_type: \"CPU\"\n",
      "memory_limit: 268435456\n",
      "locality {\n",
      "}\n",
      "incarnation: 12044853500389275560\n",
      ", name: \"/device:GPU:0\"\n",
      "device_type: \"GPU\"\n",
      "memory_limit: 11270098125\n",
      "locality {\n",
      "  bus_id: 1\n",
      "  links {\n",
      "    link {\n",
      "      device_id: 1\n",
      "      type: \"StreamExecutor\"\n",
      "      strength: 1\n",
      "    }\n",
      "  }\n",
      "}\n",
      "incarnation: 18338255659155598178\n",
      "physical_device_desc: \"device: 0, name: Tesla K80, pci bus id: 0000:00:04.0, compute capability: 3.7\"\n",
      ", name: \"/device:GPU:1\"\n",
      "device_type: \"GPU\"\n",
      "memory_limit: 11285974221\n",
      "locality {\n",
      "  bus_id: 1\n",
      "  links {\n",
      "    link {\n",
      "      type: \"StreamExecutor\"\n",
      "      strength: 1\n",
      "    }\n",
      "  }\n",
      "}\n",
      "incarnation: 12333419102297717280\n",
      "physical_device_desc: \"device: 1, name: Tesla K80, pci bus id: 0000:00:05.0, compute capability: 3.7\"\n",
      "]\n"
     ]
    }
   ],
   "source": [
    "from tensorflow.python.client import device_lib\n",
    "print(device_lib.list_local_devices())"
   ]
  },
  {
   "cell_type": "code",
   "execution_count": 2,
   "metadata": {
    "colab": {
     "autoexec": {
      "startup": false,
      "wait_interval": 0
     },
     "base_uri": "https://localhost:8080/",
     "height": 34
    },
    "colab_type": "code",
    "collapsed": true,
    "executionInfo": {
     "elapsed": 3433,
     "status": "ok",
     "timestamp": 1529261388450,
     "user": {
      "displayName": "Давид Петров",
      "photoUrl": "https://lh3.googleusercontent.com/a/default-user=s128",
      "userId": "108488224290937948444"
     },
     "user_tz": -180
    },
    "id": "ni0s-yQNAm35",
    "outputId": "45b3918a-6570-4b0e-f9f2-3ba4c89cbdb9"
   },
   "outputs": [],
   "source": [
    "import sys\n",
    "\n",
    "import sklearn\n",
    "import pandas as pd\n",
    "import matplotlib as mpl\n",
    "import matplotlib.pyplot as plt\n",
    "import numpy as np\n",
    "import keras\n",
    "import pickle\n",
    "\n",
    "from keras.utils import np_utils\n",
    "from keras.models import Sequential\n",
    "from keras.layers.core import Flatten, Dense, Dropout\n",
    "from keras.layers.convolutional import Convolution2D, MaxPooling2D, ZeroPadding2D\n",
    "from keras.optimizers import SGD\n",
    "from keras import Model\n",
    "import cv2, numpy as np\n",
    "\n",
    "from PIL import Image\n",
    "\n",
    "%matplotlib inline"
   ]
  },
  {
   "cell_type": "code",
   "execution_count": 3,
   "metadata": {
    "colab": {
     "autoexec": {
      "startup": false,
      "wait_interval": 0
     }
    },
    "colab_type": "code",
    "collapsed": true,
    "id": "tzigweKi-ze8"
   },
   "outputs": [],
   "source": [
    "with open(\"faces_dataset_conv.pickle\", \"rb\") as f:\n",
    "    data = pickle.load(f)\n",
    "    "
   ]
  },
  {
   "cell_type": "code",
   "execution_count": 4,
   "metadata": {
    "colab": {
     "autoexec": {
      "startup": false,
      "wait_interval": 0
     }
    },
    "colab_type": "code",
    "collapsed": true,
    "id": "272tfc64Awz_"
   },
   "outputs": [],
   "source": [
    "train_ds = data[\"train_dataset\"]\n",
    "train_labels = data[\"train_labels\"]\n",
    "pub_test_ds = data[\"public_test\"]\n",
    "pub_test_labels = data[\"public_test_labels\"]\n",
    "priv_test_ds = data[\"private_test\"]\n",
    "priv_test_labels = data[\"private_test_labels\"]"
   ]
  },
  {
   "cell_type": "code",
   "execution_count": 5,
   "metadata": {
    "colab": {
     "autoexec": {
      "startup": false,
      "wait_interval": 0
     }
    },
    "colab_type": "code",
    "collapsed": true,
    "id": "JIVhk1-8qOkl"
   },
   "outputs": [],
   "source": [
    "train_ds_res = train_ds.reshape(train_ds.shape[0], 48, 48)\n",
    "pub_test_ds_res = pub_test_ds.reshape(pub_test_ds.shape[0], 48, 48)\n",
    "priv_test_ds_res = priv_test_ds.reshape(priv_test_ds.shape[0], 48, 48)"
   ]
  },
  {
   "cell_type": "code",
   "execution_count": 6,
   "metadata": {
    "colab": {
     "autoexec": {
      "startup": false,
      "wait_interval": 0
     }
    },
    "colab_type": "code",
    "collapsed": true,
    "id": "nuic-SxBBFcT"
   },
   "outputs": [],
   "source": [
    "train_labels = np_utils.to_categorical(train_labels, 7)\n",
    "pub_test_labels = np_utils.to_categorical(pub_test_labels, 7)\n",
    "priv_test_labels = np_utils.to_categorical(priv_test_labels, 7)"
   ]
  },
  {
   "cell_type": "code",
   "execution_count": 7,
   "metadata": {
    "collapsed": false
   },
   "outputs": [
    {
     "name": "stdout",
     "output_type": "stream",
     "text": [
      "Collecting keras_vggface\n",
      "  Downloading https://files.pythonhosted.org/packages/11/9c/d249cf4998344806d71b0351db690917413d1f7eaab83805f4095375e7a1/keras_vggface-0.5.tar.gz\n",
      "Requirement already satisfied: numpy>=1.9.1 in /home/thalvadzhiev_gmail_com/anaconda3/lib/python3.6/site-packages (from keras_vggface) (1.14.3)\n",
      "Requirement already satisfied: scipy>=0.14 in /home/thalvadzhiev_gmail_com/anaconda3/lib/python3.6/site-packages (from keras_vggface) (1.1.0)\n",
      "Requirement already satisfied: h5py in /home/thalvadzhiev_gmail_com/anaconda3/lib/python3.6/site-packages (from keras_vggface) (2.7.1)\n",
      "Requirement already satisfied: pillow in /home/thalvadzhiev_gmail_com/anaconda3/lib/python3.6/site-packages (from keras_vggface) (5.1.0)\n",
      "Collecting tensorflow (from keras_vggface)\n",
      "\u001b[?25l  Downloading https://files.pythonhosted.org/packages/22/c6/d08f7c549330c2acc1b18b5c1f0f8d9d2af92f54d56861f331f372731671/tensorflow-1.8.0-cp36-cp36m-manylinux1_x86_64.whl (49.1MB)\n",
      "\u001b[K    100% |████████████████████████████████| 49.1MB 895kB/s eta 0:00:01\n",
      "\u001b[?25hRequirement already satisfied: keras in /home/thalvadzhiev_gmail_com/anaconda3/lib/python3.6/site-packages (from keras_vggface) (2.2.0)\n",
      "Requirement already satisfied: six>=1.9.0 in /home/thalvadzhiev_gmail_com/anaconda3/lib/python3.6/site-packages (from keras_vggface) (1.11.0)\n",
      "Requirement already satisfied: pyyaml in /home/thalvadzhiev_gmail_com/anaconda3/lib/python3.6/site-packages (from keras_vggface) (3.12)\n",
      "Requirement already satisfied: astor>=0.6.0 in /home/thalvadzhiev_gmail_com/anaconda3/lib/python3.6/site-packages (from tensorflow->keras_vggface) (0.6.2)\n",
      "Requirement already satisfied: termcolor>=1.1.0 in /home/thalvadzhiev_gmail_com/anaconda3/lib/python3.6/site-packages (from tensorflow->keras_vggface) (1.1.0)\n",
      "Requirement already satisfied: grpcio>=1.8.6 in /home/thalvadzhiev_gmail_com/anaconda3/lib/python3.6/site-packages (from tensorflow->keras_vggface) (1.12.1)\n",
      "Requirement already satisfied: wheel>=0.26 in /home/thalvadzhiev_gmail_com/anaconda3/lib/python3.6/site-packages (from tensorflow->keras_vggface) (0.31.1)\n",
      "Requirement already satisfied: tensorboard<1.9.0,>=1.8.0 in /home/thalvadzhiev_gmail_com/anaconda3/lib/python3.6/site-packages (from tensorflow->keras_vggface) (1.8.0)\n",
      "Requirement already satisfied: protobuf>=3.4.0 in /home/thalvadzhiev_gmail_com/anaconda3/lib/python3.6/site-packages (from tensorflow->keras_vggface) (3.6.0)\n",
      "Requirement already satisfied: gast>=0.2.0 in /home/thalvadzhiev_gmail_com/anaconda3/lib/python3.6/site-packages (from tensorflow->keras_vggface) (0.2.0)\n",
      "Requirement already satisfied: absl-py>=0.1.6 in /home/thalvadzhiev_gmail_com/anaconda3/lib/python3.6/site-packages (from tensorflow->keras_vggface) (0.2.2)\n",
      "Requirement already satisfied: keras-preprocessing==1.0.1 in /home/thalvadzhiev_gmail_com/anaconda3/lib/python3.6/site-packages (from keras->keras_vggface) (1.0.1)\n",
      "Requirement already satisfied: keras-applications==1.0.2 in /home/thalvadzhiev_gmail_com/anaconda3/lib/python3.6/site-packages (from keras->keras_vggface) (1.0.2)\n",
      "Requirement already satisfied: werkzeug>=0.11.10 in /home/thalvadzhiev_gmail_com/anaconda3/lib/python3.6/site-packages (from tensorboard<1.9.0,>=1.8.0->tensorflow->keras_vggface) (0.14.1)\n",
      "Requirement already satisfied: markdown>=2.6.8 in /home/thalvadzhiev_gmail_com/anaconda3/lib/python3.6/site-packages (from tensorboard<1.9.0,>=1.8.0->tensorflow->keras_vggface) (2.6.11)\n",
      "Requirement already satisfied: bleach==1.5.0 in /home/thalvadzhiev_gmail_com/anaconda3/lib/python3.6/site-packages (from tensorboard<1.9.0,>=1.8.0->tensorflow->keras_vggface) (1.5.0)\n",
      "Requirement already satisfied: html5lib==0.9999999 in /home/thalvadzhiev_gmail_com/anaconda3/lib/python3.6/site-packages (from tensorboard<1.9.0,>=1.8.0->tensorflow->keras_vggface) (0.9999999)\n",
      "Requirement already satisfied: setuptools in /home/thalvadzhiev_gmail_com/anaconda3/lib/python3.6/site-packages (from protobuf>=3.4.0->tensorflow->keras_vggface) (39.1.0)\n",
      "Building wheels for collected packages: keras-vggface\n",
      "  Running setup.py bdist_wheel for keras-vggface ... \u001b[?25ldone\n",
      "\u001b[?25h  Stored in directory: /home/thalvadzhiev_gmail_com/.cache/pip/wheels/72/aa/01/eb7baeb2f6e2d2f0d2aabddb5f01d57fa22fbd019ee2799bf5\n",
      "Successfully built keras-vggface\n",
      "\u001b[31mdistributed 1.21.8 requires msgpack, which is not installed.\u001b[0m\n",
      "Installing collected packages: tensorflow, keras-vggface\n",
      "Successfully installed keras-vggface-0.5 tensorflow-1.8.0\n"
     ]
    }
   ],
   "source": [
    "!pip install keras_vggface"
   ]
  },
  {
   "cell_type": "code",
   "execution_count": 7,
   "metadata": {
    "colab": {
     "autoexec": {
      "startup": false,
      "wait_interval": 0
     }
    },
    "colab_type": "code",
    "collapsed": true,
    "id": "SCpeTuEMf2rr"
   },
   "outputs": [],
   "source": [
    "s=224\n",
    "from keras_vggface.vggface import VGGFace\n",
    "modelReady = VGGFace(include_top=True, input_shape=(s,s,3))"
   ]
  },
  {
   "cell_type": "code",
   "execution_count": 23,
   "metadata": {
    "collapsed": false
   },
   "outputs": [
    {
     "name": "stdout",
     "output_type": "stream",
     "text": [
      "_________________________________________________________________\n",
      "Layer (type)                 Output Shape              Param #   \n",
      "=================================================================\n",
      "input_2 (InputLayer)         (None, 224, 224, 3)       0         \n",
      "_________________________________________________________________\n",
      "conv1_1 (Conv2D)             (None, 224, 224, 64)      1792      \n",
      "_________________________________________________________________\n",
      "conv1_2 (Conv2D)             (None, 224, 224, 64)      36928     \n",
      "_________________________________________________________________\n",
      "pool1 (MaxPooling2D)         (None, 112, 112, 64)      0         \n",
      "_________________________________________________________________\n",
      "conv2_1 (Conv2D)             (None, 112, 112, 128)     73856     \n",
      "_________________________________________________________________\n",
      "conv2_2 (Conv2D)             (None, 112, 112, 128)     147584    \n",
      "_________________________________________________________________\n",
      "pool2 (MaxPooling2D)         (None, 56, 56, 128)       0         \n",
      "_________________________________________________________________\n",
      "conv3_1 (Conv2D)             (None, 56, 56, 256)       295168    \n",
      "_________________________________________________________________\n",
      "conv3_2 (Conv2D)             (None, 56, 56, 256)       590080    \n",
      "_________________________________________________________________\n",
      "conv3_3 (Conv2D)             (None, 56, 56, 256)       590080    \n",
      "_________________________________________________________________\n",
      "pool3 (MaxPooling2D)         (None, 28, 28, 256)       0         \n",
      "_________________________________________________________________\n",
      "conv4_1 (Conv2D)             (None, 28, 28, 512)       1180160   \n",
      "_________________________________________________________________\n",
      "conv4_2 (Conv2D)             (None, 28, 28, 512)       2359808   \n",
      "_________________________________________________________________\n",
      "conv4_3 (Conv2D)             (None, 28, 28, 512)       2359808   \n",
      "_________________________________________________________________\n",
      "pool4 (MaxPooling2D)         (None, 14, 14, 512)       0         \n",
      "_________________________________________________________________\n",
      "conv5_1 (Conv2D)             (None, 14, 14, 512)       2359808   \n",
      "_________________________________________________________________\n",
      "conv5_2 (Conv2D)             (None, 14, 14, 512)       2359808   \n",
      "_________________________________________________________________\n",
      "conv5_3 (Conv2D)             (None, 14, 14, 512)       2359808   \n",
      "_________________________________________________________________\n",
      "pool5 (MaxPooling2D)         (None, 7, 7, 512)         0         \n",
      "_________________________________________________________________\n",
      "flatten (Flatten)            (None, 25088)             0         \n",
      "_________________________________________________________________\n",
      "fc6 (Dense)                  (None, 4096)              102764544 \n",
      "_________________________________________________________________\n",
      "fc6/relu (Activation)        (None, 4096)              0         \n",
      "_________________________________________________________________\n",
      "fc7 (Dense)                  (None, 4096)              16781312  \n",
      "_________________________________________________________________\n",
      "fc7/relu (Activation)        (None, 4096)              0         \n",
      "=================================================================\n",
      "Total params: 134,260,544\n",
      "Trainable params: 134,260,544\n",
      "Non-trainable params: 0\n",
      "_________________________________________________________________\n"
     ]
    }
   ],
   "source": [
    "modelReady.layers.pop()\n",
    "modelReady.layers.pop()\n",
    "##remove last two layers\n",
    "modelReady.summary()"
   ]
  },
  {
   "cell_type": "code",
   "execution_count": 8,
   "metadata": {
    "colab": {
     "autoexec": {
      "startup": false,
      "wait_interval": 0
     }
    },
    "colab_type": "code",
    "collapsed": true,
    "id": "Z_Q-DIAtpVZC"
   },
   "outputs": [],
   "source": [
    "def resize_images(images,size=(s,s)):\n",
    "  resized=[]\n",
    "  for im in images:\n",
    "    resized.append(np.array(Image.fromarray(np.uint8(cv2.cvtColor(im, cv2.COLOR_GRAY2RGB) * 255) , 'RGB').resize(size)).reshape(*size,3))\n",
    "    \n",
    "  return np.array(resized)    \n",
    "  "
   ]
  },
  {
   "cell_type": "code",
   "execution_count": 9,
   "metadata": {
    "colab": {
     "autoexec": {
      "startup": false,
      "wait_interval": 0
     }
    },
    "colab_type": "code",
    "collapsed": true,
    "id": "Fb3xsPBwvhj0"
   },
   "outputs": [],
   "source": [
    "resized_training = resize_images(train_ds_res)\n",
    "resized_pub_test = resize_images(pub_test_ds_res)\n",
    "resized_priv_test = resize_images(priv_test_ds_res)"
   ]
  },
  {
   "cell_type": "code",
   "execution_count": 10,
   "metadata": {
    "collapsed": true
   },
   "outputs": [],
   "source": [
    "resized_train_big = np.vstack([resized_training, resized_priv_test])\n",
    "resized_train_labels_big = np.concatenate([train_labels, priv_test_labels])"
   ]
  },
  {
   "cell_type": "code",
   "execution_count": 0,
   "metadata": {
    "colab": {
     "autoexec": {
      "startup": false,
      "wait_interval": 0
     }
    },
    "colab_type": "code",
    "collapsed": true,
    "id": "3MSItMa_4WIF"
   },
   "outputs": [],
   "source": [
    "# layer_count = 0\n",
    "# for layer in custom_vgg_model.layers:\n",
    "# \tlayer_count = layer_count+1\n",
    "# for l in range(layer_count-3):\n",
    "# \tmodelReady.layers[l].trainable=False"
   ]
  },
  {
   "cell_type": "code",
   "execution_count": 24,
   "metadata": {
    "colab": {
     "autoexec": {
      "startup": false,
      "wait_interval": 0
     }
    },
    "colab_type": "code",
    "collapsed": true,
    "id": "pxeRIzqM_Rt4"
   },
   "outputs": [],
   "source": [
    "for layer in modelReady.layers:\n",
    "  layer.trainable=False\n"
   ]
  },
  {
   "cell_type": "code",
   "execution_count": 25,
   "metadata": {
    "colab": {
     "autoexec": {
      "startup": false,
      "wait_interval": 0
     }
    },
    "colab_type": "code",
    "collapsed": true,
    "id": "wPOAHkvw6xkB"
   },
   "outputs": [],
   "source": [
    "#custom parameters\n",
    "nb_class = 7\n",
    "hidden_dim = 512\n",
    "\n",
    "last_layer = modelReady.get_layer('fc7/relu').output\n",
    "# x = Flatten(name='flatten')(last_layer)\n",
    "# x = Dense(hidden_dim, activation='relu', name='fc6')(x)\n",
    "# x = Dense(hidden_dim, activation='relu', name='fc7')(x)\n",
    "out = Dense(nb_class, activation='softmax', name='fc8')(last_layer)\n",
    "custom_vgg_model = Model(modelReady.input, out)"
   ]
  },
  {
   "cell_type": "code",
   "execution_count": 26,
   "metadata": {
    "colab": {
     "autoexec": {
      "startup": false,
      "wait_interval": 0
     },
     "base_uri": "https://localhost:8080/",
     "height": 918
    },
    "colab_type": "code",
    "collapsed": false,
    "executionInfo": {
     "elapsed": 1916,
     "status": "ok",
     "timestamp": 1529261947758,
     "user": {
      "displayName": "Давид Петров",
      "photoUrl": "https://lh3.googleusercontent.com/a/default-user=s128",
      "userId": "108488224290937948444"
     },
     "user_tz": -180
    },
    "id": "QaHGjH3r_p4h",
    "outputId": "ff5d92f0-6ade-4f61-ba63-eb67d6712857"
   },
   "outputs": [
    {
     "name": "stdout",
     "output_type": "stream",
     "text": [
      "_________________________________________________________________\n",
      "Layer (type)                 Output Shape              Param #   \n",
      "=================================================================\n",
      "input_2 (InputLayer)         (None, 224, 224, 3)       0         \n",
      "_________________________________________________________________\n",
      "conv1_1 (Conv2D)             (None, 224, 224, 64)      1792      \n",
      "_________________________________________________________________\n",
      "conv1_2 (Conv2D)             (None, 224, 224, 64)      36928     \n",
      "_________________________________________________________________\n",
      "pool1 (MaxPooling2D)         (None, 112, 112, 64)      0         \n",
      "_________________________________________________________________\n",
      "conv2_1 (Conv2D)             (None, 112, 112, 128)     73856     \n",
      "_________________________________________________________________\n",
      "conv2_2 (Conv2D)             (None, 112, 112, 128)     147584    \n",
      "_________________________________________________________________\n",
      "pool2 (MaxPooling2D)         (None, 56, 56, 128)       0         \n",
      "_________________________________________________________________\n",
      "conv3_1 (Conv2D)             (None, 56, 56, 256)       295168    \n",
      "_________________________________________________________________\n",
      "conv3_2 (Conv2D)             (None, 56, 56, 256)       590080    \n",
      "_________________________________________________________________\n",
      "conv3_3 (Conv2D)             (None, 56, 56, 256)       590080    \n",
      "_________________________________________________________________\n",
      "pool3 (MaxPooling2D)         (None, 28, 28, 256)       0         \n",
      "_________________________________________________________________\n",
      "conv4_1 (Conv2D)             (None, 28, 28, 512)       1180160   \n",
      "_________________________________________________________________\n",
      "conv4_2 (Conv2D)             (None, 28, 28, 512)       2359808   \n",
      "_________________________________________________________________\n",
      "conv4_3 (Conv2D)             (None, 28, 28, 512)       2359808   \n",
      "_________________________________________________________________\n",
      "pool4 (MaxPooling2D)         (None, 14, 14, 512)       0         \n",
      "_________________________________________________________________\n",
      "conv5_1 (Conv2D)             (None, 14, 14, 512)       2359808   \n",
      "_________________________________________________________________\n",
      "conv5_2 (Conv2D)             (None, 14, 14, 512)       2359808   \n",
      "_________________________________________________________________\n",
      "conv5_3 (Conv2D)             (None, 14, 14, 512)       2359808   \n",
      "_________________________________________________________________\n",
      "pool5 (MaxPooling2D)         (None, 7, 7, 512)         0         \n",
      "_________________________________________________________________\n",
      "flatten (Flatten)            (None, 25088)             0         \n",
      "_________________________________________________________________\n",
      "fc6 (Dense)                  (None, 4096)              102764544 \n",
      "_________________________________________________________________\n",
      "fc6/relu (Activation)        (None, 4096)              0         \n",
      "_________________________________________________________________\n",
      "fc7 (Dense)                  (None, 4096)              16781312  \n",
      "_________________________________________________________________\n",
      "fc7/relu (Activation)        (None, 4096)              0         \n",
      "_________________________________________________________________\n",
      "fc8 (Dense)                  (None, 7)                 28679     \n",
      "=================================================================\n",
      "Total params: 134,289,223\n",
      "Trainable params: 28,679\n",
      "Non-trainable params: 134,260,544\n",
      "_________________________________________________________________\n"
     ]
    }
   ],
   "source": [
    "custom_vgg_model.summary()"
   ]
  },
  {
   "cell_type": "code",
   "execution_count": 11,
   "metadata": {
    "collapsed": true
   },
   "outputs": [],
   "source": [
    "from keras.callbacks import ModelCheckpoint"
   ]
  },
  {
   "cell_type": "code",
   "execution_count": 7,
   "metadata": {
    "collapsed": true
   },
   "outputs": [],
   "source": [
    "opt = SGD(lr=1e-3, decay=1e-6, momentum=0.9, nesterov=True)\n",
    "checkpoint = ModelCheckpoint('weights_emotion_vgg.hdf5', monitor='val_acc', verbose=1, save_best_only=True,\n",
    "                        save_weights_only=True, mode='max')"
   ]
  },
  {
   "cell_type": "code",
   "execution_count": 12,
   "metadata": {
    "collapsed": true
   },
   "outputs": [],
   "source": [
    "from keras.utils import multi_gpu_model"
   ]
  },
  {
   "cell_type": "code",
   "execution_count": 28,
   "metadata": {
    "collapsed": true
   },
   "outputs": [],
   "source": [
    "parallel_model = multi_gpu_model(custom_vgg_model, gpus=2)\n",
    "parallel_model.compile(optimizer=\"adam\", loss='categorical_crossentropy',metrics=['accuracy'])"
   ]
  },
  {
   "cell_type": "code",
   "execution_count": 32,
   "metadata": {
    "colab": {
     "autoexec": {
      "startup": false,
      "wait_interval": 0
     },
     "base_uri": "https://localhost:8080/",
     "height": 1458
    },
    "colab_type": "code",
    "collapsed": false,
    "executionInfo": {
     "elapsed": 11466,
     "status": "error",
     "timestamp": 1529261967541,
     "user": {
      "displayName": "Давид Петров",
      "photoUrl": "https://lh3.googleusercontent.com/a/default-user=s128",
      "userId": "108488224290937948444"
     },
     "user_tz": -180
    },
    "id": "yNXNk_Y5xqrx",
    "outputId": "f10c4982-6a10-4d0f-f775-55bb8840ab39"
   },
   "outputs": [
    {
     "name": "stdout",
     "output_type": "stream",
     "text": [
      "Train on 32298 samples, validate on 3589 samples\n",
      "Epoch 1/3\n",
      "32298/32298 [==============================] - 182s 6ms/step - loss: 2.3438 - acc: 0.4812 - val_loss: 2.0703 - val_acc: 0.4993\n",
      "\n",
      "Epoch 00001: val_acc improved from -inf to 0.49930, saving model to weights_emotion_vgg.hdf5\n",
      "Epoch 2/3\n",
      "32298/32298 [==============================] - 177s 5ms/step - loss: 1.6124 - acc: 0.5743 - val_loss: 2.0299 - val_acc: 0.5336\n",
      "\n",
      "Epoch 00002: val_acc improved from 0.49930 to 0.53357, saving model to weights_emotion_vgg.hdf5\n",
      "Epoch 3/3\n",
      "32298/32298 [==============================] - 177s 5ms/step - loss: 1.4418 - acc: 0.6072 - val_loss: 2.0163 - val_acc: 0.5266\n",
      "\n",
      "Epoch 00003: val_acc did not improve from 0.53357\n"
     ]
    },
    {
     "data": {
      "text/plain": [
       "<keras.callbacks.History at 0x7f095403f668>"
      ]
     },
     "execution_count": 32,
     "metadata": {},
     "output_type": "execute_result"
    }
   ],
   "source": [
    "parallel_model.fit(resized_train_big, resized_train_labels_big, \n",
    "          batch_size=64, epochs=3, verbose=1, callbacks=[checkpoint], validation_data=[resized_pub_test, pub_test_labels] )"
   ]
  },
  {
   "cell_type": "code",
   "execution_count": 13,
   "metadata": {
    "collapsed": true
   },
   "outputs": [],
   "source": [
    "patience=50\n",
    "from keras.callbacks import ReduceLROnPlateau, EarlyStopping"
   ]
  },
  {
   "cell_type": "code",
   "execution_count": 14,
   "metadata": {
    "collapsed": true
   },
   "outputs": [],
   "source": [
    "early_stop = EarlyStopping('val_acc', patience=patience)\n",
    "reduce_lr = ReduceLROnPlateau('val_acc', factor=0.1,\n",
    "                                  patience=int(patience/4), verbose=1)"
   ]
  },
  {
   "cell_type": "code",
   "execution_count": 38,
   "metadata": {
    "collapsed": false
   },
   "outputs": [
    {
     "name": "stdout",
     "output_type": "stream",
     "text": [
      "Train on 32298 samples, validate on 3589 samples\n",
      "Epoch 1/20\n",
      "32298/32298 [==============================] - 176s 5ms/step - loss: 1.3495 - acc: 0.6247 - val_loss: 2.1011 - val_acc: 0.5339\n",
      "\n",
      "Epoch 00001: val_acc improved from 0.53357 to 0.53385, saving model to weights_emotion_vgg.hdf5\n",
      "Epoch 2/20\n",
      "32298/32298 [==============================] - 177s 5ms/step - loss: 1.2943 - acc: 0.6412 - val_loss: 2.1444 - val_acc: 0.5272\n",
      "\n",
      "Epoch 00002: val_acc did not improve from 0.53385\n",
      "Epoch 3/20\n",
      "32298/32298 [==============================] - 176s 5ms/step - loss: 1.2828 - acc: 0.6494 - val_loss: 2.2644 - val_acc: 0.5383\n",
      "\n",
      "Epoch 00003: val_acc improved from 0.53385 to 0.53831, saving model to weights_emotion_vgg.hdf5\n",
      "Epoch 4/20\n",
      "32298/32298 [==============================] - 176s 5ms/step - loss: 1.2558 - acc: 0.6542 - val_loss: 2.2735 - val_acc: 0.5472\n",
      "\n",
      "Epoch 00004: val_acc improved from 0.53831 to 0.54723, saving model to weights_emotion_vgg.hdf5\n",
      "Epoch 5/20\n",
      "32298/32298 [==============================] - 177s 5ms/step - loss: 1.2506 - acc: 0.6606 - val_loss: 2.3869 - val_acc: 0.5339\n",
      "\n",
      "Epoch 00005: val_acc did not improve from 0.54723\n",
      "Epoch 6/20\n",
      "32298/32298 [==============================] - 176s 5ms/step - loss: 1.2407 - acc: 0.6646 - val_loss: 2.4064 - val_acc: 0.5350\n",
      "\n",
      "Epoch 00006: val_acc did not improve from 0.54723\n",
      "Epoch 7/20\n",
      "32298/32298 [==============================] - 177s 5ms/step - loss: 1.2442 - acc: 0.6682 - val_loss: 2.4114 - val_acc: 0.5411\n",
      "\n",
      "Epoch 00007: val_acc did not improve from 0.54723\n",
      "Epoch 8/20\n",
      "32298/32298 [==============================] - 177s 5ms/step - loss: 1.2354 - acc: 0.6730 - val_loss: 2.6167 - val_acc: 0.5185\n",
      "\n",
      "Epoch 00008: val_acc did not improve from 0.54723\n",
      "Epoch 9/20\n",
      "32298/32298 [==============================] - 176s 5ms/step - loss: 1.2250 - acc: 0.6756 - val_loss: 2.5810 - val_acc: 0.5414\n",
      "\n",
      "Epoch 00009: val_acc did not improve from 0.54723\n",
      "Epoch 10/20\n",
      "32298/32298 [==============================] - 178s 6ms/step - loss: 1.2072 - acc: 0.6831 - val_loss: 2.5778 - val_acc: 0.5403\n",
      "\n",
      "Epoch 00010: val_acc did not improve from 0.54723\n",
      "Epoch 11/20\n",
      "32298/32298 [==============================] - 177s 5ms/step - loss: 1.2156 - acc: 0.6781 - val_loss: 2.6464 - val_acc: 0.5425\n",
      "\n",
      "Epoch 00011: val_acc did not improve from 0.54723\n",
      "Epoch 12/20\n",
      "32298/32298 [==============================] - 176s 5ms/step - loss: 1.2157 - acc: 0.6844 - val_loss: 2.7900 - val_acc: 0.5361\n",
      "\n",
      "Epoch 00012: val_acc did not improve from 0.54723\n",
      "Epoch 13/20\n",
      "32298/32298 [==============================] - 179s 6ms/step - loss: 1.1865 - acc: 0.6896 - val_loss: 2.7858 - val_acc: 0.5269\n",
      "\n",
      "Epoch 00013: val_acc did not improve from 0.54723\n",
      "Epoch 14/20\n",
      "32298/32298 [==============================] - 177s 5ms/step - loss: 1.1995 - acc: 0.6867 - val_loss: 2.7349 - val_acc: 0.5325\n",
      "\n",
      "Epoch 00014: val_acc did not improve from 0.54723\n",
      "Epoch 15/20\n",
      "32298/32298 [==============================] - 177s 5ms/step - loss: 1.1787 - acc: 0.6937 - val_loss: 2.8001 - val_acc: 0.5411\n",
      "\n",
      "Epoch 00015: val_acc did not improve from 0.54723\n",
      "Epoch 16/20\n",
      "32298/32298 [==============================] - 176s 5ms/step - loss: 1.1946 - acc: 0.6915 - val_loss: 2.8009 - val_acc: 0.5436\n",
      "\n",
      "Epoch 00016: val_acc did not improve from 0.54723\n",
      "\n",
      "Epoch 00016: ReduceLROnPlateau reducing learning rate to 0.00010000000474974513.\n",
      "Epoch 17/20\n",
      "32298/32298 [==============================] - 178s 5ms/step - loss: 0.7763 - acc: 0.7691 - val_loss: 2.5960 - val_acc: 0.5497\n",
      "\n",
      "Epoch 00017: val_acc improved from 0.54723 to 0.54974, saving model to weights_emotion_vgg.hdf5\n",
      "Epoch 18/20\n",
      "32298/32298 [==============================] - 178s 6ms/step - loss: 0.6781 - acc: 0.7899 - val_loss: 2.5622 - val_acc: 0.5500\n",
      "\n",
      "Epoch 00018: val_acc improved from 0.54974 to 0.55001, saving model to weights_emotion_vgg.hdf5\n",
      "Epoch 19/20\n",
      "32298/32298 [==============================] - 177s 5ms/step - loss: 0.6462 - acc: 0.7976 - val_loss: 2.5385 - val_acc: 0.5531\n",
      "\n",
      "Epoch 00019: val_acc improved from 0.55001 to 0.55308, saving model to weights_emotion_vgg.hdf5\n",
      "Epoch 20/20\n",
      "32298/32298 [==============================] - 177s 5ms/step - loss: 0.6262 - acc: 0.8029 - val_loss: 2.5332 - val_acc: 0.5528\n",
      "\n",
      "Epoch 00020: val_acc did not improve from 0.55308\n"
     ]
    },
    {
     "data": {
      "text/plain": [
       "<keras.callbacks.History at 0x7f0941268550>"
      ]
     },
     "execution_count": 38,
     "metadata": {},
     "output_type": "execute_result"
    }
   ],
   "source": [
    "parallel_model.fit(resized_train_big, resized_train_labels_big, \n",
    "          batch_size=64, epochs=20, verbose=1, callbacks=[checkpoint, early_stop, reduce_lr], validation_data=[resized_pub_test, pub_test_labels] )"
   ]
  },
  {
   "cell_type": "code",
   "execution_count": 11,
   "metadata": {
    "collapsed": true
   },
   "outputs": [],
   "source": [
    "s=224\n",
    "from keras_vggface.vggface import VGGFace\n",
    "model2 = VGGFace(include_top=True, input_shape=(s,s,3))"
   ]
  },
  {
   "cell_type": "code",
   "execution_count": 12,
   "metadata": {
    "collapsed": false
   },
   "outputs": [
    {
     "name": "stdout",
     "output_type": "stream",
     "text": [
      "_________________________________________________________________\n",
      "Layer (type)                 Output Shape              Param #   \n",
      "=================================================================\n",
      "input_1 (InputLayer)         (None, 224, 224, 3)       0         \n",
      "_________________________________________________________________\n",
      "conv1_1 (Conv2D)             (None, 224, 224, 64)      1792      \n",
      "_________________________________________________________________\n",
      "conv1_2 (Conv2D)             (None, 224, 224, 64)      36928     \n",
      "_________________________________________________________________\n",
      "pool1 (MaxPooling2D)         (None, 112, 112, 64)      0         \n",
      "_________________________________________________________________\n",
      "conv2_1 (Conv2D)             (None, 112, 112, 128)     73856     \n",
      "_________________________________________________________________\n",
      "conv2_2 (Conv2D)             (None, 112, 112, 128)     147584    \n",
      "_________________________________________________________________\n",
      "pool2 (MaxPooling2D)         (None, 56, 56, 128)       0         \n",
      "_________________________________________________________________\n",
      "conv3_1 (Conv2D)             (None, 56, 56, 256)       295168    \n",
      "_________________________________________________________________\n",
      "conv3_2 (Conv2D)             (None, 56, 56, 256)       590080    \n",
      "_________________________________________________________________\n",
      "conv3_3 (Conv2D)             (None, 56, 56, 256)       590080    \n",
      "_________________________________________________________________\n",
      "pool3 (MaxPooling2D)         (None, 28, 28, 256)       0         \n",
      "_________________________________________________________________\n",
      "conv4_1 (Conv2D)             (None, 28, 28, 512)       1180160   \n",
      "_________________________________________________________________\n",
      "conv4_2 (Conv2D)             (None, 28, 28, 512)       2359808   \n",
      "_________________________________________________________________\n",
      "conv4_3 (Conv2D)             (None, 28, 28, 512)       2359808   \n",
      "_________________________________________________________________\n",
      "pool4 (MaxPooling2D)         (None, 14, 14, 512)       0         \n",
      "_________________________________________________________________\n",
      "conv5_1 (Conv2D)             (None, 14, 14, 512)       2359808   \n",
      "_________________________________________________________________\n",
      "conv5_2 (Conv2D)             (None, 14, 14, 512)       2359808   \n",
      "_________________________________________________________________\n",
      "conv5_3 (Conv2D)             (None, 14, 14, 512)       2359808   \n",
      "_________________________________________________________________\n",
      "pool5 (MaxPooling2D)         (None, 7, 7, 512)         0         \n",
      "_________________________________________________________________\n",
      "flatten (Flatten)            (None, 25088)             0         \n",
      "_________________________________________________________________\n",
      "fc6 (Dense)                  (None, 4096)              102764544 \n",
      "_________________________________________________________________\n",
      "fc6/relu (Activation)        (None, 4096)              0         \n",
      "_________________________________________________________________\n",
      "fc7 (Dense)                  (None, 4096)              16781312  \n",
      "_________________________________________________________________\n",
      "fc7/relu (Activation)        (None, 4096)              0         \n",
      "=================================================================\n",
      "Total params: 134,260,544\n",
      "Trainable params: 134,260,544\n",
      "Non-trainable params: 0\n",
      "_________________________________________________________________\n"
     ]
    }
   ],
   "source": [
    "model2.layers.pop()\n",
    "model2.layers.pop()\n",
    "# modelReady.layers.pop()\n",
    "##remove last two layers\n",
    "model2.summary()"
   ]
  },
  {
   "cell_type": "code",
   "execution_count": 56,
   "metadata": {
    "collapsed": true
   },
   "outputs": [],
   "source": [
    "for layer in range(len(model2.layers) -2 ):\n",
    "    model2.layers[layer].trainable = False"
   ]
  },
  {
   "cell_type": "code",
   "execution_count": 57,
   "metadata": {
    "collapsed": false
   },
   "outputs": [
    {
     "name": "stdout",
     "output_type": "stream",
     "text": [
      "_________________________________________________________________\n",
      "Layer (type)                 Output Shape              Param #   \n",
      "=================================================================\n",
      "input_4 (InputLayer)         (None, 224, 224, 3)       0         \n",
      "_________________________________________________________________\n",
      "conv1_1 (Conv2D)             (None, 224, 224, 64)      1792      \n",
      "_________________________________________________________________\n",
      "conv1_2 (Conv2D)             (None, 224, 224, 64)      36928     \n",
      "_________________________________________________________________\n",
      "pool1 (MaxPooling2D)         (None, 112, 112, 64)      0         \n",
      "_________________________________________________________________\n",
      "conv2_1 (Conv2D)             (None, 112, 112, 128)     73856     \n",
      "_________________________________________________________________\n",
      "conv2_2 (Conv2D)             (None, 112, 112, 128)     147584    \n",
      "_________________________________________________________________\n",
      "pool2 (MaxPooling2D)         (None, 56, 56, 128)       0         \n",
      "_________________________________________________________________\n",
      "conv3_1 (Conv2D)             (None, 56, 56, 256)       295168    \n",
      "_________________________________________________________________\n",
      "conv3_2 (Conv2D)             (None, 56, 56, 256)       590080    \n",
      "_________________________________________________________________\n",
      "conv3_3 (Conv2D)             (None, 56, 56, 256)       590080    \n",
      "_________________________________________________________________\n",
      "pool3 (MaxPooling2D)         (None, 28, 28, 256)       0         \n",
      "_________________________________________________________________\n",
      "conv4_1 (Conv2D)             (None, 28, 28, 512)       1180160   \n",
      "_________________________________________________________________\n",
      "conv4_2 (Conv2D)             (None, 28, 28, 512)       2359808   \n",
      "_________________________________________________________________\n",
      "conv4_3 (Conv2D)             (None, 28, 28, 512)       2359808   \n",
      "_________________________________________________________________\n",
      "pool4 (MaxPooling2D)         (None, 14, 14, 512)       0         \n",
      "_________________________________________________________________\n",
      "conv5_1 (Conv2D)             (None, 14, 14, 512)       2359808   \n",
      "_________________________________________________________________\n",
      "conv5_2 (Conv2D)             (None, 14, 14, 512)       2359808   \n",
      "_________________________________________________________________\n",
      "conv5_3 (Conv2D)             (None, 14, 14, 512)       2359808   \n",
      "_________________________________________________________________\n",
      "pool5 (MaxPooling2D)         (None, 7, 7, 512)         0         \n",
      "_________________________________________________________________\n",
      "flatten (Flatten)            (None, 25088)             0         \n",
      "_________________________________________________________________\n",
      "fc6 (Dense)                  (None, 4096)              102764544 \n",
      "_________________________________________________________________\n",
      "fc6/relu (Activation)        (None, 4096)              0         \n",
      "=================================================================\n",
      "Total params: 117,479,232\n",
      "Trainable params: 102,764,544\n",
      "Non-trainable params: 14,714,688\n",
      "_________________________________________________________________\n"
     ]
    }
   ],
   "source": [
    "model2.summary()"
   ]
  },
  {
   "cell_type": "code",
   "execution_count": 13,
   "metadata": {
    "collapsed": true
   },
   "outputs": [],
   "source": [
    "nb_class=7\n",
    "last_layer = model2.get_layer('fc7/relu').output\n",
    "# x = Flatten(name='flatten')(last_layer)\n",
    "# x = Dense(hidden_dim, activation='relu', name='fc6')(x)\n",
    "# x = Dense(hidden_dim, activation='relu', name='fc7')(x)\n",
    "out = Dense(nb_class, activation='softmax', name='fc8')(last_layer)\n",
    "model_fc6_trainable = Model(model2.input, out)"
   ]
  },
  {
   "cell_type": "code",
   "execution_count": 14,
   "metadata": {
    "collapsed": false
   },
   "outputs": [
    {
     "name": "stdout",
     "output_type": "stream",
     "text": [
      "_________________________________________________________________\n",
      "Layer (type)                 Output Shape              Param #   \n",
      "=================================================================\n",
      "input_1 (InputLayer)         (None, 224, 224, 3)       0         \n",
      "_________________________________________________________________\n",
      "conv1_1 (Conv2D)             (None, 224, 224, 64)      1792      \n",
      "_________________________________________________________________\n",
      "conv1_2 (Conv2D)             (None, 224, 224, 64)      36928     \n",
      "_________________________________________________________________\n",
      "pool1 (MaxPooling2D)         (None, 112, 112, 64)      0         \n",
      "_________________________________________________________________\n",
      "conv2_1 (Conv2D)             (None, 112, 112, 128)     73856     \n",
      "_________________________________________________________________\n",
      "conv2_2 (Conv2D)             (None, 112, 112, 128)     147584    \n",
      "_________________________________________________________________\n",
      "pool2 (MaxPooling2D)         (None, 56, 56, 128)       0         \n",
      "_________________________________________________________________\n",
      "conv3_1 (Conv2D)             (None, 56, 56, 256)       295168    \n",
      "_________________________________________________________________\n",
      "conv3_2 (Conv2D)             (None, 56, 56, 256)       590080    \n",
      "_________________________________________________________________\n",
      "conv3_3 (Conv2D)             (None, 56, 56, 256)       590080    \n",
      "_________________________________________________________________\n",
      "pool3 (MaxPooling2D)         (None, 28, 28, 256)       0         \n",
      "_________________________________________________________________\n",
      "conv4_1 (Conv2D)             (None, 28, 28, 512)       1180160   \n",
      "_________________________________________________________________\n",
      "conv4_2 (Conv2D)             (None, 28, 28, 512)       2359808   \n",
      "_________________________________________________________________\n",
      "conv4_3 (Conv2D)             (None, 28, 28, 512)       2359808   \n",
      "_________________________________________________________________\n",
      "pool4 (MaxPooling2D)         (None, 14, 14, 512)       0         \n",
      "_________________________________________________________________\n",
      "conv5_1 (Conv2D)             (None, 14, 14, 512)       2359808   \n",
      "_________________________________________________________________\n",
      "conv5_2 (Conv2D)             (None, 14, 14, 512)       2359808   \n",
      "_________________________________________________________________\n",
      "conv5_3 (Conv2D)             (None, 14, 14, 512)       2359808   \n",
      "_________________________________________________________________\n",
      "pool5 (MaxPooling2D)         (None, 7, 7, 512)         0         \n",
      "_________________________________________________________________\n",
      "flatten (Flatten)            (None, 25088)             0         \n",
      "_________________________________________________________________\n",
      "fc6 (Dense)                  (None, 4096)              102764544 \n",
      "_________________________________________________________________\n",
      "fc6/relu (Activation)        (None, 4096)              0         \n",
      "_________________________________________________________________\n",
      "fc7 (Dense)                  (None, 4096)              16781312  \n",
      "_________________________________________________________________\n",
      "fc7/relu (Activation)        (None, 4096)              0         \n",
      "_________________________________________________________________\n",
      "fc8 (Dense)                  (None, 7)                 28679     \n",
      "=================================================================\n",
      "Total params: 134,289,223\n",
      "Trainable params: 134,289,223\n",
      "Non-trainable params: 0\n",
      "_________________________________________________________________\n"
     ]
    }
   ],
   "source": [
    "model_fc6_trainable.summary()"
   ]
  },
  {
   "cell_type": "code",
   "execution_count": 15,
   "metadata": {
    "collapsed": true
   },
   "outputs": [],
   "source": [
    "parallel_model_2 = multi_gpu_model(model_fc6_trainable, gpus=2)\n",
    "opt = SGD(lr=0.0001, decay=0.0005, momentum=0.9, nesterov=True)\n",
    "\n",
    "parallel_model_2.compile(optimizer=opt, loss='categorical_crossentropy',metrics=['accuracy'])"
   ]
  },
  {
   "cell_type": "code",
   "execution_count": 16,
   "metadata": {
    "collapsed": true
   },
   "outputs": [],
   "source": [
    "checkpoint2 = ModelCheckpoint('weights_emotion_vgg_all_layer_trainable.hdf5', monitor='val_acc', verbose=1, save_best_only=True,\n",
    "                        save_weights_only=True, mode='max')"
   ]
  },
  {
   "cell_type": "code",
   "execution_count": 17,
   "metadata": {
    "collapsed": true
   },
   "outputs": [],
   "source": [
    "parallel_model_2.load_weights(\"weights_emotion_vgg_all_layer_trainable.hdf5\")"
   ]
  },
  {
   "cell_type": "code",
   "execution_count": 22,
   "metadata": {
    "collapsed": false
   },
   "outputs": [
    {
     "name": "stdout",
     "output_type": "stream",
     "text": [
      "Train on 32298 samples, validate on 3589 samples\n",
      "Epoch 1/30\n",
      "32298/32298 [==============================] - 544s 17ms/step - loss: 0.2951 - acc: 0.8998 - val_loss: 1.3312 - val_acc: 0.6590\n",
      "\n",
      "Epoch 00001: val_acc improved from -inf to 0.65896, saving model to weights_emotion_vgg_all_layer_trainable.hdf5\n",
      "Epoch 2/30\n",
      "32298/32298 [==============================] - 528s 16ms/step - loss: 0.1727 - acc: 0.9471 - val_loss: 1.5586 - val_acc: 0.6668\n",
      "\n",
      "Epoch 00002: val_acc improved from 0.65896 to 0.66676, saving model to weights_emotion_vgg_all_layer_trainable.hdf5\n",
      "Epoch 3/30\n",
      "32298/32298 [==============================] - 528s 16ms/step - loss: 0.1018 - acc: 0.9741 - val_loss: 1.6661 - val_acc: 0.6670\n",
      "\n",
      "Epoch 00003: val_acc improved from 0.66676 to 0.66704, saving model to weights_emotion_vgg_all_layer_trainable.hdf5\n",
      "Epoch 4/30\n",
      "32298/32298 [==============================] - 529s 16ms/step - loss: 0.0672 - acc: 0.9845 - val_loss: 1.8416 - val_acc: 0.6578\n",
      "\n",
      "Epoch 00004: val_acc did not improve from 0.66704\n",
      "Epoch 5/30\n",
      "32298/32298 [==============================] - 527s 16ms/step - loss: 0.0456 - acc: 0.9911 - val_loss: 1.9400 - val_acc: 0.6656\n",
      "\n",
      "Epoch 00005: val_acc did not improve from 0.66704\n",
      "Epoch 6/30\n",
      "32298/32298 [==============================] - 526s 16ms/step - loss: 0.0369 - acc: 0.9922 - val_loss: 2.0408 - val_acc: 0.6606\n",
      "\n",
      "Epoch 00006: val_acc did not improve from 0.66704\n",
      "Epoch 7/30\n",
      "32298/32298 [==============================] - 526s 16ms/step - loss: 0.0296 - acc: 0.9945 - val_loss: 2.1204 - val_acc: 0.6629\n",
      "\n",
      "Epoch 00007: val_acc did not improve from 0.66704\n",
      "Epoch 8/30\n",
      "32298/32298 [==============================] - 527s 16ms/step - loss: 0.0274 - acc: 0.9950 - val_loss: 2.0737 - val_acc: 0.6704\n",
      "\n",
      "Epoch 00008: val_acc improved from 0.66704 to 0.67038, saving model to weights_emotion_vgg_all_layer_trainable.hdf5\n",
      "Epoch 9/30\n",
      "32298/32298 [==============================] - 529s 16ms/step - loss: 0.0231 - acc: 0.9955 - val_loss: 2.1662 - val_acc: 0.6687\n",
      "\n",
      "Epoch 00009: val_acc did not improve from 0.67038\n",
      "Epoch 10/30\n",
      "32298/32298 [==============================] - 528s 16ms/step - loss: 0.0209 - acc: 0.9957 - val_loss: 2.2037 - val_acc: 0.6679\n",
      "\n",
      "Epoch 00010: val_acc did not improve from 0.67038\n",
      "Epoch 11/30\n",
      "32298/32298 [==============================] - 529s 16ms/step - loss: 0.0187 - acc: 0.9960 - val_loss: 2.1914 - val_acc: 0.6673\n",
      "\n",
      "Epoch 00011: val_acc did not improve from 0.67038\n",
      "Epoch 12/30\n",
      " 1280/32298 [>.............................] - ETA: 8:06 - loss: 0.0123 - acc: 0.9969"
     ]
    },
    {
     "ename": "KeyboardInterrupt",
     "evalue": "",
     "output_type": "error",
     "traceback": [
      "\u001b[0;31m---------------------------------------------------------------------------\u001b[0m",
      "\u001b[0;31mKeyboardInterrupt\u001b[0m                         Traceback (most recent call last)",
      "\u001b[0;32m<ipython-input-22-760d8ae898af>\u001b[0m in \u001b[0;36m<module>\u001b[0;34m()\u001b[0m\n\u001b[1;32m      1\u001b[0m parallel_model_2.fit(resized_train_big, resized_train_labels_big, \n\u001b[0;32m----> 2\u001b[0;31m           batch_size=64, epochs=30, verbose=1, callbacks=[checkpoint2, early_stop, reduce_lr], validation_data=[resized_pub_test, pub_test_labels] )\n\u001b[0m",
      "\u001b[0;32m~/anaconda3/lib/python3.6/site-packages/keras/engine/training.py\u001b[0m in \u001b[0;36mfit\u001b[0;34m(self, x, y, batch_size, epochs, verbose, callbacks, validation_split, validation_data, shuffle, class_weight, sample_weight, initial_epoch, steps_per_epoch, validation_steps, **kwargs)\u001b[0m\n\u001b[1;32m   1040\u001b[0m                                         \u001b[0minitial_epoch\u001b[0m\u001b[0;34m=\u001b[0m\u001b[0minitial_epoch\u001b[0m\u001b[0;34m,\u001b[0m\u001b[0;34m\u001b[0m\u001b[0m\n\u001b[1;32m   1041\u001b[0m                                         \u001b[0msteps_per_epoch\u001b[0m\u001b[0;34m=\u001b[0m\u001b[0msteps_per_epoch\u001b[0m\u001b[0;34m,\u001b[0m\u001b[0;34m\u001b[0m\u001b[0m\n\u001b[0;32m-> 1042\u001b[0;31m                                         validation_steps=validation_steps)\n\u001b[0m\u001b[1;32m   1043\u001b[0m \u001b[0;34m\u001b[0m\u001b[0m\n\u001b[1;32m   1044\u001b[0m     def evaluate(self, x=None, y=None,\n",
      "\u001b[0;32m~/anaconda3/lib/python3.6/site-packages/keras/engine/training_arrays.py\u001b[0m in \u001b[0;36mfit_loop\u001b[0;34m(model, f, ins, out_labels, batch_size, epochs, verbose, callbacks, val_f, val_ins, shuffle, callback_metrics, initial_epoch, steps_per_epoch, validation_steps)\u001b[0m\n\u001b[1;32m    197\u001b[0m                     \u001b[0mins_batch\u001b[0m\u001b[0;34m[\u001b[0m\u001b[0mi\u001b[0m\u001b[0;34m]\u001b[0m \u001b[0;34m=\u001b[0m \u001b[0mins_batch\u001b[0m\u001b[0;34m[\u001b[0m\u001b[0mi\u001b[0m\u001b[0;34m]\u001b[0m\u001b[0;34m.\u001b[0m\u001b[0mtoarray\u001b[0m\u001b[0;34m(\u001b[0m\u001b[0;34m)\u001b[0m\u001b[0;34m\u001b[0m\u001b[0m\n\u001b[1;32m    198\u001b[0m \u001b[0;34m\u001b[0m\u001b[0m\n\u001b[0;32m--> 199\u001b[0;31m                 \u001b[0mouts\u001b[0m \u001b[0;34m=\u001b[0m \u001b[0mf\u001b[0m\u001b[0;34m(\u001b[0m\u001b[0mins_batch\u001b[0m\u001b[0;34m)\u001b[0m\u001b[0;34m\u001b[0m\u001b[0m\n\u001b[0m\u001b[1;32m    200\u001b[0m                 \u001b[0;32mif\u001b[0m \u001b[0;32mnot\u001b[0m \u001b[0misinstance\u001b[0m\u001b[0;34m(\u001b[0m\u001b[0mouts\u001b[0m\u001b[0;34m,\u001b[0m \u001b[0mlist\u001b[0m\u001b[0;34m)\u001b[0m\u001b[0;34m:\u001b[0m\u001b[0;34m\u001b[0m\u001b[0m\n\u001b[1;32m    201\u001b[0m                     \u001b[0mouts\u001b[0m \u001b[0;34m=\u001b[0m \u001b[0;34m[\u001b[0m\u001b[0mouts\u001b[0m\u001b[0;34m]\u001b[0m\u001b[0;34m\u001b[0m\u001b[0m\n",
      "\u001b[0;32m~/anaconda3/lib/python3.6/site-packages/keras/backend/tensorflow_backend.py\u001b[0m in \u001b[0;36m__call__\u001b[0;34m(self, inputs)\u001b[0m\n\u001b[1;32m   2659\u001b[0m                 \u001b[0;32mreturn\u001b[0m \u001b[0mself\u001b[0m\u001b[0;34m.\u001b[0m\u001b[0m_legacy_call\u001b[0m\u001b[0;34m(\u001b[0m\u001b[0minputs\u001b[0m\u001b[0;34m)\u001b[0m\u001b[0;34m\u001b[0m\u001b[0m\n\u001b[1;32m   2660\u001b[0m \u001b[0;34m\u001b[0m\u001b[0m\n\u001b[0;32m-> 2661\u001b[0;31m             \u001b[0;32mreturn\u001b[0m \u001b[0mself\u001b[0m\u001b[0;34m.\u001b[0m\u001b[0m_call\u001b[0m\u001b[0;34m(\u001b[0m\u001b[0minputs\u001b[0m\u001b[0;34m)\u001b[0m\u001b[0;34m\u001b[0m\u001b[0m\n\u001b[0m\u001b[1;32m   2662\u001b[0m         \u001b[0;32melse\u001b[0m\u001b[0;34m:\u001b[0m\u001b[0;34m\u001b[0m\u001b[0m\n\u001b[1;32m   2663\u001b[0m             \u001b[0;32mif\u001b[0m \u001b[0mpy_any\u001b[0m\u001b[0;34m(\u001b[0m\u001b[0mis_tensor\u001b[0m\u001b[0;34m(\u001b[0m\u001b[0mx\u001b[0m\u001b[0;34m)\u001b[0m \u001b[0;32mfor\u001b[0m \u001b[0mx\u001b[0m \u001b[0;32min\u001b[0m \u001b[0minputs\u001b[0m\u001b[0;34m)\u001b[0m\u001b[0;34m:\u001b[0m\u001b[0;34m\u001b[0m\u001b[0m\n",
      "\u001b[0;32m~/anaconda3/lib/python3.6/site-packages/keras/backend/tensorflow_backend.py\u001b[0m in \u001b[0;36m_call\u001b[0;34m(self, inputs)\u001b[0m\n\u001b[1;32m   2629\u001b[0m                                 \u001b[0msymbol_vals\u001b[0m\u001b[0;34m,\u001b[0m\u001b[0;34m\u001b[0m\u001b[0m\n\u001b[1;32m   2630\u001b[0m                                 session)\n\u001b[0;32m-> 2631\u001b[0;31m         \u001b[0mfetched\u001b[0m \u001b[0;34m=\u001b[0m \u001b[0mself\u001b[0m\u001b[0;34m.\u001b[0m\u001b[0m_callable_fn\u001b[0m\u001b[0;34m(\u001b[0m\u001b[0;34m*\u001b[0m\u001b[0marray_vals\u001b[0m\u001b[0;34m)\u001b[0m\u001b[0;34m\u001b[0m\u001b[0m\n\u001b[0m\u001b[1;32m   2632\u001b[0m         \u001b[0;32mreturn\u001b[0m \u001b[0mfetched\u001b[0m\u001b[0;34m[\u001b[0m\u001b[0;34m:\u001b[0m\u001b[0mlen\u001b[0m\u001b[0;34m(\u001b[0m\u001b[0mself\u001b[0m\u001b[0;34m.\u001b[0m\u001b[0moutputs\u001b[0m\u001b[0;34m)\u001b[0m\u001b[0;34m]\u001b[0m\u001b[0;34m\u001b[0m\u001b[0m\n\u001b[1;32m   2633\u001b[0m \u001b[0;34m\u001b[0m\u001b[0m\n",
      "\u001b[0;32m~/anaconda3/lib/python3.6/site-packages/tensorflow/python/client/session.py\u001b[0m in \u001b[0;36m__call__\u001b[0;34m(self, *args)\u001b[0m\n\u001b[1;32m   1449\u001b[0m         \u001b[0;32mif\u001b[0m \u001b[0mself\u001b[0m\u001b[0;34m.\u001b[0m\u001b[0m_session\u001b[0m\u001b[0;34m.\u001b[0m\u001b[0m_created_with_new_api\u001b[0m\u001b[0;34m:\u001b[0m\u001b[0;34m\u001b[0m\u001b[0m\n\u001b[1;32m   1450\u001b[0m           return tf_session.TF_SessionRunCallable(\n\u001b[0;32m-> 1451\u001b[0;31m               self._session._session, self._handle, args, status, None)\n\u001b[0m\u001b[1;32m   1452\u001b[0m         \u001b[0;32melse\u001b[0m\u001b[0;34m:\u001b[0m\u001b[0;34m\u001b[0m\u001b[0m\n\u001b[1;32m   1453\u001b[0m           return tf_session.TF_DeprecatedSessionRunCallable(\n",
      "\u001b[0;31mKeyboardInterrupt\u001b[0m: "
     ]
    }
   ],
   "source": [
    "parallel_model_2.fit(resized_train_big, resized_train_labels_big, \n",
    "          batch_size=64, epochs=30, verbose=1, callbacks=[checkpoint2, early_stop, reduce_lr], validation_data=[resized_pub_test, pub_test_labels] )"
   ]
  },
  {
   "cell_type": "markdown",
   "metadata": {},
   "source": [
    "## Run again from scratch"
   ]
  },
  {
   "cell_type": "code",
   "execution_count": 18,
   "metadata": {
    "collapsed": false
   },
   "outputs": [
    {
     "name": "stdout",
     "output_type": "stream",
     "text": [
      "_________________________________________________________________\n",
      "Layer (type)                 Output Shape              Param #   \n",
      "=================================================================\n",
      "input_3 (InputLayer)         (None, 224, 224, 3)       0         \n",
      "_________________________________________________________________\n",
      "conv1_1 (Conv2D)             (None, 224, 224, 64)      1792      \n",
      "_________________________________________________________________\n",
      "conv1_2 (Conv2D)             (None, 224, 224, 64)      36928     \n",
      "_________________________________________________________________\n",
      "pool1 (MaxPooling2D)         (None, 112, 112, 64)      0         \n",
      "_________________________________________________________________\n",
      "conv2_1 (Conv2D)             (None, 112, 112, 128)     73856     \n",
      "_________________________________________________________________\n",
      "conv2_2 (Conv2D)             (None, 112, 112, 128)     147584    \n",
      "_________________________________________________________________\n",
      "pool2 (MaxPooling2D)         (None, 56, 56, 128)       0         \n",
      "_________________________________________________________________\n",
      "conv3_1 (Conv2D)             (None, 56, 56, 256)       295168    \n",
      "_________________________________________________________________\n",
      "conv3_2 (Conv2D)             (None, 56, 56, 256)       590080    \n",
      "_________________________________________________________________\n",
      "conv3_3 (Conv2D)             (None, 56, 56, 256)       590080    \n",
      "_________________________________________________________________\n",
      "pool3 (MaxPooling2D)         (None, 28, 28, 256)       0         \n",
      "_________________________________________________________________\n",
      "conv4_1 (Conv2D)             (None, 28, 28, 512)       1180160   \n",
      "_________________________________________________________________\n",
      "conv4_2 (Conv2D)             (None, 28, 28, 512)       2359808   \n",
      "_________________________________________________________________\n",
      "conv4_3 (Conv2D)             (None, 28, 28, 512)       2359808   \n",
      "_________________________________________________________________\n",
      "pool4 (MaxPooling2D)         (None, 14, 14, 512)       0         \n",
      "_________________________________________________________________\n",
      "conv5_1 (Conv2D)             (None, 14, 14, 512)       2359808   \n",
      "_________________________________________________________________\n",
      "conv5_2 (Conv2D)             (None, 14, 14, 512)       2359808   \n",
      "_________________________________________________________________\n",
      "conv5_3 (Conv2D)             (None, 14, 14, 512)       2359808   \n",
      "_________________________________________________________________\n",
      "pool5 (MaxPooling2D)         (None, 7, 7, 512)         0         \n",
      "_________________________________________________________________\n",
      "flatten (Flatten)            (None, 25088)             0         \n",
      "_________________________________________________________________\n",
      "fc6 (Dense)                  (None, 4096)              102764544 \n",
      "_________________________________________________________________\n",
      "fc6/relu (Activation)        (None, 4096)              0         \n",
      "_________________________________________________________________\n",
      "fc7 (Dense)                  (None, 4096)              16781312  \n",
      "_________________________________________________________________\n",
      "fc7/relu (Activation)        (None, 4096)              0         \n",
      "_________________________________________________________________\n",
      "fc8 (Dense)                  (None, 7)                 28679     \n",
      "=================================================================\n",
      "Total params: 134,289,223\n",
      "Trainable params: 134,289,223\n",
      "Non-trainable params: 0\n",
      "_________________________________________________________________\n"
     ]
    }
   ],
   "source": [
    "s=224\n",
    "from keras_vggface.vggface import VGGFace\n",
    "model3 = VGGFace(include_top=True, input_shape=(s,s,3))\n",
    "model3.layers.pop()\n",
    "model3.layers.pop()\n",
    "# modelReady.layers.pop()\n",
    "##remove last two layers\n",
    "# model3.summary()\n",
    "nb_class=7\n",
    "last_layer = model3.get_layer('fc7/relu').output\n",
    "# x = Flatten(name='flatten')(last_layer)\n",
    "# x = Dense(hidden_dim, activation='relu', name='fc6')(x)\n",
    "# x = Dense(hidden_dim, activation='relu', name='fc7')(x)\n",
    "out = Dense(nb_class, activation='softmax', name='fc8')(last_layer)\n",
    "model_fc7_trainable2 = Model(model3.input, out)\n",
    "model_fc7_trainable2.summary()"
   ]
  },
  {
   "cell_type": "code",
   "execution_count": 19,
   "metadata": {
    "collapsed": true
   },
   "outputs": [],
   "source": [
    "parallel_model_3 = multi_gpu_model(model_fc7_trainable2, gpus=2)\n",
    "opt = SGD(lr=0.0001, decay=0.0005, momentum=0.9, nesterov=True)\n",
    "\n",
    "parallel_model_3.compile(optimizer=opt, loss='categorical_crossentropy',metrics=['accuracy'])"
   ]
  },
  {
   "cell_type": "code",
   "execution_count": 32,
   "metadata": {
    "collapsed": true
   },
   "outputs": [],
   "source": [
    "checkpoint3 = ModelCheckpoint('weights_emotion_vgg_all_layer_trainable_new--{val_loss:.2f}--{val_acc:.4f}.hdf5', monitor='val_acc', verbose=1, save_best_only=True,\n",
    "                        save_weights_only=True, mode='max')"
   ]
  },
  {
   "cell_type": "code",
   "execution_count": null,
   "metadata": {
    "collapsed": false
   },
   "outputs": [
    {
     "name": "stdout",
     "output_type": "stream",
     "text": [
      "Train on 28709 samples, validate on 3589 samples\n",
      "Epoch 1/40\n",
      "28709/28709 [==============================] - 497s 17ms/step - loss: 1.3396 - acc: 0.5138 - val_loss: 1.1689 - val_acc: 0.5698\n",
      "\n",
      "Epoch 00001: val_acc improved from -inf to 0.56980, saving model to weights_emotion_vgg_all_layer_trainable_new--1.17--0.5698.hdf5\n",
      "Epoch 2/40\n",
      "28709/28709 [==============================] - 487s 17ms/step - loss: 1.0250 - acc: 0.6212 - val_loss: 1.0924 - val_acc: 0.5957\n",
      "\n",
      "Epoch 00002: val_acc improved from 0.56980 to 0.59571, saving model to weights_emotion_vgg_all_layer_trainable_new--1.09--0.5957.hdf5\n",
      "Epoch 3/40\n",
      "28709/28709 [==============================] - 486s 17ms/step - loss: 0.9029 - acc: 0.6721 - val_loss: 1.0493 - val_acc: 0.6172\n",
      "\n",
      "Epoch 00003: val_acc improved from 0.59571 to 0.61716, saving model to weights_emotion_vgg_all_layer_trainable_new--1.05--0.6172.hdf5\n",
      "Epoch 4/40\n",
      "28709/28709 [==============================] - 489s 17ms/step - loss: 0.8125 - acc: 0.7048 - val_loss: 1.0430 - val_acc: 0.6216\n",
      "\n",
      "Epoch 00004: val_acc improved from 0.61716 to 0.62162, saving model to weights_emotion_vgg_all_layer_trainable_new--1.04--0.6216.hdf5\n",
      "Epoch 5/40\n",
      "28709/28709 [==============================] - 488s 17ms/step - loss: 0.7321 - acc: 0.7356 - val_loss: 1.0409 - val_acc: 0.6280\n",
      "\n",
      "Epoch 00005: val_acc improved from 0.62162 to 0.62803, saving model to weights_emotion_vgg_all_layer_trainable_new--1.04--0.6280.hdf5\n",
      "Epoch 6/40\n",
      "28709/28709 [==============================] - 488s 17ms/step - loss: 0.6582 - acc: 0.7650 - val_loss: 1.0565 - val_acc: 0.6339\n",
      "\n",
      "Epoch 00006: val_acc improved from 0.62803 to 0.63388, saving model to weights_emotion_vgg_all_layer_trainable_new--1.06--0.6339.hdf5\n",
      "Epoch 7/40\n",
      "28709/28709 [==============================] - 488s 17ms/step - loss: 0.5858 - acc: 0.7948 - val_loss: 1.0880 - val_acc: 0.6397\n",
      "\n",
      "Epoch 00007: val_acc improved from 0.63388 to 0.63973, saving model to weights_emotion_vgg_all_layer_trainable_new--1.09--0.6397.hdf5\n",
      "Epoch 8/40\n",
      "28709/28709 [==============================] - 488s 17ms/step - loss: 0.5147 - acc: 0.8234 - val_loss: 1.1414 - val_acc: 0.6436\n",
      "\n",
      "Epoch 00008: val_acc improved from 0.63973 to 0.64363, saving model to weights_emotion_vgg_all_layer_trainable_new--1.14--0.6436.hdf5\n",
      "Epoch 9/40\n",
      "28709/28709 [==============================] - 488s 17ms/step - loss: 0.4445 - acc: 0.8500 - val_loss: 1.1721 - val_acc: 0.6400\n",
      "\n",
      "Epoch 00009: val_acc did not improve from 0.64363\n",
      "Epoch 10/40\n",
      "28709/28709 [==============================] - 490s 17ms/step - loss: 0.3786 - acc: 0.8755 - val_loss: 1.2491 - val_acc: 0.6386\n",
      "\n",
      "Epoch 00010: val_acc did not improve from 0.64363\n",
      "Epoch 11/40\n",
      "28709/28709 [==============================] - 489s 17ms/step - loss: 0.3122 - acc: 0.9010 - val_loss: 1.3320 - val_acc: 0.6453\n",
      "\n",
      "Epoch 00011: val_acc improved from 0.64363 to 0.64531, saving model to weights_emotion_vgg_all_layer_trainable_new--1.33--0.6453.hdf5\n",
      "Epoch 12/40\n",
      "28709/28709 [==============================] - 489s 17ms/step - loss: 0.2527 - acc: 0.9235 - val_loss: 1.4222 - val_acc: 0.6417\n",
      "\n",
      "Epoch 00012: val_acc did not improve from 0.64531\n",
      "Epoch 13/40\n",
      "28709/28709 [==============================] - 489s 17ms/step - loss: 0.1995 - acc: 0.9417 - val_loss: 1.5317 - val_acc: 0.6317\n",
      "\n",
      "Epoch 00013: val_acc did not improve from 0.64531\n",
      "Epoch 14/40\n",
      "28709/28709 [==============================] - 489s 17ms/step - loss: 0.1552 - acc: 0.9587 - val_loss: 1.6392 - val_acc: 0.6403\n",
      "\n",
      "Epoch 00014: val_acc did not improve from 0.64531\n",
      "Epoch 15/40\n",
      "28709/28709 [==============================] - 488s 17ms/step - loss: 0.1184 - acc: 0.9719 - val_loss: 1.7745 - val_acc: 0.6447\n",
      "\n",
      "Epoch 00015: val_acc did not improve from 0.64531\n",
      "Epoch 16/40\n",
      "28709/28709 [==============================] - 488s 17ms/step - loss: 0.0890 - acc: 0.9808 - val_loss: 1.8799 - val_acc: 0.6400\n",
      "\n",
      "Epoch 00016: val_acc did not improve from 0.64531\n",
      "Epoch 17/40\n",
      "28709/28709 [==============================] - 489s 17ms/step - loss: 0.0699 - acc: 0.9859 - val_loss: 2.0306 - val_acc: 0.6358\n",
      "\n",
      "Epoch 00017: val_acc did not improve from 0.64531\n",
      "Epoch 18/40\n",
      "28709/28709 [==============================] - 488s 17ms/step - loss: 0.0554 - acc: 0.9896 - val_loss: 2.0984 - val_acc: 0.6434\n",
      "\n",
      "Epoch 00018: val_acc did not improve from 0.64531\n",
      "Epoch 19/40\n",
      "28709/28709 [==============================] - 486s 17ms/step - loss: 0.0427 - acc: 0.9928 - val_loss: 2.2260 - val_acc: 0.6456\n",
      "\n",
      "Epoch 00019: val_acc improved from 0.64531 to 0.64558, saving model to weights_emotion_vgg_all_layer_trainable_new--2.23--0.6456.hdf5\n",
      "Epoch 20/40\n",
      " 5120/28709 [====>.........................] - ETA: 6:21 - loss: 0.0352 - acc: 0.9951"
     ]
    }
   ],
   "source": [
    "parallel_model_3.fit(resized_training, train_labels, \n",
    "          batch_size=64, epochs=40, verbose=1, callbacks=[checkpoint3, early_stop], validation_data=[resized_pub_test, pub_test_labels] )"
   ]
  },
  {
   "cell_type": "code",
   "execution_count": 24,
   "metadata": {
    "collapsed": true
   },
   "outputs": [],
   "source": [
    "parallel_model_3.load_weights(\"weights_emotion_vgg_all_layer_trainable.hdf5\")"
   ]
  },
  {
   "cell_type": "code",
   "execution_count": 27,
   "metadata": {
    "collapsed": false
   },
   "outputs": [
    {
     "name": "stdout",
     "output_type": "stream",
     "text": [
      "3589/3589 [==============================] - 20s 5ms/step\n"
     ]
    },
    {
     "data": {
      "text/plain": [
       "[2.0736898142967957, 0.6703817219447212]"
      ]
     },
     "execution_count": 27,
     "metadata": {},
     "output_type": "execute_result"
    }
   ],
   "source": [
    "parallel_model_3.evaluate(resized_pub_test, pub_test_labels, batch_size=64)"
   ]
  },
  {
   "cell_type": "code",
   "execution_count": 0,
   "metadata": {
    "colab": {
     "autoexec": {
      "startup": false,
      "wait_interval": 0
     }
    },
    "colab_type": "code",
    "collapsed": true,
    "id": "BPmRGvJc2ABr"
   },
   "outputs": [],
   "source": [
    "del priv_test_ds_res"
   ]
  },
  {
   "cell_type": "code",
   "execution_count": 49,
   "metadata": {
    "colab": {
     "autoexec": {
      "startup": false,
      "wait_interval": 0
     },
     "base_uri": "https://localhost:8080/",
     "height": 163
    },
    "colab_type": "code",
    "collapsed": false,
    "executionInfo": {
     "elapsed": 844,
     "status": "error",
     "timestamp": 1529259675998,
     "user": {
      "displayName": "Давид Петров",
      "photoUrl": "https://lh3.googleusercontent.com/a/default-user=s128",
      "userId": "108488224290937948444"
     },
     "user_tz": -180
    },
    "id": "r7AP7-flyHo2",
    "outputId": "9f2bb83c-a1e2-4b28-f108-38f89305a917"
   },
   "outputs": [
    {
     "ename": "NameError",
     "evalue": "ignored",
     "output_type": "error",
     "traceback": [
      "\u001b[0;31m---------------------------------------------------------------------------\u001b[0m",
      "\u001b[0;31mNameError\u001b[0m                                 Traceback (most recent call last)",
      "\u001b[0;32m<ipython-input-49-3a87836cfae2>\u001b[0m in \u001b[0;36m<module>\u001b[0;34m()\u001b[0m\n\u001b[0;32m----> 1\u001b[0;31m \u001b[0mmodel2\u001b[0m\u001b[0;34m.\u001b[0m\u001b[0msave_weights\u001b[0m\u001b[0;34m(\u001b[0m\u001b[0;34m\"best_weights_model2.hdf5\"\u001b[0m\u001b[0;34m)\u001b[0m\u001b[0;34m\u001b[0m\u001b[0m\n\u001b[0m",
      "\u001b[0;31mNameError\u001b[0m: name 'model2' is not defined"
     ]
    }
   ],
   "source": [
    "# model2.save_weights(\"best_weights_model2.hdf5\")\n",
    "# model2.load_weights(\"best_weights_model2.hdf5\")"
   ]
  },
  {
   "cell_type": "markdown",
   "metadata": {
    "colab": {
     "autoexec": {
      "startup": false,
      "wait_interval": 0
     }
    },
    "colab_type": "code",
    "collapsed": true,
    "id": "KOG5onZE9P_w"
   },
   "source": [
    "## Just FC layers train"
   ]
  },
  {
   "cell_type": "code",
   "execution_count": 15,
   "metadata": {
    "collapsed": false
   },
   "outputs": [
    {
     "name": "stdout",
     "output_type": "stream",
     "text": [
      "_________________________________________________________________\n",
      "Layer (type)                 Output Shape              Param #   \n",
      "=================================================================\n",
      "input_2 (InputLayer)         (None, 224, 224, 3)       0         \n",
      "_________________________________________________________________\n",
      "conv1_1 (Conv2D)             (None, 224, 224, 64)      1792      \n",
      "_________________________________________________________________\n",
      "conv1_2 (Conv2D)             (None, 224, 224, 64)      36928     \n",
      "_________________________________________________________________\n",
      "pool1 (MaxPooling2D)         (None, 112, 112, 64)      0         \n",
      "_________________________________________________________________\n",
      "conv2_1 (Conv2D)             (None, 112, 112, 128)     73856     \n",
      "_________________________________________________________________\n",
      "conv2_2 (Conv2D)             (None, 112, 112, 128)     147584    \n",
      "_________________________________________________________________\n",
      "pool2 (MaxPooling2D)         (None, 56, 56, 128)       0         \n",
      "_________________________________________________________________\n",
      "conv3_1 (Conv2D)             (None, 56, 56, 256)       295168    \n",
      "_________________________________________________________________\n",
      "conv3_2 (Conv2D)             (None, 56, 56, 256)       590080    \n",
      "_________________________________________________________________\n",
      "conv3_3 (Conv2D)             (None, 56, 56, 256)       590080    \n",
      "_________________________________________________________________\n",
      "pool3 (MaxPooling2D)         (None, 28, 28, 256)       0         \n",
      "_________________________________________________________________\n",
      "conv4_1 (Conv2D)             (None, 28, 28, 512)       1180160   \n",
      "_________________________________________________________________\n",
      "conv4_2 (Conv2D)             (None, 28, 28, 512)       2359808   \n",
      "_________________________________________________________________\n",
      "conv4_3 (Conv2D)             (None, 28, 28, 512)       2359808   \n",
      "_________________________________________________________________\n",
      "pool4 (MaxPooling2D)         (None, 14, 14, 512)       0         \n",
      "_________________________________________________________________\n",
      "conv5_1 (Conv2D)             (None, 14, 14, 512)       2359808   \n",
      "_________________________________________________________________\n",
      "conv5_2 (Conv2D)             (None, 14, 14, 512)       2359808   \n",
      "_________________________________________________________________\n",
      "conv5_3 (Conv2D)             (None, 14, 14, 512)       2359808   \n",
      "_________________________________________________________________\n",
      "pool5 (MaxPooling2D)         (None, 7, 7, 512)         0         \n",
      "_________________________________________________________________\n",
      "flatten (Flatten)            (None, 25088)             0         \n",
      "_________________________________________________________________\n",
      "fc6 (Dense)                  (None, 4096)              102764544 \n",
      "_________________________________________________________________\n",
      "fc6/relu (Activation)        (None, 4096)              0         \n",
      "_________________________________________________________________\n",
      "fc7 (Dense)                  (None, 4096)              16781312  \n",
      "_________________________________________________________________\n",
      "fc7/relu (Activation)        (None, 4096)              0         \n",
      "_________________________________________________________________\n",
      "fc8 (Dense)                  (None, 7)                 28679     \n",
      "=================================================================\n",
      "Total params: 134,289,223\n",
      "Trainable params: 119,574,535\n",
      "Non-trainable params: 14,714,688\n",
      "_________________________________________________________________\n"
     ]
    }
   ],
   "source": [
    "s=224\n",
    "from keras_vggface.vggface import VGGFace\n",
    "model4 = VGGFace(include_top=True, input_shape=(s,s,3))\n",
    "model4.layers.pop()\n",
    "model4.layers.pop()\n",
    "# modelReady.layers.pop()\n",
    "##remove last two layers\n",
    "# model3.summary()\n",
    "for layer in range(len(model4.layers) -4 ):\n",
    "    model4.layers[layer].trainable = False\n",
    "nb_class=7\n",
    "last_layer = model4.get_layer('fc7/relu').output\n",
    "# x = Flatten(name='flatten')(last_layer)\n",
    "# x = Dense(hidden_dim, activation='relu', name='fc6')(x)\n",
    "# x = Dense(hidden_dim, activation='relu', name='fc7')(x)\n",
    "out = Dense(nb_class, activation='softmax', name='fc8')(last_layer)\n",
    "model_fc7_trainable_fc = Model(model4.input, out)\n",
    "model_fc7_trainable_fc.summary()"
   ]
  },
  {
   "cell_type": "code",
   "execution_count": 16,
   "metadata": {
    "collapsed": true
   },
   "outputs": [],
   "source": [
    "parallel_model_4 = multi_gpu_model(model_fc7_trainable_fc, gpus=2)\n",
    "opt = SGD(lr=0.0001, decay=0.0005, momentum=0.9, nesterov=True)\n",
    "\n",
    "parallel_model_4.compile(optimizer=opt, loss='categorical_crossentropy',metrics=['accuracy'])"
   ]
  },
  {
   "cell_type": "code",
   "execution_count": 17,
   "metadata": {
    "collapsed": true
   },
   "outputs": [],
   "source": [
    "checkpoint5 = ModelCheckpoint('weights_emotion_vgg_fc_trainable_new--{val_loss:.2f}--{val_acc:.4f}.hdf5', monitor='val_acc', verbose=1, save_best_only=True,\n",
    "                        save_weights_only=True, mode='max')"
   ]
  },
  {
   "cell_type": "code",
   "execution_count": null,
   "metadata": {
    "collapsed": false
   },
   "outputs": [
    {
     "name": "stdout",
     "output_type": "stream",
     "text": [
      "Train on 28709 samples, validate on 3589 samples\n",
      "Epoch 1/20\n",
      "28709/28709 [==============================] - 241s 8ms/step - loss: 1.7881 - acc: 0.4848 - val_loss: 1.3529 - val_acc: 0.5405\n",
      "\n",
      "Epoch 00001: val_acc improved from -inf to 0.54054, saving model to weights_emotion_vgg_fc_trainable_new--1.35--0.5405.hdf5\n",
      "Epoch 2/20\n",
      "28709/28709 [==============================] - 237s 8ms/step - loss: 0.9869 - acc: 0.6520 - val_loss: 1.2662 - val_acc: 0.5773\n",
      "\n",
      "Epoch 00002: val_acc improved from 0.54054 to 0.57732, saving model to weights_emotion_vgg_fc_trainable_new--1.27--0.5773.hdf5\n",
      "Epoch 3/20\n",
      "28709/28709 [==============================] - 236s 8ms/step - loss: 0.7773 - acc: 0.7318 - val_loss: 1.2277 - val_acc: 0.5890\n",
      "\n",
      "Epoch 00003: val_acc improved from 0.57732 to 0.58902, saving model to weights_emotion_vgg_fc_trainable_new--1.23--0.5890.hdf5\n",
      "Epoch 4/20\n",
      "28709/28709 [==============================] - 237s 8ms/step - loss: 0.6507 - acc: 0.7845 - val_loss: 1.2090 - val_acc: 0.5960\n",
      "\n",
      "Epoch 00004: val_acc improved from 0.58902 to 0.59599, saving model to weights_emotion_vgg_fc_trainable_new--1.21--0.5960.hdf5\n",
      "Epoch 5/20\n",
      "28709/28709 [==============================] - 237s 8ms/step - loss: 0.5623 - acc: 0.8242 - val_loss: 1.2063 - val_acc: 0.6085\n",
      "\n",
      "Epoch 00005: val_acc improved from 0.59599 to 0.60853, saving model to weights_emotion_vgg_fc_trainable_new--1.21--0.6085.hdf5\n",
      "Epoch 6/20\n",
      "28709/28709 [==============================] - 237s 8ms/step - loss: 0.4951 - acc: 0.8562 - val_loss: 1.2037 - val_acc: 0.6096\n",
      "\n",
      "Epoch 00006: val_acc improved from 0.60853 to 0.60964, saving model to weights_emotion_vgg_fc_trainable_new--1.20--0.6096.hdf5\n",
      "Epoch 7/20\n",
      "28709/28709 [==============================] - 236s 8ms/step - loss: 0.4437 - acc: 0.8767 - val_loss: 1.2012 - val_acc: 0.6152\n",
      "\n",
      "Epoch 00007: val_acc improved from 0.60964 to 0.61521, saving model to weights_emotion_vgg_fc_trainable_new--1.20--0.6152.hdf5\n",
      "Epoch 8/20\n",
      "28709/28709 [==============================] - 236s 8ms/step - loss: 0.4016 - acc: 0.8950 - val_loss: 1.2044 - val_acc: 0.6174\n",
      "\n",
      "Epoch 00008: val_acc improved from 0.61521 to 0.61744, saving model to weights_emotion_vgg_fc_trainable_new--1.20--0.6174.hdf5\n",
      "Epoch 9/20\n",
      "28709/28709 [==============================] - 237s 8ms/step - loss: 0.3673 - acc: 0.9091 - val_loss: 1.2047 - val_acc: 0.6199\n",
      "\n",
      "Epoch 00009: val_acc improved from 0.61744 to 0.61995, saving model to weights_emotion_vgg_fc_trainable_new--1.20--0.6199.hdf5\n",
      "Epoch 10/20\n",
      "28709/28709 [==============================] - 237s 8ms/step - loss: 0.3387 - acc: 0.9202 - val_loss: 1.2051 - val_acc: 0.6205\n",
      "\n",
      "Epoch 00010: val_acc improved from 0.61995 to 0.62051, saving model to weights_emotion_vgg_fc_trainable_new--1.21--0.6205.hdf5\n",
      "Epoch 11/20\n",
      "28709/28709 [==============================] - 237s 8ms/step - loss: 0.3144 - acc: 0.9294 - val_loss: 1.2107 - val_acc: 0.6213\n",
      "\n",
      "Epoch 00011: val_acc improved from 0.62051 to 0.62134, saving model to weights_emotion_vgg_fc_trainable_new--1.21--0.6213.hdf5\n",
      "Epoch 12/20\n",
      "28709/28709 [==============================] - 236s 8ms/step - loss: 0.2934 - acc: 0.9386 - val_loss: 1.2135 - val_acc: 0.6194\n",
      "\n",
      "Epoch 00012: val_acc did not improve from 0.62134\n",
      "Epoch 13/20\n",
      "28709/28709 [==============================] - 237s 8ms/step - loss: 0.2754 - acc: 0.9448 - val_loss: 1.2183 - val_acc: 0.6230\n",
      "\n",
      "Epoch 00013: val_acc improved from 0.62134 to 0.62301, saving model to weights_emotion_vgg_fc_trainable_new--1.22--0.6230.hdf5\n",
      "Epoch 14/20\n",
      "28709/28709 [==============================] - 238s 8ms/step - loss: 0.2592 - acc: 0.9511 - val_loss: 1.2175 - val_acc: 0.6239\n",
      "\n",
      "Epoch 00014: val_acc improved from 0.62301 to 0.62385, saving model to weights_emotion_vgg_fc_trainable_new--1.22--0.6239.hdf5\n",
      "Epoch 15/20\n",
      "28709/28709 [==============================] - 237s 8ms/step - loss: 0.2454 - acc: 0.9559 - val_loss: 1.2216 - val_acc: 0.6241\n",
      "\n",
      "Epoch 00015: val_acc improved from 0.62385 to 0.62413, saving model to weights_emotion_vgg_fc_trainable_new--1.22--0.6241.hdf5\n",
      "Epoch 16/20\n",
      "28709/28709 [==============================] - 237s 8ms/step - loss: 0.2330 - acc: 0.9600 - val_loss: 1.2270 - val_acc: 0.6258\n",
      "\n",
      "Epoch 00016: val_acc improved from 0.62413 to 0.62580, saving model to weights_emotion_vgg_fc_trainable_new--1.23--0.6258.hdf5\n",
      "Epoch 17/20\n",
      "28709/28709 [==============================] - 238s 8ms/step - loss: 0.2219 - acc: 0.9643 - val_loss: 1.2310 - val_acc: 0.6241\n",
      "\n",
      "Epoch 00017: val_acc did not improve from 0.62580\n",
      "Epoch 18/20\n",
      "14720/28709 [==============>...............] - ETA: 1:46 - loss: 0.2077 - acc: 0.9692"
     ]
    }
   ],
   "source": [
    "parallel_model_4.fit(resized_training, train_labels, \n",
    "          batch_size=64, epochs=20, verbose=1, callbacks=[checkpoint5, early_stop], validation_data=[resized_pub_test, pub_test_labels] )"
   ]
  },
  {
   "cell_type": "markdown",
   "metadata": {},
   "source": [
    "## No init"
   ]
  },
  {
   "cell_type": "code",
   "execution_count": 15,
   "metadata": {
    "collapsed": false
   },
   "outputs": [
    {
     "name": "stdout",
     "output_type": "stream",
     "text": [
      "_________________________________________________________________\n",
      "Layer (type)                 Output Shape              Param #   \n",
      "=================================================================\n",
      "input_3 (InputLayer)         (None, 224, 224, 3)       0         \n",
      "_________________________________________________________________\n",
      "conv1_1 (Conv2D)             (None, 224, 224, 64)      1792      \n",
      "_________________________________________________________________\n",
      "conv1_2 (Conv2D)             (None, 224, 224, 64)      36928     \n",
      "_________________________________________________________________\n",
      "pool1 (MaxPooling2D)         (None, 112, 112, 64)      0         \n",
      "_________________________________________________________________\n",
      "conv2_1 (Conv2D)             (None, 112, 112, 128)     73856     \n",
      "_________________________________________________________________\n",
      "conv2_2 (Conv2D)             (None, 112, 112, 128)     147584    \n",
      "_________________________________________________________________\n",
      "pool2 (MaxPooling2D)         (None, 56, 56, 128)       0         \n",
      "_________________________________________________________________\n",
      "conv3_1 (Conv2D)             (None, 56, 56, 256)       295168    \n",
      "_________________________________________________________________\n",
      "conv3_2 (Conv2D)             (None, 56, 56, 256)       590080    \n",
      "_________________________________________________________________\n",
      "conv3_3 (Conv2D)             (None, 56, 56, 256)       590080    \n",
      "_________________________________________________________________\n",
      "pool3 (MaxPooling2D)         (None, 28, 28, 256)       0         \n",
      "_________________________________________________________________\n",
      "conv4_1 (Conv2D)             (None, 28, 28, 512)       1180160   \n",
      "_________________________________________________________________\n",
      "conv4_2 (Conv2D)             (None, 28, 28, 512)       2359808   \n",
      "_________________________________________________________________\n",
      "conv4_3 (Conv2D)             (None, 28, 28, 512)       2359808   \n",
      "_________________________________________________________________\n",
      "pool4 (MaxPooling2D)         (None, 14, 14, 512)       0         \n",
      "_________________________________________________________________\n",
      "conv5_1 (Conv2D)             (None, 14, 14, 512)       2359808   \n",
      "_________________________________________________________________\n",
      "conv5_2 (Conv2D)             (None, 14, 14, 512)       2359808   \n",
      "_________________________________________________________________\n",
      "conv5_3 (Conv2D)             (None, 14, 14, 512)       2359808   \n",
      "_________________________________________________________________\n",
      "pool5 (MaxPooling2D)         (None, 7, 7, 512)         0         \n",
      "_________________________________________________________________\n",
      "flatten (Flatten)            (None, 25088)             0         \n",
      "_________________________________________________________________\n",
      "fc6 (Dense)                  (None, 4096)              102764544 \n",
      "_________________________________________________________________\n",
      "fc6/relu (Activation)        (None, 4096)              0         \n",
      "_________________________________________________________________\n",
      "fc7 (Dense)                  (None, 4096)              16781312  \n",
      "_________________________________________________________________\n",
      "fc7/relu (Activation)        (None, 4096)              0         \n",
      "_________________________________________________________________\n",
      "fc8 (Dense)                  (None, 7)                 28679     \n",
      "=================================================================\n",
      "Total params: 134,289,223\n",
      "Trainable params: 134,289,223\n",
      "Non-trainable params: 0\n",
      "_________________________________________________________________\n"
     ]
    }
   ],
   "source": [
    "s=224\n",
    "from keras_vggface.vggface import VGGFace\n",
    "model5= VGGFace(include_top=True, input_shape=(s,s,3), weights=None)\n",
    "model5.layers.pop()\n",
    "model5.layers.pop()\n",
    "# modelReady.layers.pop()\n",
    "##remove last two layers\n",
    "# # model3.summary()\n",
    "# for layer in range(len(model4.layers) -4 ):\n",
    "#     model4.layers[layer].trainable = False\n",
    "nb_class=7\n",
    "last_layer = model5.get_layer('fc7/relu').output\n",
    "# x = Flatten(name='flatten')(last_layer)\n",
    "# x = Dense(hidden_dim, activation='relu', name='fc6')(x)\n",
    "# x = Dense(hidden_dim, activation='relu', name='fc7')(x)\n",
    "out = Dense(nb_class, activation='softmax', name='fc8')(last_layer)\n",
    "model_fc7_trainable_fc = Model(model5.input, out)\n",
    "model_fc7_trainable_fc.summary()"
   ]
  },
  {
   "cell_type": "code",
   "execution_count": 16,
   "metadata": {
    "collapsed": true
   },
   "outputs": [],
   "source": [
    "parallel_model_5 = multi_gpu_model(model_fc7_trainable_fc, gpus=2)\n",
    "opt = SGD(lr=0.0001, decay=0.0005, momentum=0.9, nesterov=True)\n",
    "\n",
    "parallel_model_5.compile(optimizer=opt, loss='categorical_crossentropy',metrics=['accuracy'])"
   ]
  },
  {
   "cell_type": "code",
   "execution_count": 17,
   "metadata": {
    "collapsed": true
   },
   "outputs": [],
   "source": [
    "checkpoint6 = ModelCheckpoint('weights_emotion_vgg_all_no_init--{val_loss:.2f}--{val_acc:.4f}.hdf5', monitor='val_acc', verbose=1, save_best_only=True,\n",
    "                        save_weights_only=True, mode='max')"
   ]
  },
  {
   "cell_type": "code",
   "execution_count": 18,
   "metadata": {
    "collapsed": false
   },
   "outputs": [
    {
     "name": "stdout",
     "output_type": "stream",
     "text": [
      "Train on 28709 samples, validate on 3589 samples\n",
      "Epoch 1/20\n",
      "28709/28709 [==============================] - 484s 17ms/step - loss: 1.7668 - acc: 0.2852 - val_loss: 1.7308 - val_acc: 0.2990\n",
      "\n",
      "Epoch 00001: val_acc improved from -inf to 0.29897, saving model to weights_emotion_vgg_all_no_init--1.73--0.2990.hdf5\n",
      "Epoch 2/20\n",
      "28709/28709 [==============================] - 470s 16ms/step - loss: 1.6407 - acc: 0.3666 - val_loss: 1.6157 - val_acc: 0.3826\n",
      "\n",
      "Epoch 00002: val_acc improved from 0.29897 to 0.38256, saving model to weights_emotion_vgg_all_no_init--1.62--0.3826.hdf5\n",
      "Epoch 3/20\n",
      "28709/28709 [==============================] - 468s 16ms/step - loss: 1.5641 - acc: 0.4027 - val_loss: 1.5913 - val_acc: 0.3870\n",
      "\n",
      "Epoch 00003: val_acc improved from 0.38256 to 0.38702, saving model to weights_emotion_vgg_all_no_init--1.59--0.3870.hdf5\n",
      "Epoch 4/20\n",
      "28709/28709 [==============================] - 469s 16ms/step - loss: 1.5063 - acc: 0.4283 - val_loss: 1.5176 - val_acc: 0.4280\n",
      "\n",
      "Epoch 00004: val_acc improved from 0.38702 to 0.42797, saving model to weights_emotion_vgg_all_no_init--1.52--0.4280.hdf5\n",
      "Epoch 5/20\n",
      "28709/28709 [==============================] - 469s 16ms/step - loss: 1.4573 - acc: 0.4491 - val_loss: 1.5136 - val_acc: 0.4333\n",
      "\n",
      "Epoch 00005: val_acc improved from 0.42797 to 0.43327, saving model to weights_emotion_vgg_all_no_init--1.51--0.4333.hdf5\n",
      "Epoch 6/20\n",
      "28709/28709 [==============================] - 469s 16ms/step - loss: 1.4077 - acc: 0.4703 - val_loss: 1.4418 - val_acc: 0.4539\n",
      "\n",
      "Epoch 00006: val_acc improved from 0.43327 to 0.45389, saving model to weights_emotion_vgg_all_no_init--1.44--0.4539.hdf5\n",
      "Epoch 7/20\n",
      "28709/28709 [==============================] - 469s 16ms/step - loss: 1.3590 - acc: 0.4902 - val_loss: 1.4231 - val_acc: 0.4620\n",
      "\n",
      "Epoch 00007: val_acc improved from 0.45389 to 0.46197, saving model to weights_emotion_vgg_all_no_init--1.42--0.4620.hdf5\n",
      "Epoch 8/20\n",
      "28709/28709 [==============================] - 468s 16ms/step - loss: 1.3110 - acc: 0.5074 - val_loss: 1.4601 - val_acc: 0.4528\n",
      "\n",
      "Epoch 00008: val_acc did not improve from 0.46197\n",
      "Epoch 9/20\n",
      "28709/28709 [==============================] - 470s 16ms/step - loss: 1.2610 - acc: 0.5317 - val_loss: 1.3911 - val_acc: 0.4770\n",
      "\n",
      "Epoch 00009: val_acc improved from 0.46197 to 0.47701, saving model to weights_emotion_vgg_all_no_init--1.39--0.4770.hdf5\n",
      "Epoch 10/20\n",
      "28709/28709 [==============================] - 470s 16ms/step - loss: 1.2124 - acc: 0.5492 - val_loss: 1.4112 - val_acc: 0.4829\n",
      "\n",
      "Epoch 00010: val_acc improved from 0.47701 to 0.48286, saving model to weights_emotion_vgg_all_no_init--1.41--0.4829.hdf5\n",
      "Epoch 11/20\n",
      "28709/28709 [==============================] - 470s 16ms/step - loss: 1.1630 - acc: 0.5705 - val_loss: 1.3803 - val_acc: 0.4868\n",
      "\n",
      "Epoch 00011: val_acc improved from 0.48286 to 0.48677, saving model to weights_emotion_vgg_all_no_init--1.38--0.4868.hdf5\n",
      "Epoch 12/20\n",
      "28709/28709 [==============================] - 469s 16ms/step - loss: 1.1028 - acc: 0.5950 - val_loss: 1.4633 - val_acc: 0.4675\n",
      "\n",
      "Epoch 00012: val_acc did not improve from 0.48677\n",
      "Epoch 13/20\n",
      "28709/28709 [==============================] - 470s 16ms/step - loss: 1.0527 - acc: 0.6164 - val_loss: 1.4379 - val_acc: 0.4979\n",
      "\n",
      "Epoch 00013: val_acc improved from 0.48677 to 0.49791, saving model to weights_emotion_vgg_all_no_init--1.44--0.4979.hdf5\n",
      "Epoch 14/20\n",
      "28709/28709 [==============================] - 470s 16ms/step - loss: 0.9902 - acc: 0.6408 - val_loss: 1.4371 - val_acc: 0.4937\n",
      "\n",
      "Epoch 00014: val_acc did not improve from 0.49791\n",
      "Epoch 15/20\n",
      "28709/28709 [==============================] - 471s 16ms/step - loss: 0.9289 - acc: 0.6676 - val_loss: 1.4522 - val_acc: 0.4884\n",
      "\n",
      "Epoch 00015: val_acc did not improve from 0.49791\n",
      "Epoch 16/20\n",
      "28709/28709 [==============================] - 470s 16ms/step - loss: 0.8690 - acc: 0.6891 - val_loss: 1.5041 - val_acc: 0.4968\n",
      "\n",
      "Epoch 00016: val_acc did not improve from 0.49791\n",
      "Epoch 17/20\n",
      "28709/28709 [==============================] - 471s 16ms/step - loss: 0.8043 - acc: 0.7113 - val_loss: 1.5200 - val_acc: 0.4999\n",
      "\n",
      "Epoch 00017: val_acc improved from 0.49791 to 0.49986, saving model to weights_emotion_vgg_all_no_init--1.52--0.4999.hdf5\n",
      "Epoch 18/20\n",
      "28709/28709 [==============================] - 472s 16ms/step - loss: 0.7378 - acc: 0.7406 - val_loss: 1.5685 - val_acc: 0.4857\n",
      "\n",
      "Epoch 00018: val_acc did not improve from 0.49986\n",
      "Epoch 19/20\n",
      "28709/28709 [==============================] - 470s 16ms/step - loss: 0.6753 - acc: 0.7625 - val_loss: 1.5867 - val_acc: 0.5068\n",
      "\n",
      "Epoch 00019: val_acc improved from 0.49986 to 0.50683, saving model to weights_emotion_vgg_all_no_init--1.59--0.5068.hdf5\n",
      "Epoch 20/20\n",
      "28709/28709 [==============================] - 472s 16ms/step - loss: 0.6061 - acc: 0.7868 - val_loss: 1.6899 - val_acc: 0.4985\n",
      "\n",
      "Epoch 00020: val_acc did not improve from 0.50683\n"
     ]
    },
    {
     "data": {
      "text/plain": [
       "<keras.callbacks.History at 0x7f574e114208>"
      ]
     },
     "execution_count": 18,
     "metadata": {},
     "output_type": "execute_result"
    }
   ],
   "source": [
    "parallel_model_5.fit(resized_training, train_labels, \n",
    "          batch_size=64, epochs=20, verbose=1, callbacks=[checkpoint6, early_stop], validation_data=[resized_pub_test, pub_test_labels] )"
   ]
  }
 ],
 "metadata": {
  "accelerator": "GPU",
  "anaconda-cloud": {},
  "colab": {
   "collapsed_sections": [],
   "default_view": {},
   "name": "vggface_transferlearning.ipynb",
   "provenance": [],
   "version": "0.3.2",
   "views": {}
  },
  "kernelspec": {
   "display_name": "Python [default]",
   "language": "python",
   "name": "python3"
  },
  "language_info": {
   "codemirror_mode": {
    "name": "ipython",
    "version": 3
   },
   "file_extension": ".py",
   "mimetype": "text/x-python",
   "name": "python",
   "nbconvert_exporter": "python",
   "pygments_lexer": "ipython3",
   "version": "3.5.2"
  }
 },
 "nbformat": 4,
 "nbformat_minor": 1
}
