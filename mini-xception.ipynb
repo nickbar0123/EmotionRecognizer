{
 "cells": [
  {
   "cell_type": "code",
   "execution_count": 1,
   "metadata": {
    "collapsed": false
   },
   "outputs": [
    {
     "name": "stderr",
     "output_type": "stream",
     "text": [
      "Using TensorFlow backend.\n"
     ]
    }
   ],
   "source": [
    "from keras.layers import Conv2D, Activation, BatchNormalization, SeparableConv2D,MaxPooling2D,GlobalAveragePooling2D\n",
    "from keras import Model\n",
    "from keras import layers"
   ]
  },
  {
   "cell_type": "code",
   "execution_count": 2,
   "metadata": {
    "collapsed": true
   },
   "outputs": [],
   "source": [
    "def mini_XCEPTION(input_shape, num_classes, l2_regularization=0.01):\n",
    "    regularization = l2(l2_regularization)\n",
    "\n",
    "    # base\n",
    "    img_input = Input(input_shape)\n",
    "    x = Conv2D(8, (3, 3), strides=(1, 1), kernel_regularizer=regularization,\n",
    "                                            use_bias=False)(img_input)\n",
    "    x = BatchNormalization()(x)\n",
    "    x = Activation('relu')(x)\n",
    "    x = Conv2D(8, (3, 3), strides=(1, 1), kernel_regularizer=regularization,\n",
    "                                            use_bias=False)(x)\n",
    "    x = BatchNormalization()(x)\n",
    "    x = Activation('relu')(x)\n",
    "\n",
    "    # module 1\n",
    "    residual = Conv2D(16, (1, 1), strides=(2, 2),\n",
    "                      padding='same', use_bias=False)(x)\n",
    "    residual = BatchNormalization()(residual)\n",
    "\n",
    "    x = SeparableConv2D(16, (3, 3), padding='same',\n",
    "                        kernel_regularizer=regularization,\n",
    "                        use_bias=False)(x)\n",
    "    x = BatchNormalization()(x)\n",
    "    x = Activation('relu')(x)\n",
    "    x = SeparableConv2D(16, (3, 3), padding='same',\n",
    "                        kernel_regularizer=regularization,\n",
    "                        use_bias=False)(x)\n",
    "    x = BatchNormalization()(x)\n",
    "\n",
    "    x = MaxPooling2D((3, 3), strides=(2, 2), padding='same')(x)\n",
    "    x = layers.add([x, residual])\n",
    "\n",
    "    # module 2\n",
    "    residual = Conv2D(32, (1, 1), strides=(2, 2),\n",
    "                      padding='same', use_bias=False)(x)\n",
    "    residual = BatchNormalization()(residual)\n",
    "\n",
    "    x = SeparableConv2D(32, (3, 3), padding='same',\n",
    "                        kernel_regularizer=regularization,\n",
    "                        use_bias=False)(x)\n",
    "    x = BatchNormalization()(x)\n",
    "    x = Activation('relu')(x)\n",
    "    x = SeparableConv2D(32, (3, 3), padding='same',\n",
    "                        kernel_regularizer=regularization,\n",
    "                        use_bias=False)(x)\n",
    "    x = BatchNormalization()(x)\n",
    "\n",
    "    x = MaxPooling2D((3, 3), strides=(2, 2), padding='same')(x)\n",
    "    x = layers.add([x, residual])\n",
    "\n",
    "    # module 3\n",
    "    residual = Conv2D(64, (1, 1), strides=(2, 2),\n",
    "                      padding='same', use_bias=False)(x)\n",
    "    residual = BatchNormalization()(residual)\n",
    "\n",
    "    x = SeparableConv2D(64, (3, 3), padding='same',\n",
    "                        kernel_regularizer=regularization,\n",
    "                        use_bias=False)(x)\n",
    "    x = BatchNormalization()(x)\n",
    "    x = Activation('relu')(x)\n",
    "    x = SeparableConv2D(64, (3, 3), padding='same',\n",
    "                        kernel_regularizer=regularization,\n",
    "                        use_bias=False)(x)\n",
    "    x = BatchNormalization()(x)\n",
    "\n",
    "    x = MaxPooling2D((3, 3), strides=(2, 2), padding='same')(x)\n",
    "    x = layers.add([x, residual])\n",
    "\n",
    "    # module 4\n",
    "    residual = Conv2D(128, (1, 1), strides=(2, 2),\n",
    "                      padding='same', use_bias=False)(x)\n",
    "    residual = BatchNormalization()(residual)\n",
    "\n",
    "    x = SeparableConv2D(128, (3, 3), padding='same',\n",
    "                        kernel_regularizer=regularization,\n",
    "                        use_bias=False)(x)\n",
    "    x = BatchNormalization()(x)\n",
    "    x = Activation('relu')(x)\n",
    "    x = SeparableConv2D(128, (3, 3), padding='same',\n",
    "                        kernel_regularizer=regularization,\n",
    "                        use_bias=False)(x)\n",
    "    x = BatchNormalization()(x)\n",
    "\n",
    "    x = MaxPooling2D((3, 3), strides=(2, 2), padding='same')(x)\n",
    "    x = layers.add([x, residual])\n",
    "\n",
    "    x = Conv2D(num_classes, (3, 3),\n",
    "            #kernel_regularizer=regularization,\n",
    "            padding='same')(x)\n",
    "    x = GlobalAveragePooling2D()(x)\n",
    "    output = Activation('softmax',name='predictions')(x)\n",
    "\n",
    "    model = Model(img_input, output)\n",
    "    return model"
   ]
  },
  {
   "cell_type": "code",
   "execution_count": 3,
   "metadata": {
    "collapsed": true
   },
   "outputs": [],
   "source": [
    "from keras.preprocessing.image import ImageDataGenerator"
   ]
  },
  {
   "cell_type": "code",
   "execution_count": 4,
   "metadata": {
    "collapsed": true
   },
   "outputs": [],
   "source": [
    "data_generator = ImageDataGenerator(\n",
    "                        featurewise_center=False,\n",
    "                        featurewise_std_normalization=False,\n",
    "                        rotation_range=10,\n",
    "                        width_shift_range=0.1,\n",
    "                        height_shift_range=0.1,\n",
    "                        zoom_range=.1,\n",
    "                        horizontal_flip=True)"
   ]
  },
  {
   "cell_type": "code",
   "execution_count": 5,
   "metadata": {
    "collapsed": true
   },
   "outputs": [],
   "source": [
    "from keras.callbacks import CSVLogger, ModelCheckpoint, EarlyStopping\n",
    "from keras.callbacks import ReduceLROnPlateau, EarlyStopping"
   ]
  },
  {
   "cell_type": "code",
   "execution_count": 7,
   "metadata": {
    "collapsed": true
   },
   "outputs": [],
   "source": [
    "import pickle"
   ]
  },
  {
   "cell_type": "code",
   "execution_count": 8,
   "metadata": {
    "collapsed": false
   },
   "outputs": [],
   "source": [
    "with open(\"faces_dataset_conv2.pickle\", \"rb\") as f:\n",
    "    data = pickle.load(f)"
   ]
  },
  {
   "cell_type": "code",
   "execution_count": 9,
   "metadata": {
    "collapsed": true
   },
   "outputs": [],
   "source": [
    "train_ds = data[\"train_dataset\"]\n",
    "train_labels = data[\"train_labels\"]\n",
    "pub_test_ds = data[\"public_test\"]\n",
    "pub_test_labels = data[\"public_test_labels\"]\n",
    "priv_test_ds = data[\"private_test\"]\n",
    "priv_test_labels = data[\"private_test_labels\"]"
   ]
  },
  {
   "cell_type": "code",
   "execution_count": 10,
   "metadata": {
    "collapsed": true
   },
   "outputs": [],
   "source": [
    "train_ds = train_ds.reshape(train_ds.shape[0], 48, 48, 1)\n",
    "pub_test_ds = pub_test_ds.reshape(pub_test_ds.shape[0],48, 48, 1)\n",
    "priv_test_ds = priv_test_ds.reshape(priv_test_ds.shape[0], 48, 48, 1)"
   ]
  },
  {
   "cell_type": "code",
   "execution_count": 11,
   "metadata": {
    "collapsed": true
   },
   "outputs": [],
   "source": [
    "from keras.utils import np_utils"
   ]
  },
  {
   "cell_type": "code",
   "execution_count": 37,
   "metadata": {
    "collapsed": false
   },
   "outputs": [
    {
     "data": {
      "text/plain": [
       "(35887, 48, 48, 1)"
      ]
     },
     "execution_count": 37,
     "metadata": {},
     "output_type": "execute_result"
    }
   ],
   "source": [
    "faces.shape"
   ]
  },
  {
   "cell_type": "code",
   "execution_count": 12,
   "metadata": {
    "collapsed": false
   },
   "outputs": [],
   "source": [
    "train_labels = np_utils.to_categorical(train_labels, 7)\n",
    "pub_test_labels = np_utils.to_categorical(pub_test_labels, 7)\n",
    "priv_test_labels = np_utils.to_categorical(priv_test_labels, 7)"
   ]
  },
  {
   "cell_type": "code",
   "execution_count": 15,
   "metadata": {
    "collapsed": false
   },
   "outputs": [],
   "source": [
    "train_big = np.vstack([train_ds, pub_test_ds])"
   ]
  },
  {
   "cell_type": "code",
   "execution_count": 16,
   "metadata": {
    "collapsed": true
   },
   "outputs": [],
   "source": [
    "train_label_big = np.concatenate([train_labels, pub_test_labels])"
   ]
  },
  {
   "cell_type": "code",
   "execution_count": 17,
   "metadata": {
    "collapsed": true
   },
   "outputs": [],
   "source": [
    "patience = 50"
   ]
  },
  {
   "cell_type": "code",
   "execution_count": 18,
   "metadata": {
    "collapsed": true
   },
   "outputs": [],
   "source": [
    "early_stop = EarlyStopping('val_loss', patience=patience)\n",
    "reduce_lr = ReduceLROnPlateau('val_loss', factor=0.1,\n",
    "                                  patience=int(patience/4), verbose=1)\n",
    "model_names ='weights_mini_xception.{epoch:02d}-{val_acc:.2f}.hdf5'\n",
    "model_checkpoint = ModelCheckpoint(model_names, 'val_loss', verbose=1,\n",
    "                                                    save_best_only=True)\n",
    "callbacks = [model_checkpoint, early_stop, reduce_lr]"
   ]
  },
  {
   "cell_type": "code",
   "execution_count": 19,
   "metadata": {
    "collapsed": true
   },
   "outputs": [],
   "source": [
    "batch_size = 64\n",
    "num_epochs = 10"
   ]
  },
  {
   "cell_type": "code",
   "execution_count": 20,
   "metadata": {
    "collapsed": true
   },
   "outputs": [],
   "source": [
    "from keras.regularizers import l2\n",
    "from keras.layers import Input"
   ]
  },
  {
   "cell_type": "code",
   "execution_count": 60,
   "metadata": {
    "collapsed": false
   },
   "outputs": [],
   "source": [
    "model = mini_XCEPTION((48, 48, 1), 7)\n",
    "model.compile(optimizer='adam', loss='categorical_crossentropy',\n",
    "              metrics=['accuracy'])"
   ]
  },
  {
   "cell_type": "code",
   "execution_count": 61,
   "metadata": {
    "collapsed": false
   },
   "outputs": [
    {
     "name": "stdout",
     "output_type": "stream",
     "text": [
      "Epoch 1/10\n",
      "505/504 [==============================] - 50s 99ms/step - loss: 1.7405 - acc: 0.3378 - val_loss: 1.6357 - val_acc: 0.3987\n",
      "\n",
      "Epoch 00001: val_loss improved from inf to 1.63574, saving model to weights_mini_xception.01-0.40.hdf5\n",
      "Epoch 2/10\n",
      "505/504 [==============================] - 41s 82ms/step - loss: 1.5076 - acc: 0.4338 - val_loss: 1.4943 - val_acc: 0.4553\n",
      "\n",
      "Epoch 00002: val_loss improved from 1.63574 to 1.49432, saving model to weights_mini_xception.02-0.46.hdf5\n",
      "Epoch 3/10\n",
      "505/504 [==============================] - 42s 83ms/step - loss: 1.3932 - acc: 0.4817 - val_loss: 1.3591 - val_acc: 0.4753\n",
      "\n",
      "Epoch 00003: val_loss improved from 1.49432 to 1.35915, saving model to weights_mini_xception.03-0.48.hdf5\n",
      "Epoch 4/10\n",
      "505/504 [==============================] - 44s 87ms/step - loss: 1.3166 - acc: 0.5095 - val_loss: 1.2991 - val_acc: 0.5130\n",
      "\n",
      "Epoch 00004: val_loss improved from 1.35915 to 1.29906, saving model to weights_mini_xception.04-0.51.hdf5\n",
      "Epoch 5/10\n",
      "505/504 [==============================] - 44s 88ms/step - loss: 1.2731 - acc: 0.5176 - val_loss: 1.2932 - val_acc: 0.5185\n",
      "\n",
      "Epoch 00005: val_loss improved from 1.29906 to 1.29317, saving model to weights_mini_xception.05-0.52.hdf5\n",
      "Epoch 6/10\n",
      "505/504 [==============================] - 46s 91ms/step - loss: 1.2416 - acc: 0.5342 - val_loss: 1.2591 - val_acc: 0.5430\n",
      "\n",
      "Epoch 00006: val_loss improved from 1.29317 to 1.25909, saving model to weights_mini_xception.06-0.54.hdf5\n",
      "Epoch 7/10\n",
      "505/504 [==============================] - 46s 92ms/step - loss: 1.2164 - acc: 0.5429 - val_loss: 1.3588 - val_acc: 0.4739\n",
      "\n",
      "Epoch 00007: val_loss did not improve\n",
      "Epoch 8/10\n",
      "505/504 [==============================] - 48s 96ms/step - loss: 1.1913 - acc: 0.5516 - val_loss: 1.1731 - val_acc: 0.5634\n",
      "\n",
      "Epoch 00008: val_loss improved from 1.25909 to 1.17314, saving model to weights_mini_xception.08-0.56.hdf5\n",
      "Epoch 9/10\n",
      "505/504 [==============================] - 49s 96ms/step - loss: 1.1676 - acc: 0.5617 - val_loss: 1.2513 - val_acc: 0.5244\n",
      "\n",
      "Epoch 00009: val_loss did not improve\n",
      "Epoch 10/10\n",
      "505/504 [==============================] - 49s 96ms/step - loss: 1.1528 - acc: 0.5684 - val_loss: 1.1648 - val_acc: 0.5734\n",
      "\n",
      "Epoch 00010: val_loss improved from 1.17314 to 1.16476, saving model to weights_mini_xception.10-0.57.hdf5\n"
     ]
    }
   ],
   "source": [
    "model.fit_generator(data_generator.flow(train_big, train_label_big,\n",
    "                                            batch_size),\n",
    "                        steps_per_epoch=len(train_big) / batch_size,\n",
    "                        epochs=num_epochs, verbose=1, callbacks=callbacks,\n",
    "                        validation_data=[priv_test_ds, priv_test_labels])\n",
    "model.save_weights(\"weights_10_epochs_xception.hdf5\")"
   ]
  },
  {
   "cell_type": "code",
   "execution_count": 63,
   "metadata": {
    "collapsed": true
   },
   "outputs": [],
   "source": [
    "batch_size = 64\n",
    "num_epochs = 100"
   ]
  },
  {
   "cell_type": "code",
   "execution_count": 64,
   "metadata": {
    "collapsed": false
   },
   "outputs": [
    {
     "name": "stdout",
     "output_type": "stream",
     "text": [
      "Epoch 1/100\n",
      "505/504 [==============================] - 42s 82ms/step - loss: 1.1386 - acc: 0.5742 - val_loss: 1.2242 - val_acc: 0.5561\n",
      "\n",
      "Epoch 00001: val_loss did not improve\n",
      "Epoch 2/100\n",
      "505/504 [==============================] - 42s 83ms/step - loss: 1.1279 - acc: 0.5770 - val_loss: 1.3232 - val_acc: 0.5107\n",
      "\n",
      "Epoch 00002: val_loss did not improve\n",
      "Epoch 3/100\n",
      "505/504 [==============================] - 45s 89ms/step - loss: 1.1185 - acc: 0.5808 - val_loss: 1.2328 - val_acc: 0.5514\n",
      "\n",
      "Epoch 00003: val_loss did not improve\n",
      "Epoch 4/100\n",
      "505/504 [==============================] - 46s 90ms/step - loss: 1.1032 - acc: 0.5850 - val_loss: 1.1673 - val_acc: 0.5701\n",
      "\n",
      "Epoch 00004: val_loss did not improve\n",
      "Epoch 5/100\n",
      "505/504 [==============================] - 47s 94ms/step - loss: 1.0953 - acc: 0.5937 - val_loss: 1.0878 - val_acc: 0.5885\n",
      "\n",
      "Epoch 00005: val_loss improved from 1.16476 to 1.08784, saving model to weights_mini_xception.05-0.59.hdf5\n",
      "Epoch 6/100\n",
      "505/504 [==============================] - 48s 94ms/step - loss: 1.0853 - acc: 0.5941 - val_loss: 1.1133 - val_acc: 0.5851\n",
      "\n",
      "Epoch 00006: val_loss did not improve\n",
      "Epoch 7/100\n",
      "505/504 [==============================] - 51s 102ms/step - loss: 1.0784 - acc: 0.5946 - val_loss: 1.1031 - val_acc: 0.5826\n",
      "\n",
      "Epoch 00007: val_loss did not improve\n",
      "Epoch 8/100\n",
      "505/504 [==============================] - 52s 102ms/step - loss: 1.0683 - acc: 0.6020 - val_loss: 1.0529 - val_acc: 0.5985\n",
      "\n",
      "Epoch 00008: val_loss improved from 1.08784 to 1.05292, saving model to weights_mini_xception.08-0.60.hdf5\n",
      "Epoch 9/100\n",
      "505/504 [==============================] - 51s 101ms/step - loss: 1.0651 - acc: 0.6018 - val_loss: 1.0573 - val_acc: 0.6024\n",
      "\n",
      "Epoch 00009: val_loss did not improve\n",
      "Epoch 10/100\n",
      "505/504 [==============================] - 52s 103ms/step - loss: 1.0572 - acc: 0.6057 - val_loss: 1.1139 - val_acc: 0.5926\n",
      "\n",
      "Epoch 00010: val_loss did not improve\n",
      "Epoch 11/100\n",
      "505/504 [==============================] - 55s 109ms/step - loss: 1.0484 - acc: 0.6079 - val_loss: 1.1474 - val_acc: 0.5899\n",
      "\n",
      "Epoch 00011: val_loss did not improve\n",
      "Epoch 12/100\n",
      "505/504 [==============================] - 55s 110ms/step - loss: 1.0442 - acc: 0.6084 - val_loss: 1.1595 - val_acc: 0.5782\n",
      "\n",
      "Epoch 00012: val_loss did not improve\n",
      "Epoch 13/100\n",
      "505/504 [==============================] - 55s 108ms/step - loss: 1.0392 - acc: 0.6143 - val_loss: 1.0378 - val_acc: 0.6071\n",
      "\n",
      "Epoch 00013: val_loss improved from 1.05292 to 1.03781, saving model to weights_mini_xception.13-0.61.hdf5\n",
      "Epoch 14/100\n",
      "505/504 [==============================] - 55s 109ms/step - loss: 1.0338 - acc: 0.6142 - val_loss: 1.1211 - val_acc: 0.5915\n",
      "\n",
      "Epoch 00014: val_loss did not improve\n",
      "Epoch 15/100\n",
      "505/504 [==============================] - 55s 109ms/step - loss: 1.0293 - acc: 0.6163 - val_loss: 1.1203 - val_acc: 0.5868\n",
      "\n",
      "Epoch 00015: val_loss did not improve\n",
      "Epoch 16/100\n",
      "505/504 [==============================] - 55s 108ms/step - loss: 1.0210 - acc: 0.6188 - val_loss: 1.0716 - val_acc: 0.6049\n",
      "\n",
      "Epoch 00016: val_loss did not improve\n",
      "Epoch 17/100\n",
      "505/504 [==============================] - 55s 109ms/step - loss: 1.0217 - acc: 0.6195 - val_loss: 1.1070 - val_acc: 0.5949\n",
      "\n",
      "Epoch 00017: val_loss did not improve\n",
      "Epoch 18/100\n",
      "505/504 [==============================] - 55s 108ms/step - loss: 1.0141 - acc: 0.6221 - val_loss: 1.0486 - val_acc: 0.5977\n",
      "\n",
      "Epoch 00018: val_loss did not improve\n",
      "Epoch 19/100\n",
      "505/504 [==============================] - 55s 109ms/step - loss: 1.0089 - acc: 0.6245 - val_loss: 1.0647 - val_acc: 0.6007\n",
      "\n",
      "Epoch 00019: val_loss did not improve\n",
      "Epoch 20/100\n",
      "505/504 [==============================] - 55s 109ms/step - loss: 1.0064 - acc: 0.6236 - val_loss: 1.0533 - val_acc: 0.6063\n",
      "\n",
      "Epoch 00020: val_loss did not improve\n",
      "Epoch 21/100\n",
      "505/504 [==============================] - 55s 109ms/step - loss: 0.9971 - acc: 0.6260 - val_loss: 1.0663 - val_acc: 0.5982\n",
      "\n",
      "Epoch 00021: val_loss did not improve\n",
      "Epoch 22/100\n",
      "505/504 [==============================] - 55s 109ms/step - loss: 0.9963 - acc: 0.6244 - val_loss: 1.0934 - val_acc: 0.5993\n",
      "\n",
      "Epoch 00022: val_loss did not improve\n",
      "Epoch 23/100\n",
      "505/504 [==============================] - 55s 109ms/step - loss: 0.9934 - acc: 0.6289 - val_loss: 1.0905 - val_acc: 0.5963\n",
      "\n",
      "Epoch 00023: val_loss did not improve\n",
      "Epoch 24/100\n",
      "505/504 [==============================] - 55s 108ms/step - loss: 0.9924 - acc: 0.6315 - val_loss: 1.0751 - val_acc: 0.6085\n",
      "\n",
      "Epoch 00024: val_loss did not improve\n",
      "Epoch 25/100\n",
      "505/504 [==============================] - 55s 108ms/step - loss: 0.9855 - acc: 0.6327 - val_loss: 1.0509 - val_acc: 0.6080\n",
      "\n",
      "Epoch 00025: val_loss did not improve\n",
      "Epoch 26/100\n",
      "505/504 [==============================] - 55s 108ms/step - loss: 0.9779 - acc: 0.6338 - val_loss: 1.0316 - val_acc: 0.6135\n",
      "\n",
      "Epoch 00026: val_loss improved from 1.03781 to 1.03156, saving model to weights_mini_xception.26-0.61.hdf5\n",
      "Epoch 27/100\n",
      "505/504 [==============================] - 55s 108ms/step - loss: 0.9781 - acc: 0.6346 - val_loss: 1.1076 - val_acc: 0.5982\n",
      "\n",
      "Epoch 00027: val_loss did not improve\n",
      "Epoch 28/100\n",
      "505/504 [==============================] - 55s 109ms/step - loss: 0.9763 - acc: 0.6383 - val_loss: 1.0634 - val_acc: 0.6049\n",
      "\n",
      "Epoch 00028: val_loss did not improve\n",
      "Epoch 29/100\n",
      "505/504 [==============================] - 55s 109ms/step - loss: 0.9737 - acc: 0.6349 - val_loss: 1.0807 - val_acc: 0.6049\n",
      "\n",
      "Epoch 00029: val_loss did not improve\n",
      "Epoch 30/100\n",
      "505/504 [==============================] - 55s 109ms/step - loss: 0.9709 - acc: 0.6379 - val_loss: 1.0311 - val_acc: 0.6133\n",
      "\n",
      "Epoch 00030: val_loss improved from 1.03156 to 1.03106, saving model to weights_mini_xception.30-0.61.hdf5\n",
      "Epoch 31/100\n",
      "505/504 [==============================] - 55s 110ms/step - loss: 0.9655 - acc: 0.6367 - val_loss: 1.0949 - val_acc: 0.5985\n",
      "\n",
      "Epoch 00031: val_loss did not improve\n",
      "Epoch 32/100\n",
      "505/504 [==============================] - 55s 109ms/step - loss: 0.9704 - acc: 0.6371 - val_loss: 1.0402 - val_acc: 0.6141\n",
      "\n",
      "Epoch 00032: val_loss did not improve\n",
      "Epoch 33/100\n",
      "505/504 [==============================] - 55s 108ms/step - loss: 0.9627 - acc: 0.6416 - val_loss: 1.0962 - val_acc: 0.6013\n",
      "\n",
      "Epoch 00033: val_loss did not improve\n",
      "Epoch 34/100\n",
      "505/504 [==============================] - 55s 108ms/step - loss: 0.9584 - acc: 0.6423 - val_loss: 1.0270 - val_acc: 0.6194\n",
      "\n",
      "Epoch 00034: val_loss improved from 1.03106 to 1.02703, saving model to weights_mini_xception.34-0.62.hdf5\n",
      "Epoch 35/100\n",
      "505/504 [==============================] - 55s 110ms/step - loss: 0.9540 - acc: 0.6447 - val_loss: 1.0402 - val_acc: 0.6194\n",
      "\n",
      "Epoch 00035: val_loss did not improve\n",
      "Epoch 36/100\n",
      "505/504 [==============================] - 55s 108ms/step - loss: 0.9565 - acc: 0.6451 - val_loss: 1.0413 - val_acc: 0.6222\n",
      "\n",
      "Epoch 00036: val_loss did not improve\n",
      "Epoch 37/100\n",
      "505/504 [==============================] - 55s 108ms/step - loss: 0.9563 - acc: 0.6465 - val_loss: 1.0395 - val_acc: 0.6236\n",
      "\n",
      "Epoch 00037: val_loss did not improve\n",
      "Epoch 38/100\n",
      "505/504 [==============================] - 55s 108ms/step - loss: 0.9512 - acc: 0.6446 - val_loss: 1.0397 - val_acc: 0.6102\n",
      "\n",
      "Epoch 00038: val_loss did not improve\n",
      "Epoch 39/100\n",
      "505/504 [==============================] - 55s 108ms/step - loss: 0.9490 - acc: 0.6488 - val_loss: 1.0105 - val_acc: 0.6166\n",
      "\n",
      "Epoch 00039: val_loss improved from 1.02703 to 1.01046, saving model to weights_mini_xception.39-0.62.hdf5\n",
      "Epoch 40/100\n",
      "505/504 [==============================] - 55s 108ms/step - loss: 0.9434 - acc: 0.6516 - val_loss: 1.0875 - val_acc: 0.5940\n",
      "\n",
      "Epoch 00040: val_loss did not improve\n",
      "Epoch 41/100\n",
      "505/504 [==============================] - 55s 108ms/step - loss: 0.9390 - acc: 0.6488 - val_loss: 1.0169 - val_acc: 0.6297\n",
      "\n",
      "Epoch 00041: val_loss did not improve\n",
      "Epoch 42/100\n",
      "505/504 [==============================] - 55s 108ms/step - loss: 0.9360 - acc: 0.6508 - val_loss: 1.0584 - val_acc: 0.6088\n",
      "\n",
      "Epoch 00042: val_loss did not improve\n",
      "Epoch 43/100\n",
      "505/504 [==============================] - 55s 109ms/step - loss: 0.9362 - acc: 0.6491 - val_loss: 1.0731 - val_acc: 0.6102\n",
      "\n",
      "Epoch 00043: val_loss did not improve\n",
      "Epoch 44/100\n",
      "505/504 [==============================] - 55s 109ms/step - loss: 0.9367 - acc: 0.6503 - val_loss: 1.0500 - val_acc: 0.6191\n",
      "\n",
      "Epoch 00044: val_loss did not improve\n",
      "Epoch 45/100\n",
      "505/504 [==============================] - 55s 109ms/step - loss: 0.9352 - acc: 0.6521 - val_loss: 1.0601 - val_acc: 0.6166\n",
      "\n",
      "Epoch 00045: val_loss did not improve\n",
      "Epoch 46/100\n",
      "505/504 [==============================] - 55s 109ms/step - loss: 0.9310 - acc: 0.6535 - val_loss: 1.0349 - val_acc: 0.6091\n",
      "\n",
      "Epoch 00046: val_loss did not improve\n",
      "Epoch 47/100\n",
      "505/504 [==============================] - 55s 108ms/step - loss: 0.9309 - acc: 0.6508 - val_loss: 1.0474 - val_acc: 0.6261\n",
      "\n",
      "Epoch 00047: val_loss did not improve\n",
      "Epoch 48/100\n",
      "505/504 [==============================] - 55s 109ms/step - loss: 0.9254 - acc: 0.6505 - val_loss: 1.0320 - val_acc: 0.6216\n",
      "\n",
      "Epoch 00048: val_loss did not improve\n",
      "Epoch 49/100\n",
      "505/504 [==============================] - 55s 108ms/step - loss: 0.9258 - acc: 0.6559 - val_loss: 1.0789 - val_acc: 0.5996\n",
      "\n",
      "Epoch 00049: val_loss did not improve\n",
      "Epoch 50/100\n",
      "505/504 [==============================] - 55s 108ms/step - loss: 0.9209 - acc: 0.6569 - val_loss: 1.0366 - val_acc: 0.6222\n",
      "\n",
      "Epoch 00050: val_loss did not improve\n",
      "Epoch 51/100\n",
      "505/504 [==============================] - 55s 108ms/step - loss: 0.9233 - acc: 0.6548 - val_loss: 1.0601 - val_acc: 0.6158\n",
      "\n",
      "Epoch 00051: val_loss did not improve\n",
      "Epoch 52/100\n",
      "505/504 [==============================] - 55s 108ms/step - loss: 0.9218 - acc: 0.6579 - val_loss: 1.0528 - val_acc: 0.6222\n",
      "\n",
      "Epoch 00052: val_loss did not improve\n",
      "\n",
      "Epoch 00052: ReduceLROnPlateau reducing learning rate to 0.00010000000474974513.\n",
      "Epoch 53/100\n",
      "505/504 [==============================] - 53s 105ms/step - loss: 0.8775 - acc: 0.6753 - val_loss: 0.9758 - val_acc: 0.6453\n",
      "\n",
      "Epoch 00053: val_loss improved from 1.01046 to 0.97584, saving model to weights_mini_xception.53-0.65.hdf5\n",
      "Epoch 54/100\n",
      "505/504 [==============================] - 53s 105ms/step - loss: 0.8595 - acc: 0.6830 - val_loss: 0.9715 - val_acc: 0.6503\n",
      "\n",
      "Epoch 00054: val_loss improved from 0.97584 to 0.97145, saving model to weights_mini_xception.54-0.65.hdf5\n",
      "Epoch 55/100\n",
      "505/504 [==============================] - 53s 105ms/step - loss: 0.8654 - acc: 0.6783 - val_loss: 0.9679 - val_acc: 0.6517\n",
      "\n",
      "Epoch 00055: val_loss improved from 0.97145 to 0.96786, saving model to weights_mini_xception.55-0.65.hdf5\n",
      "Epoch 56/100\n",
      "505/504 [==============================] - 53s 105ms/step - loss: 0.8578 - acc: 0.6797 - val_loss: 0.9743 - val_acc: 0.6461\n",
      "\n",
      "Epoch 00056: val_loss did not improve\n",
      "Epoch 57/100\n",
      "505/504 [==============================] - 53s 105ms/step - loss: 0.8539 - acc: 0.6832 - val_loss: 0.9686 - val_acc: 0.6523\n",
      "\n",
      "Epoch 00057: val_loss did not improve\n",
      "Epoch 58/100\n",
      "505/504 [==============================] - 53s 104ms/step - loss: 0.8519 - acc: 0.6872 - val_loss: 0.9632 - val_acc: 0.6534\n",
      "\n",
      "Epoch 00058: val_loss improved from 0.96786 to 0.96321, saving model to weights_mini_xception.58-0.65.hdf5\n",
      "Epoch 59/100\n",
      "505/504 [==============================] - 53s 105ms/step - loss: 0.8463 - acc: 0.6852 - val_loss: 0.9647 - val_acc: 0.6509\n",
      "\n",
      "Epoch 00059: val_loss did not improve\n",
      "Epoch 60/100\n",
      "505/504 [==============================] - 53s 105ms/step - loss: 0.8446 - acc: 0.6878 - val_loss: 0.9650 - val_acc: 0.6492\n",
      "\n",
      "Epoch 00060: val_loss did not improve\n",
      "Epoch 61/100\n",
      "505/504 [==============================] - 53s 105ms/step - loss: 0.8444 - acc: 0.6886 - val_loss: 0.9734 - val_acc: 0.6503\n",
      "\n",
      "Epoch 00061: val_loss did not improve\n",
      "Epoch 62/100\n",
      "505/504 [==============================] - 53s 105ms/step - loss: 0.8385 - acc: 0.6864 - val_loss: 0.9596 - val_acc: 0.6531\n",
      "\n",
      "Epoch 00062: val_loss improved from 0.96321 to 0.95964, saving model to weights_mini_xception.62-0.65.hdf5\n",
      "Epoch 63/100\n",
      "505/504 [==============================] - 53s 105ms/step - loss: 0.8419 - acc: 0.6848 - val_loss: 0.9616 - val_acc: 0.6537\n",
      "\n",
      "Epoch 00063: val_loss did not improve\n",
      "Epoch 64/100\n",
      "505/504 [==============================] - 53s 105ms/step - loss: 0.8368 - acc: 0.6897 - val_loss: 0.9637 - val_acc: 0.6531\n",
      "\n",
      "Epoch 00064: val_loss did not improve\n",
      "Epoch 65/100\n",
      "505/504 [==============================] - 53s 105ms/step - loss: 0.8430 - acc: 0.6860 - val_loss: 0.9769 - val_acc: 0.6484\n",
      "\n",
      "Epoch 00065: val_loss did not improve\n",
      "Epoch 66/100\n",
      "505/504 [==============================] - 53s 105ms/step - loss: 0.8368 - acc: 0.6913 - val_loss: 0.9699 - val_acc: 0.6539\n",
      "\n",
      "Epoch 00066: val_loss did not improve\n",
      "Epoch 67/100\n",
      "505/504 [==============================] - 53s 105ms/step - loss: 0.8349 - acc: 0.6908 - val_loss: 0.9637 - val_acc: 0.6565\n",
      "\n",
      "Epoch 00067: val_loss did not improve\n",
      "Epoch 68/100\n",
      "505/504 [==============================] - 53s 105ms/step - loss: 0.8323 - acc: 0.6924 - val_loss: 0.9678 - val_acc: 0.6492\n",
      "\n",
      "Epoch 00068: val_loss did not improve\n",
      "Epoch 69/100\n",
      "505/504 [==============================] - 53s 105ms/step - loss: 0.8368 - acc: 0.6913 - val_loss: 0.9725 - val_acc: 0.6478\n",
      "\n",
      "Epoch 00069: val_loss did not improve\n",
      "Epoch 70/100\n",
      "505/504 [==============================] - 53s 104ms/step - loss: 0.8408 - acc: 0.6894 - val_loss: 0.9730 - val_acc: 0.6492\n",
      "\n",
      "Epoch 00070: val_loss did not improve\n",
      "Epoch 71/100\n",
      "505/504 [==============================] - 53s 104ms/step - loss: 0.8272 - acc: 0.6951 - val_loss: 0.9722 - val_acc: 0.6495\n",
      "\n",
      "Epoch 00071: val_loss did not improve\n",
      "Epoch 72/100\n",
      "505/504 [==============================] - 53s 104ms/step - loss: 0.8358 - acc: 0.6923 - val_loss: 0.9761 - val_acc: 0.6500\n",
      "\n",
      "Epoch 00072: val_loss did not improve\n",
      "Epoch 73/100\n",
      "505/504 [==============================] - 53s 104ms/step - loss: 0.8316 - acc: 0.6925 - val_loss: 0.9845 - val_acc: 0.6450\n",
      "\n",
      "Epoch 00073: val_loss did not improve\n",
      "Epoch 74/100\n",
      "505/504 [==============================] - 53s 104ms/step - loss: 0.8277 - acc: 0.6932 - val_loss: 0.9689 - val_acc: 0.6542\n",
      "\n",
      "Epoch 00074: val_loss did not improve\n",
      "Epoch 75/100\n",
      "505/504 [==============================] - 53s 104ms/step - loss: 0.8289 - acc: 0.6926 - val_loss: 0.9719 - val_acc: 0.6500\n",
      "\n",
      "Epoch 00075: val_loss did not improve\n",
      "\n",
      "Epoch 00075: ReduceLROnPlateau reducing learning rate to 1.0000000474974514e-05.\n",
      "Epoch 76/100\n",
      "505/504 [==============================] - 53s 104ms/step - loss: 0.8274 - acc: 0.6921 - val_loss: 0.9693 - val_acc: 0.6495\n",
      "\n",
      "Epoch 00076: val_loss did not improve\n",
      "Epoch 77/100\n",
      "505/504 [==============================] - 53s 104ms/step - loss: 0.8240 - acc: 0.6941 - val_loss: 0.9696 - val_acc: 0.6503\n",
      "\n",
      "Epoch 00077: val_loss did not improve\n",
      "Epoch 78/100\n",
      "505/504 [==============================] - 53s 104ms/step - loss: 0.8212 - acc: 0.6956 - val_loss: 0.9702 - val_acc: 0.6495\n",
      "\n",
      "Epoch 00078: val_loss did not improve\n",
      "Epoch 79/100\n",
      "505/504 [==============================] - 53s 104ms/step - loss: 0.8218 - acc: 0.6965 - val_loss: 0.9692 - val_acc: 0.6523\n",
      "\n",
      "Epoch 00079: val_loss did not improve\n",
      "Epoch 80/100\n",
      "505/504 [==============================] - 53s 104ms/step - loss: 0.8257 - acc: 0.6946 - val_loss: 0.9684 - val_acc: 0.6553\n",
      "\n",
      "Epoch 00080: val_loss did not improve\n",
      "Epoch 81/100\n",
      "505/504 [==============================] - 53s 104ms/step - loss: 0.8232 - acc: 0.6958 - val_loss: 0.9705 - val_acc: 0.6514\n",
      "\n",
      "Epoch 00081: val_loss did not improve\n",
      "Epoch 82/100\n",
      "505/504 [==============================] - 53s 104ms/step - loss: 0.8156 - acc: 0.7001 - val_loss: 0.9702 - val_acc: 0.6542\n",
      "\n",
      "Epoch 00082: val_loss did not improve\n",
      "Epoch 83/100\n",
      "505/504 [==============================] - 53s 105ms/step - loss: 0.8191 - acc: 0.6975 - val_loss: 0.9705 - val_acc: 0.6539\n",
      "\n",
      "Epoch 00083: val_loss did not improve\n",
      "Epoch 84/100\n",
      "505/504 [==============================] - 53s 104ms/step - loss: 0.8232 - acc: 0.6956 - val_loss: 0.9695 - val_acc: 0.6520\n",
      "\n",
      "Epoch 00084: val_loss did not improve\n",
      "Epoch 85/100\n",
      "505/504 [==============================] - 53s 104ms/step - loss: 0.8191 - acc: 0.6940 - val_loss: 0.9711 - val_acc: 0.6525\n",
      "\n",
      "Epoch 00085: val_loss did not improve\n",
      "Epoch 86/100\n",
      "505/504 [==============================] - 53s 104ms/step - loss: 0.8210 - acc: 0.6969 - val_loss: 0.9692 - val_acc: 0.6531\n",
      "\n",
      "Epoch 00086: val_loss did not improve\n",
      "Epoch 87/100\n",
      "505/504 [==============================] - 53s 104ms/step - loss: 0.8206 - acc: 0.6978 - val_loss: 0.9691 - val_acc: 0.6551\n",
      "\n",
      "Epoch 00087: val_loss did not improve\n",
      "\n",
      "Epoch 00087: ReduceLROnPlateau reducing learning rate to 1.0000000656873453e-06.\n",
      "Epoch 88/100\n",
      "505/504 [==============================] - 53s 104ms/step - loss: 0.8244 - acc: 0.6955 - val_loss: 0.9701 - val_acc: 0.6534\n",
      "\n",
      "Epoch 00088: val_loss did not improve\n",
      "Epoch 89/100\n",
      "505/504 [==============================] - 53s 104ms/step - loss: 0.8234 - acc: 0.6945 - val_loss: 0.9688 - val_acc: 0.6542\n",
      "\n",
      "Epoch 00089: val_loss did not improve\n",
      "Epoch 90/100\n",
      "505/504 [==============================] - 53s 104ms/step - loss: 0.8234 - acc: 0.6942 - val_loss: 0.9695 - val_acc: 0.6534\n",
      "\n",
      "Epoch 00090: val_loss did not improve\n",
      "Epoch 91/100\n",
      "505/504 [==============================] - 53s 104ms/step - loss: 0.8217 - acc: 0.6948 - val_loss: 0.9706 - val_acc: 0.6542\n",
      "\n",
      "Epoch 00091: val_loss did not improve\n",
      "Epoch 92/100\n",
      "505/504 [==============================] - 53s 104ms/step - loss: 0.8207 - acc: 0.6973 - val_loss: 0.9688 - val_acc: 0.6542\n",
      "\n",
      "Epoch 00092: val_loss did not improve\n",
      "Epoch 93/100\n",
      "505/504 [==============================] - 52s 104ms/step - loss: 0.8194 - acc: 0.6966 - val_loss: 0.9687 - val_acc: 0.6545\n",
      "\n",
      "Epoch 00093: val_loss did not improve\n",
      "Epoch 94/100\n",
      "505/504 [==============================] - 53s 104ms/step - loss: 0.8245 - acc: 0.6970 - val_loss: 0.9689 - val_acc: 0.6531\n",
      "\n",
      "Epoch 00094: val_loss did not improve\n",
      "Epoch 95/100\n",
      "505/504 [==============================] - 53s 104ms/step - loss: 0.8230 - acc: 0.6935 - val_loss: 0.9695 - val_acc: 0.6545\n",
      "\n",
      "Epoch 00095: val_loss did not improve\n",
      "Epoch 96/100\n",
      "505/504 [==============================] - 53s 104ms/step - loss: 0.8164 - acc: 0.6962 - val_loss: 0.9687 - val_acc: 0.6537\n",
      "\n",
      "Epoch 00096: val_loss did not improve\n",
      "Epoch 97/100\n",
      "505/504 [==============================] - 52s 104ms/step - loss: 0.8204 - acc: 0.6956 - val_loss: 0.9694 - val_acc: 0.6539\n",
      "\n",
      "Epoch 00097: val_loss did not improve\n",
      "Epoch 98/100\n",
      "505/504 [==============================] - 53s 104ms/step - loss: 0.8196 - acc: 0.6964 - val_loss: 0.9689 - val_acc: 0.6537\n",
      "\n",
      "Epoch 00098: val_loss did not improve\n",
      "Epoch 99/100\n",
      "505/504 [==============================] - 53s 104ms/step - loss: 0.8195 - acc: 0.6970 - val_loss: 0.9688 - val_acc: 0.6531\n",
      "\n",
      "Epoch 00099: val_loss did not improve\n",
      "\n",
      "Epoch 00099: ReduceLROnPlateau reducing learning rate to 1.0000001111620805e-07.\n",
      "Epoch 100/100\n",
      "505/504 [==============================] - 53s 104ms/step - loss: 0.8234 - acc: 0.6939 - val_loss: 0.9688 - val_acc: 0.6525\n",
      "\n",
      "Epoch 00100: val_loss did not improve\n"
     ]
    }
   ],
   "source": [
    "model.fit_generator(data_generator.flow(train_big, train_label_big,\n",
    "                                            batch_size),\n",
    "                        steps_per_epoch=len(train_big) / batch_size,\n",
    "                        epochs=num_epochs, verbose=1, callbacks=callbacks,\n",
    "                        validation_data=[priv_test_ds, priv_test_labels])\n",
    "model.save_weights(\"weights_110_epochs_xception.hdf5\")"
   ]
  },
  {
   "cell_type": "code",
   "execution_count": 30,
   "metadata": {
    "collapsed": true
   },
   "outputs": [],
   "source": [
    "model = mini_XCEPTION((48, 48, 1), 7)\n",
    "model.load_weights(\"weights_mini_xception.62-0.65.hdf5\")\n",
    "model.compile(optimizer='adam', loss='categorical_crossentropy',\n",
    "              metrics=['accuracy'])"
   ]
  },
  {
   "cell_type": "code",
   "execution_count": 31,
   "metadata": {
    "collapsed": false
   },
   "outputs": [
    {
     "name": "stdout",
     "output_type": "stream",
     "text": [
      "3589/3589 [==============================] - 2s 472us/step\n"
     ]
    },
    {
     "data": {
      "text/plain": [
       "[0.9596387829229871, 0.6531067149789926]"
      ]
     },
     "execution_count": 31,
     "metadata": {},
     "output_type": "execute_result"
    }
   ],
   "source": [
    "model.evaluate(priv_test_ds, priv_test_labels)"
   ]
  },
  {
   "cell_type": "code",
   "execution_count": 32,
   "metadata": {
    "collapsed": true
   },
   "outputs": [],
   "source": [
    "import time"
   ]
  },
  {
   "cell_type": "code",
   "execution_count": 40,
   "metadata": {
    "collapsed": false
   },
   "outputs": [
    {
     "name": "stdout",
     "output_type": "stream",
     "text": [
      "-0.004477500915527344\n"
     ]
    }
   ],
   "source": [
    "start = time.time()\n",
    "model.predict(np.array([priv_test_ds[2]]))\n",
    "print(start - time.time())"
   ]
  }
 ],
 "metadata": {
  "anaconda-cloud": {},
  "kernelspec": {
   "display_name": "Python (tensorflow-gpu)",
   "language": "python",
   "name": "tensorflow-gpu"
  },
  "language_info": {
   "codemirror_mode": {
    "name": "ipython",
    "version": 3
   },
   "file_extension": ".py",
   "mimetype": "text/x-python",
   "name": "python",
   "nbconvert_exporter": "python",
   "pygments_lexer": "ipython3",
   "version": "3.6.2"
  }
 },
 "nbformat": 4,
 "nbformat_minor": 1
}
